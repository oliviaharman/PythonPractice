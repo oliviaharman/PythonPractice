{
 "cells": [
  {
   "cell_type": "code",
   "execution_count": null,
   "id": "dd3074df",
   "metadata": {},
   "outputs": [],
   "source": []
  },
  {
   "cell_type": "markdown",
   "id": "684fdbc7",
   "metadata": {},
   "source": [
    "# Molssi Workshop\n",
    "## Introduction\n",
    "This lesson covers basics like variable creation and assignment and using the Jupyter notebook."
   ]
  },
  {
   "cell_type": "code",
   "execution_count": 26,
   "id": "d36436bd",
   "metadata": {},
   "outputs": [
    {
     "data": {
      "text/plain": [
       "10"
      ]
     },
     "execution_count": 26,
     "metadata": {},
     "output_type": "execute_result"
    }
   ],
   "source": [
    "3 + 7"
   ]
  },
  {
   "cell_type": "code",
   "execution_count": 27,
   "id": "da4e595e",
   "metadata": {},
   "outputs": [
    {
     "ename": "NameError",
     "evalue": "name 'variable_value' is not defined",
     "output_type": "error",
     "traceback": [
      "\u001b[0;31m---------------------------------------------------------------------------\u001b[0m",
      "\u001b[0;31mNameError\u001b[0m                                 Traceback (most recent call last)",
      "Input \u001b[0;32mIn [27]\u001b[0m, in \u001b[0;36m<cell line: 1>\u001b[0;34m()\u001b[0m\n\u001b[0;32m----> 1\u001b[0m variable_name \u001b[38;5;241m=\u001b[39m \u001b[43mvariable_value\u001b[49m\n",
      "\u001b[0;31mNameError\u001b[0m: name 'variable_value' is not defined"
     ]
    }
   ],
   "source": [
    "variable_name = variable_value"
   ]
  },
  {
   "cell_type": "code",
   "execution_count": 28,
   "id": "0e8ae03b",
   "metadata": {},
   "outputs": [],
   "source": [
    "# Calculations using the Michaelis-Menten Equation\n",
    "Km = 15.0            # Km is 15 micromolar\n",
    "Vmax = 100.0         # Vmax is 100.0 nanomoles/second\n",
    "substrate_concentration = 8.0\n",
    "velocity = Vmax * substrate_concentration/(Km + substrate_concentration)"
   ]
  },
  {
   "cell_type": "code",
   "execution_count": 29,
   "id": "c1e286de",
   "metadata": {},
   "outputs": [
    {
     "name": "stdout",
     "output_type": "stream",
     "text": [
      "34.78260869565217\n"
     ]
    }
   ],
   "source": [
    "print(velocity)"
   ]
  },
  {
   "cell_type": "code",
   "execution_count": 30,
   "id": "e5eae620",
   "metadata": {},
   "outputs": [
    {
     "name": "stdout",
     "output_type": "stream",
     "text": [
      "34.78260869565217\n",
      "34.78260869565217\n"
     ]
    }
   ],
   "source": [
    "print(velocity)\n",
    "velocity * 1000\n",
    "print(velocity)"
   ]
  },
  {
   "cell_type": "code",
   "execution_count": 31,
   "id": "b8a23359",
   "metadata": {},
   "outputs": [
    {
     "name": "stdout",
     "output_type": "stream",
     "text": [
      "34.78260869565217\n",
      "2086.9565217391305\n"
     ]
    }
   ],
   "source": [
    "print(velocity)\n",
    "velocity = velocity * 60\n",
    "print(velocity)"
   ]
  },
  {
   "cell_type": "code",
   "execution_count": 32,
   "id": "4fcf9a7d",
   "metadata": {},
   "outputs": [
    {
     "name": "stdout",
     "output_type": "stream",
     "text": [
      "34.78260869565217\n",
      "2086.9565217391305\n"
     ]
    }
   ],
   "source": [
    "# change velocity back\n",
    "velocity = velocity / 60\n",
    "v_nmols_per_min = velocity * 60\n",
    "print(velocity)\n",
    "print(v_nmols_per_min)"
   ]
  },
  {
   "cell_type": "code",
   "execution_count": 33,
   "id": "03e4c0cb",
   "metadata": {},
   "outputs": [
    {
     "name": "stdout",
     "output_type": "stream",
     "text": [
      "34.78260869565217\n"
     ]
    }
   ],
   "source": [
    "# I can assign all these variables at once\n",
    "Km, Vmax, substrate_concentration = 15.0, 100.0, 8.0\n",
    "velocity = Vmax * substrate_concentration/(Km + substrate_concentration)\n",
    "print(velocity)"
   ]
  },
  {
   "cell_type": "code",
   "execution_count": 34,
   "id": "716b70bb",
   "metadata": {},
   "outputs": [
    {
     "data": {
      "text/plain": [
       "float"
      ]
     },
     "execution_count": 34,
     "metadata": {},
     "output_type": "execute_result"
    }
   ],
   "source": [
    "type(velocity)"
   ]
  },
  {
   "cell_type": "code",
   "execution_count": 35,
   "id": "5d0a1cf2",
   "metadata": {},
   "outputs": [
    {
     "data": {
      "text/plain": [
       "str"
      ]
     },
     "execution_count": 35,
     "metadata": {},
     "output_type": "execute_result"
    }
   ],
   "source": [
    "velocity_string = str(velocity)\n",
    "type(velocity_string)"
   ]
  },
  {
   "cell_type": "code",
   "execution_count": 36,
   "id": "032f5131",
   "metadata": {},
   "outputs": [
    {
     "name": "stdout",
     "output_type": "stream",
     "text": [
      "This list contains 12 substrate concentrations\n"
     ]
    }
   ],
   "source": [
    "# This is a list\n",
    "substrate_concs = [1.0, 2.0, 3.0, 4.0, 6.0, 8.0, 10.0, 15.0, 20.0, 30.0, 50.0, 75.0]\n",
    "# I can determine its length\n",
    "s_length = len(substrate_concs)\n",
    "# Print the length of the list\n",
    "print('This list contains', s_length, 'substrate concentrations')"
   ]
  },
  {
   "cell_type": "code",
   "execution_count": 37,
   "id": "b0e0ed0f",
   "metadata": {},
   "outputs": [
    {
     "name": "stdout",
     "output_type": "stream",
     "text": [
      "1.0\n"
     ]
    }
   ],
   "source": [
    "# Print the first element of this list\n",
    "print(substrate_concs[0])"
   ]
  },
  {
   "cell_type": "code",
   "execution_count": 38,
   "id": "1db653e9",
   "metadata": {},
   "outputs": [
    {
     "ename": "IndexError",
     "evalue": "list index out of range",
     "output_type": "error",
     "traceback": [
      "\u001b[0;31m---------------------------------------------------------------------------\u001b[0m",
      "\u001b[0;31mIndexError\u001b[0m                                Traceback (most recent call last)",
      "Input \u001b[0;32mIn [38]\u001b[0m, in \u001b[0;36m<cell line: 2>\u001b[0;34m()\u001b[0m\n\u001b[1;32m      1\u001b[0m \u001b[38;5;66;03m# Convert the last substrate concentration to nM\u001b[39;00m\n\u001b[0;32m----> 2\u001b[0m concentration_nM \u001b[38;5;241m=\u001b[39m \u001b[43msubstrate_concs\u001b[49m\u001b[43m[\u001b[49m\u001b[38;5;241;43m12\u001b[39;49m\u001b[43m]\u001b[49m \u001b[38;5;241m*\u001b[39m \u001b[38;5;241m100\u001b[39m\n\u001b[1;32m      3\u001b[0m \u001b[38;5;28mprint\u001b[39m(concentration_nM)\n",
      "\u001b[0;31mIndexError\u001b[0m: list index out of range"
     ]
    }
   ],
   "source": [
    "# Convert the last substrate concentration to nM\n",
    "concentration_nM = substrate_concs[12] * 100\n",
    "print(concentration_nM)"
   ]
  },
  {
   "cell_type": "code",
   "execution_count": 39,
   "id": "351e9adf",
   "metadata": {},
   "outputs": [
    {
     "ename": "NameError",
     "evalue": "name 'list_name' is not defined",
     "output_type": "error",
     "traceback": [
      "\u001b[0;31m---------------------------------------------------------------------------\u001b[0m",
      "\u001b[0;31mNameError\u001b[0m                                 Traceback (most recent call last)",
      "Input \u001b[0;32mIn [39]\u001b[0m, in \u001b[0;36m<cell line: 1>\u001b[0;34m()\u001b[0m\n\u001b[0;32m----> 1\u001b[0m new_list \u001b[38;5;241m=\u001b[39m \u001b[43mlist_name\u001b[49m[start:end]\n",
      "\u001b[0;31mNameError\u001b[0m: name 'list_name' is not defined"
     ]
    }
   ],
   "source": [
    "new_list = list_name[start:end]"
   ]
  },
  {
   "cell_type": "code",
   "execution_count": 40,
   "id": "9ec3d67c",
   "metadata": {},
   "outputs": [],
   "source": [
    "short_list = substrate_concs[0:3]"
   ]
  },
  {
   "cell_type": "code",
   "execution_count": 41,
   "id": "ed4e6655",
   "metadata": {},
   "outputs": [
    {
     "name": "stdout",
     "output_type": "stream",
     "text": [
      "[1.0, 2.0, 3.0]\n"
     ]
    }
   ],
   "source": [
    "print(short_list)"
   ]
  },
  {
   "cell_type": "code",
   "execution_count": 42,
   "id": "5789d0ac",
   "metadata": {},
   "outputs": [
    {
     "name": "stdout",
     "output_type": "stream",
     "text": [
      "[1.0, 2.0, 3.0, 4.0, 6.0, 8.0, 10.0, 15.0, 20.0, 30.0, 50.0, 75.0]\n",
      "[1.0, 2.0, 3.0, 4.0, 6.0, 8.0, 10.0, 15.0, 20.0, 30.0, 50.0, 75.0]\n"
     ]
    }
   ],
   "source": [
    "print(substrate_concs)\n",
    "substrate_concs[0:3]\n",
    "print(substrate_concs)"
   ]
  },
  {
   "cell_type": "code",
   "execution_count": 43,
   "id": "4779e270",
   "metadata": {},
   "outputs": [
    {
     "ename": "SyntaxError",
     "evalue": "invalid syntax (1929208127.py, line 2)",
     "output_type": "error",
     "traceback": [
      "\u001b[0;36m  Input \u001b[0;32mIn [43]\u001b[0;36m\u001b[0m\n\u001b[0;31m    do things using variable\u001b[0m\n\u001b[0m       ^\u001b[0m\n\u001b[0;31mSyntaxError\u001b[0m\u001b[0;31m:\u001b[0m invalid syntax\n"
     ]
    }
   ],
   "source": [
    "for variable in list:\n",
    "    do things using variable"
   ]
  },
  {
   "cell_type": "code",
   "execution_count": 44,
   "id": "a6b5beca",
   "metadata": {},
   "outputs": [
    {
     "name": "stdout",
     "output_type": "stream",
     "text": [
      "6.25\n",
      "11.764705882352942\n",
      "16.666666666666668\n",
      "21.05263157894737\n",
      "28.571428571428573\n",
      "34.78260869565217\n",
      "40.0\n",
      "50.0\n",
      "57.142857142857146\n",
      "66.66666666666667\n",
      "76.92307692307692\n",
      "83.33333333333333\n"
     ]
    }
   ],
   "source": [
    "substrate_concs = [1.0, 2.0, 3.0, 4.0, 6.0, 8.0, 10.0, 15.0, 20.0, 30.0, 50.0, 75.0]\n",
    "for number in substrate_concs:\n",
    "    velocity = Vmax * number / (Km + number)\n",
    "    print(velocity)"
   ]
  },
  {
   "cell_type": "code",
   "execution_count": 45,
   "id": "85218673",
   "metadata": {},
   "outputs": [
    {
     "ename": "NameError",
     "evalue": "name 'list_name' is not defined",
     "output_type": "error",
     "traceback": [
      "\u001b[0;31m---------------------------------------------------------------------------\u001b[0m",
      "\u001b[0;31mNameError\u001b[0m                                 Traceback (most recent call last)",
      "Input \u001b[0;32mIn [45]\u001b[0m, in \u001b[0;36m<cell line: 1>\u001b[0;34m()\u001b[0m\n\u001b[0;32m----> 1\u001b[0m \u001b[43mlist_name\u001b[49m\u001b[38;5;241m.\u001b[39mappend(new_thing)\n",
      "\u001b[0;31mNameError\u001b[0m: name 'list_name' is not defined"
     ]
    }
   ],
   "source": [
    "list_name.append(new_thing)"
   ]
  },
  {
   "cell_type": "code",
   "execution_count": 46,
   "id": "e3abf55c",
   "metadata": {},
   "outputs": [
    {
     "name": "stdout",
     "output_type": "stream",
     "text": [
      "[6.25, 11.764705882352942, 16.666666666666668, 21.05263157894737, 28.571428571428573, 34.78260869565217, 40.0, 50.0, 57.142857142857146, 66.66666666666667, 76.92307692307692, 83.33333333333333]\n"
     ]
    }
   ],
   "source": [
    "velocities = []\n",
    "substrate_concs = [1.0, 2.0, 3.0, 4.0, 6.0, 8.0, 10.0, 15.0, 20.0, 30.0, 50.0, 75.0]\n",
    "for number in substrate_concs:\n",
    "    V = Vmax* number / (Km + number)\n",
    "    velocities.append(V)\n",
    "    \n",
    "print(velocities)    "
   ]
  },
  {
   "cell_type": "code",
   "execution_count": 47,
   "id": "ef5619d5",
   "metadata": {},
   "outputs": [
    {
     "name": "stdout",
     "output_type": "stream",
     "text": [
      "[6.25, 11.764705882352942, 16.666666666666668]\n"
     ]
    }
   ],
   "source": [
    "Km, Vmax = 15.0, 100.0\n",
    "linear_MM = []\n",
    "\n",
    "substrate_concs = [1.0, 2.0, 3.0, 4.0, 6.0, 8.0, 10.0, 15.0, 20.0, 30.0, 50.0, 75.0, 100.0]\n",
    "for number in substrate_concs:\n",
    "    if number < Km/4:\n",
    "        V_linear = Vmax * number / (Km + number)\n",
    "        linear_MM.append(V_linear)\n",
    "        \n",
    "print(linear_MM)"
   ]
  },
  {
   "cell_type": "code",
   "execution_count": 48,
   "id": "ad77aea5",
   "metadata": {},
   "outputs": [
    {
     "name": "stdout",
     "output_type": "stream",
     "text": [
      "[6.25, 11.764705882352942, 16.666666666666668, 21.05263157894737, 28.571428571428573, 34.78260869565217, 40.0, 50.0]\n"
     ]
    }
   ],
   "source": [
    "substrate_concs = [1.0, 2.0, 3.0, 4.0, 6.0, 8.0, 10.0, 15.0, 20.0, 30.0, 50.0, 75.0, 100.0]\n",
    "v_at_or_below_km = []\n",
    "for number in substrate_concs:\n",
    "    if number <= Km or number == Km:\n",
    "        velocity = Vmax * number / (Km + number)\n",
    "        v_at_or_below_km.append(velocity)\n",
    "        \n",
    "print(v_at_or_below_km)        "
   ]
  },
  {
   "cell_type": "code",
   "execution_count": 49,
   "id": "d05c64ac",
   "metadata": {},
   "outputs": [
    {
     "name": "stdout",
     "output_type": "stream",
     "text": [
      "[1.0, 2.0, 5.0, 14.0, 20.0]\n"
     ]
    }
   ],
   "source": [
    "conc_list = ['1.0', 2.0, 5.0, '14.0', 20.0]\n",
    "number_list = []\n",
    "for item in conc_list:\n",
    "    if type(item) is str:\n",
    "        item = float(item)\n",
    "    number_list.append(item)\n",
    "\n",
    "print(number_list)"
   ]
  },
  {
   "cell_type": "code",
   "execution_count": 50,
   "id": "c99ffc3f",
   "metadata": {},
   "outputs": [
    {
     "name": "stdout",
     "output_type": "stream",
     "text": [
      "AP_kin.csv                  chymotrypsin_kinetics.csv\r\n",
      "AP_kinetics.csv             chymotrypsin_kinetics.xlsx\r\n",
      "Ground_water.csv            enzyme_kinetics.csv\r\n",
      "MM_data.csv                 enzyme_kinetics.xlsx\r\n",
      "MM_data1.csv                protein_assay.csv\r\n",
      "MM_data_for_NLRpt2.csv      protein_assay2.csv\r\n",
      "\u001b[34mPDB_files\u001b[m\u001b[m/                  protein_samples.csv\r\n",
      "chymo_MM_data.csv           thrombin_with_ligands.csv\r\n"
     ]
    }
   ],
   "source": [
    "ls data"
   ]
  },
  {
   "cell_type": "code",
   "execution_count": 51,
   "id": "82f086ae",
   "metadata": {},
   "outputs": [
    {
     "name": "stdout",
     "output_type": "stream",
     "text": [
      "1ddo.pdb  3iva.pdb  4eyr.pdb  5veu.pdb  7tim.pdb\r\n",
      "2pkr.pdb  3vnd.pdb  5eu9.pdb  6zt7.pdb\r\n"
     ]
    }
   ],
   "source": [
    "ls data/PDB_files"
   ]
  },
  {
   "cell_type": "code",
   "execution_count": 52,
   "id": "23c1f1ac",
   "metadata": {},
   "outputs": [
    {
     "data": {
      "text/plain": [
       "'/Users/olivia/Desktop/biochemist-python'"
      ]
     },
     "execution_count": 52,
     "metadata": {},
     "output_type": "execute_result"
    }
   ],
   "source": [
    "pwd"
   ]
  },
  {
   "cell_type": "code",
   "execution_count": 53,
   "id": "0d656ca7",
   "metadata": {},
   "outputs": [
    {
     "name": "stdout",
     "output_type": "stream",
     "text": [
      "data/PDB_files/4eyr.pdb\n"
     ]
    }
   ],
   "source": [
    "import os\n",
    "\n",
    "protein_file = os.path.join('data', 'PDB_files', '4eyr.pdb')\n",
    "print(protein_file)"
   ]
  },
  {
   "cell_type": "code",
   "execution_count": 54,
   "id": "7f4ee052",
   "metadata": {},
   "outputs": [],
   "source": [
    "outfile = open (protein_file,\"r\")\n",
    "data = outfile.readlines()"
   ]
  },
  {
   "cell_type": "code",
   "execution_count": 55,
   "id": "8d47c660",
   "metadata": {},
   "outputs": [],
   "source": [
    "outfile.close()"
   ]
  },
  {
   "cell_type": "code",
   "execution_count": 56,
   "id": "bbdb9a5f",
   "metadata": {},
   "outputs": [],
   "source": [
    "with open(protein_file,\"r\") as outfile:\n",
    "    data = outfile.readlines()"
   ]
  },
  {
   "cell_type": "code",
   "execution_count": 57,
   "id": "72e89dfc",
   "metadata": {},
   "outputs": [
    {
     "name": "stdout",
     "output_type": "stream",
     "text": [
      "2232\n"
     ]
    }
   ],
   "source": [
    "print(len(data))"
   ]
  },
  {
   "cell_type": "code",
   "execution_count": 58,
   "id": "ceb1ad54",
   "metadata": {},
   "outputs": [
    {
     "name": "stdout",
     "output_type": "stream",
     "text": [
      "HETNAM     RIT RITONAVIR                                                        \n",
      "\n"
     ]
    }
   ],
   "source": [
    "for line in data:\n",
    "    if 'HETNAM' in line:\n",
    "        HETNAM_line = line\n",
    "        print(HETNAM_line)"
   ]
  },
  {
   "cell_type": "code",
   "execution_count": 59,
   "id": "520caca1",
   "metadata": {},
   "outputs": [
    {
     "data": {
      "text/plain": [
       "['HETNAM', 'RIT', 'RITONAVIR']"
      ]
     },
     "execution_count": 59,
     "metadata": {},
     "output_type": "execute_result"
    }
   ],
   "source": [
    "HETNAM_line.split()"
   ]
  },
  {
   "cell_type": "code",
   "execution_count": 60,
   "id": "a0ab5aca",
   "metadata": {},
   "outputs": [
    {
     "name": "stdout",
     "output_type": "stream",
     "text": [
      "['HETNAM', 'RIT', 'RITONAVIR']\n"
     ]
    }
   ],
   "source": [
    "words = HETNAM_line.split()\n",
    "print(words)"
   ]
  },
  {
   "cell_type": "code",
   "execution_count": 61,
   "id": "059e6b36",
   "metadata": {},
   "outputs": [
    {
     "name": "stdout",
     "output_type": "stream",
     "text": [
      "RIT\n"
     ]
    }
   ],
   "source": [
    "abbrev = words[1]\n",
    "print(abbrev)"
   ]
  },
  {
   "cell_type": "code",
   "execution_count": 62,
   "id": "a611428e",
   "metadata": {},
   "outputs": [
    {
     "name": "stdout",
     "output_type": "stream",
     "text": [
      "REMARK   3   PROTEIN ATOMS            : 1514                                    \n",
      "\n"
     ]
    }
   ],
   "source": [
    "for line in data:\n",
    "    if 'PROTEIN ATOMS' in line:\n",
    "        PROTEIN_ATOM_line = line\n",
    "        words = PROTEIN_ATOM_line.split()\n",
    "        print(PROTEIN_ATOM_line)"
   ]
  },
  {
   "cell_type": "code",
   "execution_count": 63,
   "id": "9d5a4e2c",
   "metadata": {},
   "outputs": [
    {
     "name": "stdout",
     "output_type": "stream",
     "text": [
      "['REMARK   3   PROTEIN ATOMS            ', ' 1514                                    \\n']\n"
     ]
    }
   ],
   "source": [
    "for line in data:\n",
    "    if 'PROTEIN ATOMS' in line:\n",
    "        PROTEIN_ATOM_line\n",
    "        words = PROTEIN_ATOM_line.split(':')\n",
    "        print(words)"
   ]
  },
  {
   "cell_type": "code",
   "execution_count": 64,
   "id": "fcaa465a",
   "metadata": {},
   "outputs": [
    {
     "name": "stdout",
     "output_type": "stream",
     "text": [
      " 1514                                    \n",
      "\n"
     ]
    }
   ],
   "source": [
    "atoms = words[1]\n",
    "print(atoms)"
   ]
  },
  {
   "cell_type": "code",
   "execution_count": 65,
   "id": "bdef80a5",
   "metadata": {},
   "outputs": [
    {
     "ename": "TypeError",
     "evalue": "unsupported operand type(s) for /: 'str' and 'int'",
     "output_type": "error",
     "traceback": [
      "\u001b[0;31m---------------------------------------------------------------------------\u001b[0m",
      "\u001b[0;31mTypeError\u001b[0m                                 Traceback (most recent call last)",
      "Input \u001b[0;32mIn [65]\u001b[0m, in \u001b[0;36m<cell line: 1>\u001b[0;34m()\u001b[0m\n\u001b[0;32m----> 1\u001b[0m \u001b[43matoms\u001b[49m\u001b[43m \u001b[49m\u001b[38;5;241;43m/\u001b[39;49m\u001b[43m \u001b[49m\u001b[38;5;241;43m2\u001b[39;49m\n",
      "\u001b[0;31mTypeError\u001b[0m: unsupported operand type(s) for /: 'str' and 'int'"
     ]
    }
   ],
   "source": [
    "atoms / 2"
   ]
  },
  {
   "cell_type": "code",
   "execution_count": 66,
   "id": "d69e3ad0",
   "metadata": {},
   "outputs": [
    {
     "data": {
      "text/plain": [
       "757.0"
      ]
     },
     "execution_count": 66,
     "metadata": {},
     "output_type": "execute_result"
    }
   ],
   "source": [
    "atoms = float(atoms)\n",
    "atoms / 2"
   ]
  },
  {
   "cell_type": "code",
   "execution_count": 67,
   "id": "152e3d87",
   "metadata": {},
   "outputs": [],
   "source": [
    "atoms = float(words[1])"
   ]
  },
  {
   "cell_type": "code",
   "execution_count": 68,
   "id": "f0e6a12a",
   "metadata": {},
   "outputs": [
    {
     "name": "stdout",
     "output_type": "stream",
     "text": [
      "data/PDB_files/4eyr.pdb\n",
      "EXPERIMENT TYPE : X-RAY DIFFRACTION\n",
      "TEMPERATURE (KELVIN) : 298\n"
     ]
    }
   ],
   "source": [
    "protein_file = os.path.join('data', 'PDB_files', '4eyr.pdb')\n",
    "print(protein_file)\n",
    "with open (protein_file, \"r\") as outfile:\n",
    "    for line in data:\n",
    "        if 'EXPERIMENT TYPE' in line:\n",
    "            exp_type_line = line\n",
    "            words = exp_type_line.split()\n",
    "            words[2] = words[2].rstrip('.')\n",
    "            words[-1] = words[-1].rstrip('.')\n",
    "            print(words[2], words[3], ':', words[5], words[6])\n",
    "        if 'KELVIN' in line:\n",
    "            temp_line = line\n",
    "            words = temp_line.split()\n",
    "            print(words[2], words[3], ':', words[5])"
   ]
  },
  {
   "cell_type": "code",
   "execution_count": 69,
   "id": "396f8e7d",
   "metadata": {},
   "outputs": [
    {
     "ename": "SyntaxError",
     "evalue": "invalid syntax (1245764992.py, line 2)",
     "output_type": "error",
     "traceback": [
      "\u001b[0;36m  Input \u001b[0;32mIn [69]\u001b[0;36m\u001b[0m\n\u001b[0;31m    do things in the loop\u001b[0m\n\u001b[0m       ^\u001b[0m\n\u001b[0;31mSyntaxError\u001b[0m\u001b[0;31m:\u001b[0m invalid syntax\n"
     ]
    }
   ],
   "source": [
    "for linenum, line in enumerate(list_name):\n",
    "    do things in the loop"
   ]
  },
  {
   "cell_type": "code",
   "execution_count": 70,
   "id": "baeede89",
   "metadata": {},
   "outputs": [],
   "source": [
    "with open (protein_file,\"r\") as outfile:\n",
    "    data = outfile.readlines()\n",
    "    for linenum, line in enumerate(data):\n",
    "        if 'SEQRES  1 A' in line:\n",
    "            print(linenum, ':', line, sep = '')"
   ]
  },
  {
   "cell_type": "code",
   "execution_count": 71,
   "id": "56477720",
   "metadata": {},
   "outputs": [
    {
     "name": "stdout",
     "output_type": "stream",
     "text": [
      "MoIssI Workshop.ipynb  \u001b[34mdata\u001b[m\u001b[m/\r\n",
      "README.md              data.zip\r\n"
     ]
    }
   ],
   "source": [
    "ls"
   ]
  },
  {
   "cell_type": "code",
   "execution_count": 72,
   "id": "67580f77",
   "metadata": {},
   "outputs": [
    {
     "name": "stdout",
     "output_type": "stream",
     "text": [
      "AP_kin.csv                  chymotrypsin_kinetics.csv\r\n",
      "AP_kinetics.csv             chymotrypsin_kinetics.xlsx\r\n",
      "Ground_water.csv            enzyme_kinetics.csv\r\n",
      "MM_data.csv                 enzyme_kinetics.xlsx\r\n",
      "MM_data1.csv                protein_assay.csv\r\n",
      "MM_data_for_NLRpt2.csv      protein_assay2.csv\r\n",
      "\u001b[34mPDB_files\u001b[m\u001b[m/                  protein_samples.csv\r\n",
      "chymo_MM_data.csv           thrombin_with_ligands.csv\r\n"
     ]
    }
   ],
   "source": [
    "ls data"
   ]
  },
  {
   "cell_type": "code",
   "execution_count": 73,
   "id": "546404d3",
   "metadata": {},
   "outputs": [
    {
     "name": "stdout",
     "output_type": "stream",
     "text": [
      "data/thrombin_with_ligands.csv\n"
     ]
    }
   ],
   "source": [
    "thrombin_file = os.path.join('data', 'thrombin_with_ligands.csv')\n",
    "print(thrombin_file)"
   ]
  },
  {
   "cell_type": "code",
   "execution_count": 74,
   "id": "59ab8680",
   "metadata": {},
   "outputs": [
    {
     "ename": "NameError",
     "evalue": "name 'pd' is not defined",
     "output_type": "error",
     "traceback": [
      "\u001b[0;31m---------------------------------------------------------------------------\u001b[0m",
      "\u001b[0;31mNameError\u001b[0m                                 Traceback (most recent call last)",
      "Input \u001b[0;32mIn [74]\u001b[0m, in \u001b[0;36m<cell line: 1>\u001b[0;34m()\u001b[0m\n\u001b[0;32m----> 1\u001b[0m help(\u001b[43mpd\u001b[49m\u001b[38;5;241m.\u001b[39mread_csv)\n",
      "\u001b[0;31mNameError\u001b[0m: name 'pd' is not defined"
     ]
    }
   ],
   "source": [
    "help(pd.read_csv)"
   ]
  },
  {
   "cell_type": "code",
   "execution_count": 75,
   "id": "7e7867bb",
   "metadata": {},
   "outputs": [
    {
     "ename": "NameError",
     "evalue": "name 'pd' is not defined",
     "output_type": "error",
     "traceback": [
      "\u001b[0;31m---------------------------------------------------------------------------\u001b[0m",
      "\u001b[0;31mNameError\u001b[0m                                 Traceback (most recent call last)",
      "Input \u001b[0;32mIn [75]\u001b[0m, in \u001b[0;36m<cell line: 1>\u001b[0;34m()\u001b[0m\n\u001b[0;32m----> 1\u001b[0m data \u001b[38;5;241m=\u001b[39m \u001b[43mpd\u001b[49m\u001b[38;5;241m.\u001b[39mread_csv(thrombin_file)\n",
      "\u001b[0;31mNameError\u001b[0m: name 'pd' is not defined"
     ]
    }
   ],
   "source": [
    "data = pd.read_csv(thrombin_file)"
   ]
  },
  {
   "cell_type": "code",
   "execution_count": 76,
   "id": "76a6206e",
   "metadata": {},
   "outputs": [
    {
     "ename": "AttributeError",
     "evalue": "'list' object has no attribute 'head'",
     "output_type": "error",
     "traceback": [
      "\u001b[0;31m---------------------------------------------------------------------------\u001b[0m",
      "\u001b[0;31mAttributeError\u001b[0m                            Traceback (most recent call last)",
      "Input \u001b[0;32mIn [76]\u001b[0m, in \u001b[0;36m<cell line: 1>\u001b[0;34m()\u001b[0m\n\u001b[0;32m----> 1\u001b[0m \u001b[43mdata\u001b[49m\u001b[38;5;241;43m.\u001b[39;49m\u001b[43mhead\u001b[49m\n",
      "\u001b[0;31mAttributeError\u001b[0m: 'list' object has no attribute 'head'"
     ]
    }
   ],
   "source": [
    "data.head"
   ]
  },
  {
   "cell_type": "code",
   "execution_count": 1,
   "id": "1b0d5f3a",
   "metadata": {},
   "outputs": [
    {
     "ename": "NameError",
     "evalue": "name 'pd' is not defined",
     "output_type": "error",
     "traceback": [
      "\u001b[0;31m---------------------------------------------------------------------------\u001b[0m",
      "\u001b[0;31mNameError\u001b[0m                                 Traceback (most recent call last)",
      "Input \u001b[0;32mIn [1]\u001b[0m, in \u001b[0;36m<cell line: 1>\u001b[0;34m()\u001b[0m\n\u001b[0;32m----> 1\u001b[0m thrombin_df \u001b[38;5;241m=\u001b[39m \u001b[43mpd\u001b[49m\u001b[38;5;241m.\u001b[39mread_csv(thrombin_file) \u001b[38;5;66;03m# thrombin_df is a convenient name for our dataframe.\u001b[39;00m\n\u001b[1;32m      2\u001b[0m thrombin_df\n",
      "\u001b[0;31mNameError\u001b[0m: name 'pd' is not defined"
     ]
    }
   ],
   "source": [
    "thrombin_df = pd.read_csv(thrombin_file) # thrombin_df is a convenient name for our dataframe.\n",
    "thrombin_df"
   ]
  },
  {
   "cell_type": "code",
   "execution_count": 77,
   "id": "0564827f",
   "metadata": {},
   "outputs": [],
   "source": [
    "import os\n",
    "import pandas as pd"
   ]
  },
  {
   "cell_type": "code",
   "execution_count": 78,
   "id": "c07635c3",
   "metadata": {},
   "outputs": [
    {
     "name": "stdout",
     "output_type": "stream",
     "text": [
      "MoIssI Workshop.ipynb  \u001b[34mdata\u001b[m\u001b[m/\r\n",
      "README.md              data.zip\r\n"
     ]
    }
   ],
   "source": [
    "ls"
   ]
  },
  {
   "cell_type": "code",
   "execution_count": 79,
   "id": "bd31153a",
   "metadata": {},
   "outputs": [
    {
     "name": "stdout",
     "output_type": "stream",
     "text": [
      "AP_kin.csv                  chymotrypsin_kinetics.csv\r\n",
      "AP_kinetics.csv             chymotrypsin_kinetics.xlsx\r\n",
      "Ground_water.csv            enzyme_kinetics.csv\r\n",
      "MM_data.csv                 enzyme_kinetics.xlsx\r\n",
      "MM_data1.csv                protein_assay.csv\r\n",
      "MM_data_for_NLRpt2.csv      protein_assay2.csv\r\n",
      "\u001b[34mPDB_files\u001b[m\u001b[m/                  protein_samples.csv\r\n",
      "chymo_MM_data.csv           thrombin_with_ligands.csv\r\n"
     ]
    }
   ],
   "source": [
    "ls data"
   ]
  },
  {
   "cell_type": "code",
   "execution_count": 80,
   "id": "a8d9c3a9",
   "metadata": {},
   "outputs": [
    {
     "name": "stdout",
     "output_type": "stream",
     "text": [
      "data/thrombin_with_ligands.csv\n"
     ]
    }
   ],
   "source": [
    "thrombin_file = os.path.join('data', 'thrombin_with_ligands.csv')\n",
    "print(thrombin_file)"
   ]
  },
  {
   "cell_type": "code",
   "execution_count": 81,
   "id": "325fd67f",
   "metadata": {},
   "outputs": [],
   "source": [
    "data = pd.read_csv(thrombin_file)"
   ]
  },
  {
   "cell_type": "code",
   "execution_count": 82,
   "id": "41312838",
   "metadata": {},
   "outputs": [
    {
     "data": {
      "text/plain": [
       "<bound method NDFrame.head of    PDB ID             Method  Resolution        Structure Ligand ID  \\\n",
       "0    3SHC  X-RAY DIFFRACTION        1.90   Human Thrombin       B01   \n",
       "1    3P17  X-RAY DIFFRACTION        1.43         Thrombin       99P   \n",
       "2    2ZNK  X-RAY DIFFRACTION        1.80         Thrombin       31U   \n",
       "3    3SI3  X-RAY DIFFRACTION        1.55   Human Thrombin       B03   \n",
       "4    3SI4  X-RAY DIFFRACTION        1.27   Human Thrombin       B04   \n",
       "5    3SV2  X-RAY DIFFRACTION        1.30   Human Thrombin       P05   \n",
       "6    1UVU  X-RAY DIFFRACTION        2.80  Bovine Thrombin       DCH   \n",
       "7    1UVT  X-RAY DIFFRACTION        2.50  Bovine Thrombin       I48   \n",
       "8    2C8Z  X-RAY DIFFRACTION        2.14         Thrombin       C2A   \n",
       "9    2C8Y  X-RAY DIFFRACTION        2.20         Thrombin       C3M   \n",
       "10   2C90  X-RAY DIFFRACTION        2.25         Thrombin       C1M   \n",
       "\n",
       "                                          Ligand name  \n",
       "0   D-phenylalanyl-N-[(4-chloropyridin-2-yl)methyl...  \n",
       "1   D-phenylalanyl-N-(pyridin-3-ylmethyl)-L-prolin...  \n",
       "2    D-leucyl-N-(4-carbamimidoylbenzyl)-L-prolinamide  \n",
       "3   D-phenylalanyl-N-(pyridin-2-ylmethyl)-L-prolin...  \n",
       "4   D-phenylalanyl-N-[(1-methylpyridinium-2-yl)met...  \n",
       "5   D-phenylalanyl-N-(pyridin-4-ylmethyl)-L-prolin...  \n",
       "6   3-(7-DIAMINOMETHYL-NAPHTHALEN-2-YL)-PROPIONIC ...  \n",
       "7   N-{3-METHYL-5-[2-(PYRIDIN-4-YLAMINO)-ETHOXY]-P...  \n",
       "8                       1-(3-CHLOROPHENYL)METHANAMINE  \n",
       "9   N-[(2R,3S)-3-AMINO-2-HYDROXY-4-PHENYLBUTYL]NAP...  \n",
       "10                    1-(4-CHLOROPHENYL)-1H-TETRAZOLE  >"
      ]
     },
     "execution_count": 82,
     "metadata": {},
     "output_type": "execute_result"
    }
   ],
   "source": [
    "data.head"
   ]
  },
  {
   "cell_type": "code",
   "execution_count": 83,
   "id": "598f6673",
   "metadata": {},
   "outputs": [
    {
     "data": {
      "text/html": [
       "<div>\n",
       "<style scoped>\n",
       "    .dataframe tbody tr th:only-of-type {\n",
       "        vertical-align: middle;\n",
       "    }\n",
       "\n",
       "    .dataframe tbody tr th {\n",
       "        vertical-align: top;\n",
       "    }\n",
       "\n",
       "    .dataframe thead th {\n",
       "        text-align: right;\n",
       "    }\n",
       "</style>\n",
       "<table border=\"1\" class=\"dataframe\">\n",
       "  <thead>\n",
       "    <tr style=\"text-align: right;\">\n",
       "      <th></th>\n",
       "      <th>PDB ID</th>\n",
       "      <th>Method</th>\n",
       "      <th>Resolution</th>\n",
       "      <th>Structure</th>\n",
       "      <th>Ligand ID</th>\n",
       "      <th>Ligand name</th>\n",
       "    </tr>\n",
       "  </thead>\n",
       "  <tbody>\n",
       "    <tr>\n",
       "      <th>0</th>\n",
       "      <td>3SHC</td>\n",
       "      <td>X-RAY DIFFRACTION</td>\n",
       "      <td>1.90</td>\n",
       "      <td>Human Thrombin</td>\n",
       "      <td>B01</td>\n",
       "      <td>D-phenylalanyl-N-[(4-chloropyridin-2-yl)methyl...</td>\n",
       "    </tr>\n",
       "    <tr>\n",
       "      <th>1</th>\n",
       "      <td>3P17</td>\n",
       "      <td>X-RAY DIFFRACTION</td>\n",
       "      <td>1.43</td>\n",
       "      <td>Thrombin</td>\n",
       "      <td>99P</td>\n",
       "      <td>D-phenylalanyl-N-(pyridin-3-ylmethyl)-L-prolin...</td>\n",
       "    </tr>\n",
       "    <tr>\n",
       "      <th>2</th>\n",
       "      <td>2ZNK</td>\n",
       "      <td>X-RAY DIFFRACTION</td>\n",
       "      <td>1.80</td>\n",
       "      <td>Thrombin</td>\n",
       "      <td>31U</td>\n",
       "      <td>D-leucyl-N-(4-carbamimidoylbenzyl)-L-prolinamide</td>\n",
       "    </tr>\n",
       "    <tr>\n",
       "      <th>3</th>\n",
       "      <td>3SI3</td>\n",
       "      <td>X-RAY DIFFRACTION</td>\n",
       "      <td>1.55</td>\n",
       "      <td>Human Thrombin</td>\n",
       "      <td>B03</td>\n",
       "      <td>D-phenylalanyl-N-(pyridin-2-ylmethyl)-L-prolin...</td>\n",
       "    </tr>\n",
       "    <tr>\n",
       "      <th>4</th>\n",
       "      <td>3SI4</td>\n",
       "      <td>X-RAY DIFFRACTION</td>\n",
       "      <td>1.27</td>\n",
       "      <td>Human Thrombin</td>\n",
       "      <td>B04</td>\n",
       "      <td>D-phenylalanyl-N-[(1-methylpyridinium-2-yl)met...</td>\n",
       "    </tr>\n",
       "    <tr>\n",
       "      <th>5</th>\n",
       "      <td>3SV2</td>\n",
       "      <td>X-RAY DIFFRACTION</td>\n",
       "      <td>1.30</td>\n",
       "      <td>Human Thrombin</td>\n",
       "      <td>P05</td>\n",
       "      <td>D-phenylalanyl-N-(pyridin-4-ylmethyl)-L-prolin...</td>\n",
       "    </tr>\n",
       "    <tr>\n",
       "      <th>6</th>\n",
       "      <td>1UVU</td>\n",
       "      <td>X-RAY DIFFRACTION</td>\n",
       "      <td>2.80</td>\n",
       "      <td>Bovine Thrombin</td>\n",
       "      <td>DCH</td>\n",
       "      <td>3-(7-DIAMINOMETHYL-NAPHTHALEN-2-YL)-PROPIONIC ...</td>\n",
       "    </tr>\n",
       "    <tr>\n",
       "      <th>7</th>\n",
       "      <td>1UVT</td>\n",
       "      <td>X-RAY DIFFRACTION</td>\n",
       "      <td>2.50</td>\n",
       "      <td>Bovine Thrombin</td>\n",
       "      <td>I48</td>\n",
       "      <td>N-{3-METHYL-5-[2-(PYRIDIN-4-YLAMINO)-ETHOXY]-P...</td>\n",
       "    </tr>\n",
       "    <tr>\n",
       "      <th>8</th>\n",
       "      <td>2C8Z</td>\n",
       "      <td>X-RAY DIFFRACTION</td>\n",
       "      <td>2.14</td>\n",
       "      <td>Thrombin</td>\n",
       "      <td>C2A</td>\n",
       "      <td>1-(3-CHLOROPHENYL)METHANAMINE</td>\n",
       "    </tr>\n",
       "    <tr>\n",
       "      <th>9</th>\n",
       "      <td>2C8Y</td>\n",
       "      <td>X-RAY DIFFRACTION</td>\n",
       "      <td>2.20</td>\n",
       "      <td>Thrombin</td>\n",
       "      <td>C3M</td>\n",
       "      <td>N-[(2R,3S)-3-AMINO-2-HYDROXY-4-PHENYLBUTYL]NAP...</td>\n",
       "    </tr>\n",
       "    <tr>\n",
       "      <th>10</th>\n",
       "      <td>2C90</td>\n",
       "      <td>X-RAY DIFFRACTION</td>\n",
       "      <td>2.25</td>\n",
       "      <td>Thrombin</td>\n",
       "      <td>C1M</td>\n",
       "      <td>1-(4-CHLOROPHENYL)-1H-TETRAZOLE</td>\n",
       "    </tr>\n",
       "  </tbody>\n",
       "</table>\n",
       "</div>"
      ],
      "text/plain": [
       "   PDB ID             Method  Resolution        Structure Ligand ID  \\\n",
       "0    3SHC  X-RAY DIFFRACTION        1.90   Human Thrombin       B01   \n",
       "1    3P17  X-RAY DIFFRACTION        1.43         Thrombin       99P   \n",
       "2    2ZNK  X-RAY DIFFRACTION        1.80         Thrombin       31U   \n",
       "3    3SI3  X-RAY DIFFRACTION        1.55   Human Thrombin       B03   \n",
       "4    3SI4  X-RAY DIFFRACTION        1.27   Human Thrombin       B04   \n",
       "5    3SV2  X-RAY DIFFRACTION        1.30   Human Thrombin       P05   \n",
       "6    1UVU  X-RAY DIFFRACTION        2.80  Bovine Thrombin       DCH   \n",
       "7    1UVT  X-RAY DIFFRACTION        2.50  Bovine Thrombin       I48   \n",
       "8    2C8Z  X-RAY DIFFRACTION        2.14         Thrombin       C2A   \n",
       "9    2C8Y  X-RAY DIFFRACTION        2.20         Thrombin       C3M   \n",
       "10   2C90  X-RAY DIFFRACTION        2.25         Thrombin       C1M   \n",
       "\n",
       "                                          Ligand name  \n",
       "0   D-phenylalanyl-N-[(4-chloropyridin-2-yl)methyl...  \n",
       "1   D-phenylalanyl-N-(pyridin-3-ylmethyl)-L-prolin...  \n",
       "2    D-leucyl-N-(4-carbamimidoylbenzyl)-L-prolinamide  \n",
       "3   D-phenylalanyl-N-(pyridin-2-ylmethyl)-L-prolin...  \n",
       "4   D-phenylalanyl-N-[(1-methylpyridinium-2-yl)met...  \n",
       "5   D-phenylalanyl-N-(pyridin-4-ylmethyl)-L-prolin...  \n",
       "6   3-(7-DIAMINOMETHYL-NAPHTHALEN-2-YL)-PROPIONIC ...  \n",
       "7   N-{3-METHYL-5-[2-(PYRIDIN-4-YLAMINO)-ETHOXY]-P...  \n",
       "8                       1-(3-CHLOROPHENYL)METHANAMINE  \n",
       "9   N-[(2R,3S)-3-AMINO-2-HYDROXY-4-PHENYLBUTYL]NAP...  \n",
       "10                    1-(4-CHLOROPHENYL)-1H-TETRAZOLE  "
      ]
     },
     "execution_count": 83,
     "metadata": {},
     "output_type": "execute_result"
    }
   ],
   "source": [
    "thrombin_df = pd.read_csv(thrombin_file) # thrombin_df is a convenient name for our dataframe.\n",
    "thrombin_df"
   ]
  },
  {
   "cell_type": "code",
   "execution_count": 84,
   "id": "d2fecd16",
   "metadata": {},
   "outputs": [
    {
     "data": {
      "text/plain": [
       "0     1.90\n",
       "1     1.43\n",
       "2     1.80\n",
       "3     1.55\n",
       "4     1.27\n",
       "5     1.30\n",
       "6     2.80\n",
       "7     2.50\n",
       "8     2.14\n",
       "9     2.20\n",
       "10    2.25\n",
       "Name: Resolution, dtype: float64"
      ]
     },
     "execution_count": 84,
     "metadata": {},
     "output_type": "execute_result"
    }
   ],
   "source": [
    "thrombin_df['Resolution']"
   ]
  },
  {
   "cell_type": "code",
   "execution_count": 85,
   "id": "5008e9de",
   "metadata": {},
   "outputs": [
    {
     "data": {
      "text/plain": [
       "0     B01\n",
       "1     99P\n",
       "2     31U\n",
       "3     B03\n",
       "4     B04\n",
       "5     P05\n",
       "6     DCH\n",
       "7     I48\n",
       "8     C2A\n",
       "9     C3M\n",
       "10    C1M\n",
       "Name: Ligand ID, dtype: object"
      ]
     },
     "execution_count": 85,
     "metadata": {},
     "output_type": "execute_result"
    }
   ],
   "source": [
    "thrombin_df['Ligand ID']"
   ]
  },
  {
   "cell_type": "code",
   "execution_count": 86,
   "id": "5dd650a0",
   "metadata": {},
   "outputs": [
    {
     "data": {
      "text/plain": [
       "1.8"
      ]
     },
     "execution_count": 86,
     "metadata": {},
     "output_type": "execute_result"
    }
   ],
   "source": [
    "thrombin_df.loc[2, 'Resolution']"
   ]
  },
  {
   "cell_type": "code",
   "execution_count": 87,
   "id": "d0928c4c",
   "metadata": {},
   "outputs": [
    {
     "data": {
      "text/plain": [
       "PDB ID                                                     2ZNK\n",
       "Method                                        X-RAY DIFFRACTION\n",
       "Resolution                                                  1.8\n",
       "Structure                                              Thrombin\n",
       "Ligand ID                                                   31U\n",
       "Ligand name    D-leucyl-N-(4-carbamimidoylbenzyl)-L-prolinamide\n",
       "Name: 2, dtype: object"
      ]
     },
     "execution_count": 87,
     "metadata": {},
     "output_type": "execute_result"
    }
   ],
   "source": [
    "thrombin_df.loc[2]"
   ]
  },
  {
   "cell_type": "code",
   "execution_count": 88,
   "id": "13ef272f",
   "metadata": {},
   "outputs": [
    {
     "data": {
      "text/plain": [
       "1.8"
      ]
     },
     "execution_count": 88,
     "metadata": {},
     "output_type": "execute_result"
    }
   ],
   "source": [
    "thrombin_df.iloc[2,2]"
   ]
  },
  {
   "cell_type": "code",
   "execution_count": 89,
   "id": "99dcc93e",
   "metadata": {},
   "outputs": [
    {
     "data": {
      "text/html": [
       "<div>\n",
       "<style scoped>\n",
       "    .dataframe tbody tr th:only-of-type {\n",
       "        vertical-align: middle;\n",
       "    }\n",
       "\n",
       "    .dataframe tbody tr th {\n",
       "        vertical-align: top;\n",
       "    }\n",
       "\n",
       "    .dataframe thead th {\n",
       "        text-align: right;\n",
       "    }\n",
       "</style>\n",
       "<table border=\"1\" class=\"dataframe\">\n",
       "  <thead>\n",
       "    <tr style=\"text-align: right;\">\n",
       "      <th></th>\n",
       "      <th>PDB ID</th>\n",
       "      <th>Method</th>\n",
       "      <th>Resolution</th>\n",
       "      <th>Structure</th>\n",
       "      <th>Ligand ID</th>\n",
       "      <th>Ligand name</th>\n",
       "    </tr>\n",
       "  </thead>\n",
       "  <tbody>\n",
       "    <tr>\n",
       "      <th>0</th>\n",
       "      <td>3SHC</td>\n",
       "      <td>X-RAY DIFFRACTION</td>\n",
       "      <td>1.90</td>\n",
       "      <td>Human Thrombin</td>\n",
       "      <td>B01</td>\n",
       "      <td>D-phenylalanyl-N-[(4-chloropyridin-2-yl)methyl...</td>\n",
       "    </tr>\n",
       "    <tr>\n",
       "      <th>1</th>\n",
       "      <td>3P17</td>\n",
       "      <td>X-RAY DIFFRACTION</td>\n",
       "      <td>1.43</td>\n",
       "      <td>Thrombin</td>\n",
       "      <td>99P</td>\n",
       "      <td>D-phenylalanyl-N-(pyridin-3-ylmethyl)-L-prolin...</td>\n",
       "    </tr>\n",
       "    <tr>\n",
       "      <th>2</th>\n",
       "      <td>2ZNK</td>\n",
       "      <td>X-RAY DIFFRACTION</td>\n",
       "      <td>1.80</td>\n",
       "      <td>Thrombin</td>\n",
       "      <td>31U</td>\n",
       "      <td>D-leucyl-N-(4-carbamimidoylbenzyl)-L-prolinamide</td>\n",
       "    </tr>\n",
       "    <tr>\n",
       "      <th>3</th>\n",
       "      <td>3SI3</td>\n",
       "      <td>X-RAY DIFFRACTION</td>\n",
       "      <td>1.55</td>\n",
       "      <td>Human Thrombin</td>\n",
       "      <td>B03</td>\n",
       "      <td>D-phenylalanyl-N-(pyridin-2-ylmethyl)-L-prolin...</td>\n",
       "    </tr>\n",
       "    <tr>\n",
       "      <th>4</th>\n",
       "      <td>3SI4</td>\n",
       "      <td>X-RAY DIFFRACTION</td>\n",
       "      <td>1.27</td>\n",
       "      <td>Human Thrombin</td>\n",
       "      <td>B04</td>\n",
       "      <td>D-phenylalanyl-N-[(1-methylpyridinium-2-yl)met...</td>\n",
       "    </tr>\n",
       "  </tbody>\n",
       "</table>\n",
       "</div>"
      ],
      "text/plain": [
       "  PDB ID             Method  Resolution       Structure Ligand ID  \\\n",
       "0   3SHC  X-RAY DIFFRACTION        1.90  Human Thrombin       B01   \n",
       "1   3P17  X-RAY DIFFRACTION        1.43        Thrombin       99P   \n",
       "2   2ZNK  X-RAY DIFFRACTION        1.80        Thrombin       31U   \n",
       "3   3SI3  X-RAY DIFFRACTION        1.55  Human Thrombin       B03   \n",
       "4   3SI4  X-RAY DIFFRACTION        1.27  Human Thrombin       B04   \n",
       "\n",
       "                                         Ligand name  \n",
       "0  D-phenylalanyl-N-[(4-chloropyridin-2-yl)methyl...  \n",
       "1  D-phenylalanyl-N-(pyridin-3-ylmethyl)-L-prolin...  \n",
       "2   D-leucyl-N-(4-carbamimidoylbenzyl)-L-prolinamide  \n",
       "3  D-phenylalanyl-N-(pyridin-2-ylmethyl)-L-prolin...  \n",
       "4  D-phenylalanyl-N-[(1-methylpyridinium-2-yl)met...  "
      ]
     },
     "execution_count": 89,
     "metadata": {},
     "output_type": "execute_result"
    }
   ],
   "source": [
    "thrombin_df.head()"
   ]
  },
  {
   "cell_type": "code",
   "execution_count": 90,
   "id": "a47e06f0",
   "metadata": {},
   "outputs": [
    {
     "data": {
      "text/html": [
       "<div>\n",
       "<style scoped>\n",
       "    .dataframe tbody tr th:only-of-type {\n",
       "        vertical-align: middle;\n",
       "    }\n",
       "\n",
       "    .dataframe tbody tr th {\n",
       "        vertical-align: top;\n",
       "    }\n",
       "\n",
       "    .dataframe thead th {\n",
       "        text-align: right;\n",
       "    }\n",
       "</style>\n",
       "<table border=\"1\" class=\"dataframe\">\n",
       "  <thead>\n",
       "    <tr style=\"text-align: right;\">\n",
       "      <th></th>\n",
       "      <th>PDB ID</th>\n",
       "      <th>Method</th>\n",
       "      <th>Resolution</th>\n",
       "      <th>Structure</th>\n",
       "      <th>Ligand ID</th>\n",
       "      <th>Ligand name</th>\n",
       "    </tr>\n",
       "  </thead>\n",
       "  <tbody>\n",
       "    <tr>\n",
       "      <th>0</th>\n",
       "      <td>3SHC</td>\n",
       "      <td>X-RAY DIFFRACTION</td>\n",
       "      <td>1.90</td>\n",
       "      <td>Human Thrombin</td>\n",
       "      <td>B01</td>\n",
       "      <td>D-phenylalanyl-N-[(4-chloropyridin-2-yl)methyl...</td>\n",
       "    </tr>\n",
       "    <tr>\n",
       "      <th>1</th>\n",
       "      <td>3P17</td>\n",
       "      <td>X-RAY DIFFRACTION</td>\n",
       "      <td>1.43</td>\n",
       "      <td>Thrombin</td>\n",
       "      <td>99P</td>\n",
       "      <td>D-phenylalanyl-N-(pyridin-3-ylmethyl)-L-prolin...</td>\n",
       "    </tr>\n",
       "    <tr>\n",
       "      <th>2</th>\n",
       "      <td>2ZNK</td>\n",
       "      <td>X-RAY DIFFRACTION</td>\n",
       "      <td>1.80</td>\n",
       "      <td>Thrombin</td>\n",
       "      <td>31U</td>\n",
       "      <td>D-leucyl-N-(4-carbamimidoylbenzyl)-L-prolinamide</td>\n",
       "    </tr>\n",
       "  </tbody>\n",
       "</table>\n",
       "</div>"
      ],
      "text/plain": [
       "  PDB ID             Method  Resolution       Structure Ligand ID  \\\n",
       "0   3SHC  X-RAY DIFFRACTION        1.90  Human Thrombin       B01   \n",
       "1   3P17  X-RAY DIFFRACTION        1.43        Thrombin       99P   \n",
       "2   2ZNK  X-RAY DIFFRACTION        1.80        Thrombin       31U   \n",
       "\n",
       "                                         Ligand name  \n",
       "0  D-phenylalanyl-N-[(4-chloropyridin-2-yl)methyl...  \n",
       "1  D-phenylalanyl-N-(pyridin-3-ylmethyl)-L-prolin...  \n",
       "2   D-leucyl-N-(4-carbamimidoylbenzyl)-L-prolinamide  "
      ]
     },
     "execution_count": 90,
     "metadata": {},
     "output_type": "execute_result"
    }
   ],
   "source": [
    "thrombin_df.head(3)"
   ]
  },
  {
   "cell_type": "code",
   "execution_count": 91,
   "id": "d9c82982",
   "metadata": {},
   "outputs": [
    {
     "data": {
      "text/html": [
       "<div>\n",
       "<style scoped>\n",
       "    .dataframe tbody tr th:only-of-type {\n",
       "        vertical-align: middle;\n",
       "    }\n",
       "\n",
       "    .dataframe tbody tr th {\n",
       "        vertical-align: top;\n",
       "    }\n",
       "\n",
       "    .dataframe thead th {\n",
       "        text-align: right;\n",
       "    }\n",
       "</style>\n",
       "<table border=\"1\" class=\"dataframe\">\n",
       "  <thead>\n",
       "    <tr style=\"text-align: right;\">\n",
       "      <th></th>\n",
       "      <th>PDB ID</th>\n",
       "      <th>Method</th>\n",
       "      <th>Resolution</th>\n",
       "      <th>Structure</th>\n",
       "      <th>Ligand ID</th>\n",
       "      <th>Ligand name</th>\n",
       "    </tr>\n",
       "  </thead>\n",
       "  <tbody>\n",
       "    <tr>\n",
       "      <th>6</th>\n",
       "      <td>1UVU</td>\n",
       "      <td>X-RAY DIFFRACTION</td>\n",
       "      <td>2.80</td>\n",
       "      <td>Bovine Thrombin</td>\n",
       "      <td>DCH</td>\n",
       "      <td>3-(7-DIAMINOMETHYL-NAPHTHALEN-2-YL)-PROPIONIC ...</td>\n",
       "    </tr>\n",
       "    <tr>\n",
       "      <th>7</th>\n",
       "      <td>1UVT</td>\n",
       "      <td>X-RAY DIFFRACTION</td>\n",
       "      <td>2.50</td>\n",
       "      <td>Bovine Thrombin</td>\n",
       "      <td>I48</td>\n",
       "      <td>N-{3-METHYL-5-[2-(PYRIDIN-4-YLAMINO)-ETHOXY]-P...</td>\n",
       "    </tr>\n",
       "    <tr>\n",
       "      <th>8</th>\n",
       "      <td>2C8Z</td>\n",
       "      <td>X-RAY DIFFRACTION</td>\n",
       "      <td>2.14</td>\n",
       "      <td>Thrombin</td>\n",
       "      <td>C2A</td>\n",
       "      <td>1-(3-CHLOROPHENYL)METHANAMINE</td>\n",
       "    </tr>\n",
       "    <tr>\n",
       "      <th>9</th>\n",
       "      <td>2C8Y</td>\n",
       "      <td>X-RAY DIFFRACTION</td>\n",
       "      <td>2.20</td>\n",
       "      <td>Thrombin</td>\n",
       "      <td>C3M</td>\n",
       "      <td>N-[(2R,3S)-3-AMINO-2-HYDROXY-4-PHENYLBUTYL]NAP...</td>\n",
       "    </tr>\n",
       "    <tr>\n",
       "      <th>10</th>\n",
       "      <td>2C90</td>\n",
       "      <td>X-RAY DIFFRACTION</td>\n",
       "      <td>2.25</td>\n",
       "      <td>Thrombin</td>\n",
       "      <td>C1M</td>\n",
       "      <td>1-(4-CHLOROPHENYL)-1H-TETRAZOLE</td>\n",
       "    </tr>\n",
       "  </tbody>\n",
       "</table>\n",
       "</div>"
      ],
      "text/plain": [
       "   PDB ID             Method  Resolution        Structure Ligand ID  \\\n",
       "6    1UVU  X-RAY DIFFRACTION        2.80  Bovine Thrombin       DCH   \n",
       "7    1UVT  X-RAY DIFFRACTION        2.50  Bovine Thrombin       I48   \n",
       "8    2C8Z  X-RAY DIFFRACTION        2.14         Thrombin       C2A   \n",
       "9    2C8Y  X-RAY DIFFRACTION        2.20         Thrombin       C3M   \n",
       "10   2C90  X-RAY DIFFRACTION        2.25         Thrombin       C1M   \n",
       "\n",
       "                                          Ligand name  \n",
       "6   3-(7-DIAMINOMETHYL-NAPHTHALEN-2-YL)-PROPIONIC ...  \n",
       "7   N-{3-METHYL-5-[2-(PYRIDIN-4-YLAMINO)-ETHOXY]-P...  \n",
       "8                       1-(3-CHLOROPHENYL)METHANAMINE  \n",
       "9   N-[(2R,3S)-3-AMINO-2-HYDROXY-4-PHENYLBUTYL]NAP...  \n",
       "10                    1-(4-CHLOROPHENYL)-1H-TETRAZOLE  "
      ]
     },
     "execution_count": 91,
     "metadata": {},
     "output_type": "execute_result"
    }
   ],
   "source": [
    "thrombin_df.tail()"
   ]
  },
  {
   "cell_type": "code",
   "execution_count": 92,
   "id": "64c2c9c9",
   "metadata": {},
   "outputs": [
    {
     "data": {
      "text/html": [
       "<div>\n",
       "<style scoped>\n",
       "    .dataframe tbody tr th:only-of-type {\n",
       "        vertical-align: middle;\n",
       "    }\n",
       "\n",
       "    .dataframe tbody tr th {\n",
       "        vertical-align: top;\n",
       "    }\n",
       "\n",
       "    .dataframe thead th {\n",
       "        text-align: right;\n",
       "    }\n",
       "</style>\n",
       "<table border=\"1\" class=\"dataframe\">\n",
       "  <thead>\n",
       "    <tr style=\"text-align: right;\">\n",
       "      <th></th>\n",
       "      <th>PDB ID</th>\n",
       "      <th>Method</th>\n",
       "      <th>Resolution</th>\n",
       "      <th>Structure</th>\n",
       "      <th>Ligand ID</th>\n",
       "      <th>Ligand name</th>\n",
       "    </tr>\n",
       "  </thead>\n",
       "  <tbody>\n",
       "    <tr>\n",
       "      <th>4</th>\n",
       "      <td>3SI4</td>\n",
       "      <td>X-RAY DIFFRACTION</td>\n",
       "      <td>1.27</td>\n",
       "      <td>Human Thrombin</td>\n",
       "      <td>B04</td>\n",
       "      <td>D-phenylalanyl-N-[(1-methylpyridinium-2-yl)met...</td>\n",
       "    </tr>\n",
       "    <tr>\n",
       "      <th>5</th>\n",
       "      <td>3SV2</td>\n",
       "      <td>X-RAY DIFFRACTION</td>\n",
       "      <td>1.30</td>\n",
       "      <td>Human Thrombin</td>\n",
       "      <td>P05</td>\n",
       "      <td>D-phenylalanyl-N-(pyridin-4-ylmethyl)-L-prolin...</td>\n",
       "    </tr>\n",
       "    <tr>\n",
       "      <th>1</th>\n",
       "      <td>3P17</td>\n",
       "      <td>X-RAY DIFFRACTION</td>\n",
       "      <td>1.43</td>\n",
       "      <td>Thrombin</td>\n",
       "      <td>99P</td>\n",
       "      <td>D-phenylalanyl-N-(pyridin-3-ylmethyl)-L-prolin...</td>\n",
       "    </tr>\n",
       "    <tr>\n",
       "      <th>3</th>\n",
       "      <td>3SI3</td>\n",
       "      <td>X-RAY DIFFRACTION</td>\n",
       "      <td>1.55</td>\n",
       "      <td>Human Thrombin</td>\n",
       "      <td>B03</td>\n",
       "      <td>D-phenylalanyl-N-(pyridin-2-ylmethyl)-L-prolin...</td>\n",
       "    </tr>\n",
       "    <tr>\n",
       "      <th>2</th>\n",
       "      <td>2ZNK</td>\n",
       "      <td>X-RAY DIFFRACTION</td>\n",
       "      <td>1.80</td>\n",
       "      <td>Thrombin</td>\n",
       "      <td>31U</td>\n",
       "      <td>D-leucyl-N-(4-carbamimidoylbenzyl)-L-prolinamide</td>\n",
       "    </tr>\n",
       "    <tr>\n",
       "      <th>0</th>\n",
       "      <td>3SHC</td>\n",
       "      <td>X-RAY DIFFRACTION</td>\n",
       "      <td>1.90</td>\n",
       "      <td>Human Thrombin</td>\n",
       "      <td>B01</td>\n",
       "      <td>D-phenylalanyl-N-[(4-chloropyridin-2-yl)methyl...</td>\n",
       "    </tr>\n",
       "    <tr>\n",
       "      <th>8</th>\n",
       "      <td>2C8Z</td>\n",
       "      <td>X-RAY DIFFRACTION</td>\n",
       "      <td>2.14</td>\n",
       "      <td>Thrombin</td>\n",
       "      <td>C2A</td>\n",
       "      <td>1-(3-CHLOROPHENYL)METHANAMINE</td>\n",
       "    </tr>\n",
       "    <tr>\n",
       "      <th>9</th>\n",
       "      <td>2C8Y</td>\n",
       "      <td>X-RAY DIFFRACTION</td>\n",
       "      <td>2.20</td>\n",
       "      <td>Thrombin</td>\n",
       "      <td>C3M</td>\n",
       "      <td>N-[(2R,3S)-3-AMINO-2-HYDROXY-4-PHENYLBUTYL]NAP...</td>\n",
       "    </tr>\n",
       "    <tr>\n",
       "      <th>10</th>\n",
       "      <td>2C90</td>\n",
       "      <td>X-RAY DIFFRACTION</td>\n",
       "      <td>2.25</td>\n",
       "      <td>Thrombin</td>\n",
       "      <td>C1M</td>\n",
       "      <td>1-(4-CHLOROPHENYL)-1H-TETRAZOLE</td>\n",
       "    </tr>\n",
       "    <tr>\n",
       "      <th>7</th>\n",
       "      <td>1UVT</td>\n",
       "      <td>X-RAY DIFFRACTION</td>\n",
       "      <td>2.50</td>\n",
       "      <td>Bovine Thrombin</td>\n",
       "      <td>I48</td>\n",
       "      <td>N-{3-METHYL-5-[2-(PYRIDIN-4-YLAMINO)-ETHOXY]-P...</td>\n",
       "    </tr>\n",
       "    <tr>\n",
       "      <th>6</th>\n",
       "      <td>1UVU</td>\n",
       "      <td>X-RAY DIFFRACTION</td>\n",
       "      <td>2.80</td>\n",
       "      <td>Bovine Thrombin</td>\n",
       "      <td>DCH</td>\n",
       "      <td>3-(7-DIAMINOMETHYL-NAPHTHALEN-2-YL)-PROPIONIC ...</td>\n",
       "    </tr>\n",
       "  </tbody>\n",
       "</table>\n",
       "</div>"
      ],
      "text/plain": [
       "   PDB ID             Method  Resolution        Structure Ligand ID  \\\n",
       "4    3SI4  X-RAY DIFFRACTION        1.27   Human Thrombin       B04   \n",
       "5    3SV2  X-RAY DIFFRACTION        1.30   Human Thrombin       P05   \n",
       "1    3P17  X-RAY DIFFRACTION        1.43         Thrombin       99P   \n",
       "3    3SI3  X-RAY DIFFRACTION        1.55   Human Thrombin       B03   \n",
       "2    2ZNK  X-RAY DIFFRACTION        1.80         Thrombin       31U   \n",
       "0    3SHC  X-RAY DIFFRACTION        1.90   Human Thrombin       B01   \n",
       "8    2C8Z  X-RAY DIFFRACTION        2.14         Thrombin       C2A   \n",
       "9    2C8Y  X-RAY DIFFRACTION        2.20         Thrombin       C3M   \n",
       "10   2C90  X-RAY DIFFRACTION        2.25         Thrombin       C1M   \n",
       "7    1UVT  X-RAY DIFFRACTION        2.50  Bovine Thrombin       I48   \n",
       "6    1UVU  X-RAY DIFFRACTION        2.80  Bovine Thrombin       DCH   \n",
       "\n",
       "                                          Ligand name  \n",
       "4   D-phenylalanyl-N-[(1-methylpyridinium-2-yl)met...  \n",
       "5   D-phenylalanyl-N-(pyridin-4-ylmethyl)-L-prolin...  \n",
       "1   D-phenylalanyl-N-(pyridin-3-ylmethyl)-L-prolin...  \n",
       "3   D-phenylalanyl-N-(pyridin-2-ylmethyl)-L-prolin...  \n",
       "2    D-leucyl-N-(4-carbamimidoylbenzyl)-L-prolinamide  \n",
       "0   D-phenylalanyl-N-[(4-chloropyridin-2-yl)methyl...  \n",
       "8                       1-(3-CHLOROPHENYL)METHANAMINE  \n",
       "9   N-[(2R,3S)-3-AMINO-2-HYDROXY-4-PHENYLBUTYL]NAP...  \n",
       "10                    1-(4-CHLOROPHENYL)-1H-TETRAZOLE  \n",
       "7   N-{3-METHYL-5-[2-(PYRIDIN-4-YLAMINO)-ETHOXY]-P...  \n",
       "6   3-(7-DIAMINOMETHYL-NAPHTHALEN-2-YL)-PROPIONIC ...  "
      ]
     },
     "execution_count": 92,
     "metadata": {},
     "output_type": "execute_result"
    }
   ],
   "source": [
    "thrombin_df.sort_values('Resolution')"
   ]
  },
  {
   "cell_type": "code",
   "execution_count": 93,
   "id": "4b07cea9",
   "metadata": {},
   "outputs": [
    {
     "data": {
      "text/html": [
       "<div>\n",
       "<style scoped>\n",
       "    .dataframe tbody tr th:only-of-type {\n",
       "        vertical-align: middle;\n",
       "    }\n",
       "\n",
       "    .dataframe tbody tr th {\n",
       "        vertical-align: top;\n",
       "    }\n",
       "\n",
       "    .dataframe thead th {\n",
       "        text-align: right;\n",
       "    }\n",
       "</style>\n",
       "<table border=\"1\" class=\"dataframe\">\n",
       "  <thead>\n",
       "    <tr style=\"text-align: right;\">\n",
       "      <th></th>\n",
       "      <th>PDB ID</th>\n",
       "      <th>Method</th>\n",
       "      <th>Resolution</th>\n",
       "      <th>Structure</th>\n",
       "      <th>Ligand ID</th>\n",
       "      <th>Ligand name</th>\n",
       "    </tr>\n",
       "  </thead>\n",
       "  <tbody>\n",
       "    <tr>\n",
       "      <th>0</th>\n",
       "      <td>3SHC</td>\n",
       "      <td>X-RAY DIFFRACTION</td>\n",
       "      <td>1.90</td>\n",
       "      <td>Human Thrombin</td>\n",
       "      <td>B01</td>\n",
       "      <td>D-phenylalanyl-N-[(4-chloropyridin-2-yl)methyl...</td>\n",
       "    </tr>\n",
       "    <tr>\n",
       "      <th>1</th>\n",
       "      <td>3P17</td>\n",
       "      <td>X-RAY DIFFRACTION</td>\n",
       "      <td>1.43</td>\n",
       "      <td>Thrombin</td>\n",
       "      <td>99P</td>\n",
       "      <td>D-phenylalanyl-N-(pyridin-3-ylmethyl)-L-prolin...</td>\n",
       "    </tr>\n",
       "    <tr>\n",
       "      <th>2</th>\n",
       "      <td>2ZNK</td>\n",
       "      <td>X-RAY DIFFRACTION</td>\n",
       "      <td>1.80</td>\n",
       "      <td>Thrombin</td>\n",
       "      <td>31U</td>\n",
       "      <td>D-leucyl-N-(4-carbamimidoylbenzyl)-L-prolinamide</td>\n",
       "    </tr>\n",
       "    <tr>\n",
       "      <th>3</th>\n",
       "      <td>3SI3</td>\n",
       "      <td>X-RAY DIFFRACTION</td>\n",
       "      <td>1.55</td>\n",
       "      <td>Human Thrombin</td>\n",
       "      <td>B03</td>\n",
       "      <td>D-phenylalanyl-N-(pyridin-2-ylmethyl)-L-prolin...</td>\n",
       "    </tr>\n",
       "    <tr>\n",
       "      <th>4</th>\n",
       "      <td>3SI4</td>\n",
       "      <td>X-RAY DIFFRACTION</td>\n",
       "      <td>1.27</td>\n",
       "      <td>Human Thrombin</td>\n",
       "      <td>B04</td>\n",
       "      <td>D-phenylalanyl-N-[(1-methylpyridinium-2-yl)met...</td>\n",
       "    </tr>\n",
       "    <tr>\n",
       "      <th>5</th>\n",
       "      <td>3SV2</td>\n",
       "      <td>X-RAY DIFFRACTION</td>\n",
       "      <td>1.30</td>\n",
       "      <td>Human Thrombin</td>\n",
       "      <td>P05</td>\n",
       "      <td>D-phenylalanyl-N-(pyridin-4-ylmethyl)-L-prolin...</td>\n",
       "    </tr>\n",
       "    <tr>\n",
       "      <th>6</th>\n",
       "      <td>1UVU</td>\n",
       "      <td>X-RAY DIFFRACTION</td>\n",
       "      <td>2.80</td>\n",
       "      <td>Bovine Thrombin</td>\n",
       "      <td>DCH</td>\n",
       "      <td>3-(7-DIAMINOMETHYL-NAPHTHALEN-2-YL)-PROPIONIC ...</td>\n",
       "    </tr>\n",
       "    <tr>\n",
       "      <th>7</th>\n",
       "      <td>1UVT</td>\n",
       "      <td>X-RAY DIFFRACTION</td>\n",
       "      <td>2.50</td>\n",
       "      <td>Bovine Thrombin</td>\n",
       "      <td>I48</td>\n",
       "      <td>N-{3-METHYL-5-[2-(PYRIDIN-4-YLAMINO)-ETHOXY]-P...</td>\n",
       "    </tr>\n",
       "    <tr>\n",
       "      <th>8</th>\n",
       "      <td>2C8Z</td>\n",
       "      <td>X-RAY DIFFRACTION</td>\n",
       "      <td>2.14</td>\n",
       "      <td>Thrombin</td>\n",
       "      <td>C2A</td>\n",
       "      <td>1-(3-CHLOROPHENYL)METHANAMINE</td>\n",
       "    </tr>\n",
       "    <tr>\n",
       "      <th>9</th>\n",
       "      <td>2C8Y</td>\n",
       "      <td>X-RAY DIFFRACTION</td>\n",
       "      <td>2.20</td>\n",
       "      <td>Thrombin</td>\n",
       "      <td>C3M</td>\n",
       "      <td>N-[(2R,3S)-3-AMINO-2-HYDROXY-4-PHENYLBUTYL]NAP...</td>\n",
       "    </tr>\n",
       "    <tr>\n",
       "      <th>10</th>\n",
       "      <td>2C90</td>\n",
       "      <td>X-RAY DIFFRACTION</td>\n",
       "      <td>2.25</td>\n",
       "      <td>Thrombin</td>\n",
       "      <td>C1M</td>\n",
       "      <td>1-(4-CHLOROPHENYL)-1H-TETRAZOLE</td>\n",
       "    </tr>\n",
       "  </tbody>\n",
       "</table>\n",
       "</div>"
      ],
      "text/plain": [
       "   PDB ID             Method  Resolution        Structure Ligand ID  \\\n",
       "0    3SHC  X-RAY DIFFRACTION        1.90   Human Thrombin       B01   \n",
       "1    3P17  X-RAY DIFFRACTION        1.43         Thrombin       99P   \n",
       "2    2ZNK  X-RAY DIFFRACTION        1.80         Thrombin       31U   \n",
       "3    3SI3  X-RAY DIFFRACTION        1.55   Human Thrombin       B03   \n",
       "4    3SI4  X-RAY DIFFRACTION        1.27   Human Thrombin       B04   \n",
       "5    3SV2  X-RAY DIFFRACTION        1.30   Human Thrombin       P05   \n",
       "6    1UVU  X-RAY DIFFRACTION        2.80  Bovine Thrombin       DCH   \n",
       "7    1UVT  X-RAY DIFFRACTION        2.50  Bovine Thrombin       I48   \n",
       "8    2C8Z  X-RAY DIFFRACTION        2.14         Thrombin       C2A   \n",
       "9    2C8Y  X-RAY DIFFRACTION        2.20         Thrombin       C3M   \n",
       "10   2C90  X-RAY DIFFRACTION        2.25         Thrombin       C1M   \n",
       "\n",
       "                                          Ligand name  \n",
       "0   D-phenylalanyl-N-[(4-chloropyridin-2-yl)methyl...  \n",
       "1   D-phenylalanyl-N-(pyridin-3-ylmethyl)-L-prolin...  \n",
       "2    D-leucyl-N-(4-carbamimidoylbenzyl)-L-prolinamide  \n",
       "3   D-phenylalanyl-N-(pyridin-2-ylmethyl)-L-prolin...  \n",
       "4   D-phenylalanyl-N-[(1-methylpyridinium-2-yl)met...  \n",
       "5   D-phenylalanyl-N-(pyridin-4-ylmethyl)-L-prolin...  \n",
       "6   3-(7-DIAMINOMETHYL-NAPHTHALEN-2-YL)-PROPIONIC ...  \n",
       "7   N-{3-METHYL-5-[2-(PYRIDIN-4-YLAMINO)-ETHOXY]-P...  \n",
       "8                       1-(3-CHLOROPHENYL)METHANAMINE  \n",
       "9   N-[(2R,3S)-3-AMINO-2-HYDROXY-4-PHENYLBUTYL]NAP...  \n",
       "10                    1-(4-CHLOROPHENYL)-1H-TETRAZOLE  "
      ]
     },
     "execution_count": 93,
     "metadata": {},
     "output_type": "execute_result"
    }
   ],
   "source": [
    "thrombin_df"
   ]
  },
  {
   "cell_type": "code",
   "execution_count": 94,
   "id": "1217ce9b",
   "metadata": {},
   "outputs": [
    {
     "data": {
      "text/html": [
       "<div>\n",
       "<style scoped>\n",
       "    .dataframe tbody tr th:only-of-type {\n",
       "        vertical-align: middle;\n",
       "    }\n",
       "\n",
       "    .dataframe tbody tr th {\n",
       "        vertical-align: top;\n",
       "    }\n",
       "\n",
       "    .dataframe thead th {\n",
       "        text-align: right;\n",
       "    }\n",
       "</style>\n",
       "<table border=\"1\" class=\"dataframe\">\n",
       "  <thead>\n",
       "    <tr style=\"text-align: right;\">\n",
       "      <th></th>\n",
       "      <th>PDB ID</th>\n",
       "      <th>Method</th>\n",
       "      <th>Resolution</th>\n",
       "      <th>Structure</th>\n",
       "      <th>Ligand ID</th>\n",
       "      <th>Ligand name</th>\n",
       "    </tr>\n",
       "  </thead>\n",
       "  <tbody>\n",
       "    <tr>\n",
       "      <th>4</th>\n",
       "      <td>3SI4</td>\n",
       "      <td>X-RAY DIFFRACTION</td>\n",
       "      <td>1.27</td>\n",
       "      <td>Human Thrombin</td>\n",
       "      <td>B04</td>\n",
       "      <td>D-phenylalanyl-N-[(1-methylpyridinium-2-yl)met...</td>\n",
       "    </tr>\n",
       "    <tr>\n",
       "      <th>5</th>\n",
       "      <td>3SV2</td>\n",
       "      <td>X-RAY DIFFRACTION</td>\n",
       "      <td>1.30</td>\n",
       "      <td>Human Thrombin</td>\n",
       "      <td>P05</td>\n",
       "      <td>D-phenylalanyl-N-(pyridin-4-ylmethyl)-L-prolin...</td>\n",
       "    </tr>\n",
       "    <tr>\n",
       "      <th>1</th>\n",
       "      <td>3P17</td>\n",
       "      <td>X-RAY DIFFRACTION</td>\n",
       "      <td>1.43</td>\n",
       "      <td>Thrombin</td>\n",
       "      <td>99P</td>\n",
       "      <td>D-phenylalanyl-N-(pyridin-3-ylmethyl)-L-prolin...</td>\n",
       "    </tr>\n",
       "    <tr>\n",
       "      <th>3</th>\n",
       "      <td>3SI3</td>\n",
       "      <td>X-RAY DIFFRACTION</td>\n",
       "      <td>1.55</td>\n",
       "      <td>Human Thrombin</td>\n",
       "      <td>B03</td>\n",
       "      <td>D-phenylalanyl-N-(pyridin-2-ylmethyl)-L-prolin...</td>\n",
       "    </tr>\n",
       "    <tr>\n",
       "      <th>2</th>\n",
       "      <td>2ZNK</td>\n",
       "      <td>X-RAY DIFFRACTION</td>\n",
       "      <td>1.80</td>\n",
       "      <td>Thrombin</td>\n",
       "      <td>31U</td>\n",
       "      <td>D-leucyl-N-(4-carbamimidoylbenzyl)-L-prolinamide</td>\n",
       "    </tr>\n",
       "    <tr>\n",
       "      <th>0</th>\n",
       "      <td>3SHC</td>\n",
       "      <td>X-RAY DIFFRACTION</td>\n",
       "      <td>1.90</td>\n",
       "      <td>Human Thrombin</td>\n",
       "      <td>B01</td>\n",
       "      <td>D-phenylalanyl-N-[(4-chloropyridin-2-yl)methyl...</td>\n",
       "    </tr>\n",
       "    <tr>\n",
       "      <th>8</th>\n",
       "      <td>2C8Z</td>\n",
       "      <td>X-RAY DIFFRACTION</td>\n",
       "      <td>2.14</td>\n",
       "      <td>Thrombin</td>\n",
       "      <td>C2A</td>\n",
       "      <td>1-(3-CHLOROPHENYL)METHANAMINE</td>\n",
       "    </tr>\n",
       "    <tr>\n",
       "      <th>9</th>\n",
       "      <td>2C8Y</td>\n",
       "      <td>X-RAY DIFFRACTION</td>\n",
       "      <td>2.20</td>\n",
       "      <td>Thrombin</td>\n",
       "      <td>C3M</td>\n",
       "      <td>N-[(2R,3S)-3-AMINO-2-HYDROXY-4-PHENYLBUTYL]NAP...</td>\n",
       "    </tr>\n",
       "    <tr>\n",
       "      <th>10</th>\n",
       "      <td>2C90</td>\n",
       "      <td>X-RAY DIFFRACTION</td>\n",
       "      <td>2.25</td>\n",
       "      <td>Thrombin</td>\n",
       "      <td>C1M</td>\n",
       "      <td>1-(4-CHLOROPHENYL)-1H-TETRAZOLE</td>\n",
       "    </tr>\n",
       "    <tr>\n",
       "      <th>7</th>\n",
       "      <td>1UVT</td>\n",
       "      <td>X-RAY DIFFRACTION</td>\n",
       "      <td>2.50</td>\n",
       "      <td>Bovine Thrombin</td>\n",
       "      <td>I48</td>\n",
       "      <td>N-{3-METHYL-5-[2-(PYRIDIN-4-YLAMINO)-ETHOXY]-P...</td>\n",
       "    </tr>\n",
       "    <tr>\n",
       "      <th>6</th>\n",
       "      <td>1UVU</td>\n",
       "      <td>X-RAY DIFFRACTION</td>\n",
       "      <td>2.80</td>\n",
       "      <td>Bovine Thrombin</td>\n",
       "      <td>DCH</td>\n",
       "      <td>3-(7-DIAMINOMETHYL-NAPHTHALEN-2-YL)-PROPIONIC ...</td>\n",
       "    </tr>\n",
       "  </tbody>\n",
       "</table>\n",
       "</div>"
      ],
      "text/plain": [
       "   PDB ID             Method  Resolution        Structure Ligand ID  \\\n",
       "4    3SI4  X-RAY DIFFRACTION        1.27   Human Thrombin       B04   \n",
       "5    3SV2  X-RAY DIFFRACTION        1.30   Human Thrombin       P05   \n",
       "1    3P17  X-RAY DIFFRACTION        1.43         Thrombin       99P   \n",
       "3    3SI3  X-RAY DIFFRACTION        1.55   Human Thrombin       B03   \n",
       "2    2ZNK  X-RAY DIFFRACTION        1.80         Thrombin       31U   \n",
       "0    3SHC  X-RAY DIFFRACTION        1.90   Human Thrombin       B01   \n",
       "8    2C8Z  X-RAY DIFFRACTION        2.14         Thrombin       C2A   \n",
       "9    2C8Y  X-RAY DIFFRACTION        2.20         Thrombin       C3M   \n",
       "10   2C90  X-RAY DIFFRACTION        2.25         Thrombin       C1M   \n",
       "7    1UVT  X-RAY DIFFRACTION        2.50  Bovine Thrombin       I48   \n",
       "6    1UVU  X-RAY DIFFRACTION        2.80  Bovine Thrombin       DCH   \n",
       "\n",
       "                                          Ligand name  \n",
       "4   D-phenylalanyl-N-[(1-methylpyridinium-2-yl)met...  \n",
       "5   D-phenylalanyl-N-(pyridin-4-ylmethyl)-L-prolin...  \n",
       "1   D-phenylalanyl-N-(pyridin-3-ylmethyl)-L-prolin...  \n",
       "3   D-phenylalanyl-N-(pyridin-2-ylmethyl)-L-prolin...  \n",
       "2    D-leucyl-N-(4-carbamimidoylbenzyl)-L-prolinamide  \n",
       "0   D-phenylalanyl-N-[(4-chloropyridin-2-yl)methyl...  \n",
       "8                       1-(3-CHLOROPHENYL)METHANAMINE  \n",
       "9   N-[(2R,3S)-3-AMINO-2-HYDROXY-4-PHENYLBUTYL]NAP...  \n",
       "10                    1-(4-CHLOROPHENYL)-1H-TETRAZOLE  \n",
       "7   N-{3-METHYL-5-[2-(PYRIDIN-4-YLAMINO)-ETHOXY]-P...  \n",
       "6   3-(7-DIAMINOMETHYL-NAPHTHALEN-2-YL)-PROPIONIC ...  "
      ]
     },
     "execution_count": 94,
     "metadata": {},
     "output_type": "execute_result"
    }
   ],
   "source": [
    "thrombin_df.sort_values('Resolution', inplace = True)\n",
    "thrombin_df"
   ]
  },
  {
   "cell_type": "code",
   "execution_count": 95,
   "id": "24c2c3aa",
   "metadata": {},
   "outputs": [
    {
     "name": "stdout",
     "output_type": "stream",
     "text": [
      "AP_kin.csv                  chymotrypsin_kinetics.csv\r\n",
      "AP_kinetics.csv             chymotrypsin_kinetics.xlsx\r\n",
      "Ground_water.csv            enzyme_kinetics.csv\r\n",
      "MM_data.csv                 enzyme_kinetics.xlsx\r\n",
      "MM_data1.csv                protein_assay.csv\r\n",
      "MM_data_for_NLRpt2.csv      protein_assay2.csv\r\n",
      "\u001b[34mPDB_files\u001b[m\u001b[m/                  protein_samples.csv\r\n",
      "chymo_MM_data.csv           thrombin_with_ligands.csv\r\n"
     ]
    }
   ],
   "source": [
    "ls data"
   ]
  },
  {
   "cell_type": "code",
   "execution_count": 96,
   "id": "24a6fa25",
   "metadata": {},
   "outputs": [
    {
     "name": "stdout",
     "output_type": "stream",
     "text": [
      "data/enzyme_kinetics.csv\n"
     ]
    }
   ],
   "source": [
    "enzyme_file = os.path.join('data', 'enzyme_kinetics.csv')\n",
    "print(enzyme_file)"
   ]
  },
  {
   "cell_type": "code",
   "execution_count": 99,
   "id": "f83f1f8e",
   "metadata": {},
   "outputs": [],
   "source": [
    "data = pd.read_csv(enzyme_file)"
   ]
  },
  {
   "cell_type": "code",
   "execution_count": 100,
   "id": "052f5c46",
   "metadata": {},
   "outputs": [
    {
     "data": {
      "text/plain": [
       "<bound method NDFrame.head of     Substrate_conc   Velocity\n",
       "0               15  50.000000\n",
       "1                1   6.250000\n",
       "2                3  16.666667\n",
       "3                4  21.526316\n",
       "4              100  86.956522\n",
       "5                6  28.571429\n",
       "6                2  11.764706\n",
       "7               10  40.000000\n",
       "8               75  83.333333\n",
       "9               20  57.142857\n",
       "10               8  34.782609\n",
       "11              30  66.666667\n",
       "12              50  76.923077>"
      ]
     },
     "execution_count": 100,
     "metadata": {},
     "output_type": "execute_result"
    }
   ],
   "source": [
    "data.head"
   ]
  },
  {
   "cell_type": "code",
   "execution_count": 101,
   "id": "9f1f014f",
   "metadata": {},
   "outputs": [
    {
     "data": {
      "text/html": [
       "<div>\n",
       "<style scoped>\n",
       "    .dataframe tbody tr th:only-of-type {\n",
       "        vertical-align: middle;\n",
       "    }\n",
       "\n",
       "    .dataframe tbody tr th {\n",
       "        vertical-align: top;\n",
       "    }\n",
       "\n",
       "    .dataframe thead th {\n",
       "        text-align: right;\n",
       "    }\n",
       "</style>\n",
       "<table border=\"1\" class=\"dataframe\">\n",
       "  <thead>\n",
       "    <tr style=\"text-align: right;\">\n",
       "      <th></th>\n",
       "      <th>Substrate_conc</th>\n",
       "      <th>Velocity</th>\n",
       "    </tr>\n",
       "  </thead>\n",
       "  <tbody>\n",
       "    <tr>\n",
       "      <th>0</th>\n",
       "      <td>15</td>\n",
       "      <td>50.000000</td>\n",
       "    </tr>\n",
       "    <tr>\n",
       "      <th>1</th>\n",
       "      <td>1</td>\n",
       "      <td>6.250000</td>\n",
       "    </tr>\n",
       "    <tr>\n",
       "      <th>2</th>\n",
       "      <td>3</td>\n",
       "      <td>16.666667</td>\n",
       "    </tr>\n",
       "    <tr>\n",
       "      <th>3</th>\n",
       "      <td>4</td>\n",
       "      <td>21.526316</td>\n",
       "    </tr>\n",
       "    <tr>\n",
       "      <th>4</th>\n",
       "      <td>100</td>\n",
       "      <td>86.956522</td>\n",
       "    </tr>\n",
       "    <tr>\n",
       "      <th>5</th>\n",
       "      <td>6</td>\n",
       "      <td>28.571429</td>\n",
       "    </tr>\n",
       "    <tr>\n",
       "      <th>6</th>\n",
       "      <td>2</td>\n",
       "      <td>11.764706</td>\n",
       "    </tr>\n",
       "    <tr>\n",
       "      <th>7</th>\n",
       "      <td>10</td>\n",
       "      <td>40.000000</td>\n",
       "    </tr>\n",
       "    <tr>\n",
       "      <th>8</th>\n",
       "      <td>75</td>\n",
       "      <td>83.333333</td>\n",
       "    </tr>\n",
       "    <tr>\n",
       "      <th>9</th>\n",
       "      <td>20</td>\n",
       "      <td>57.142857</td>\n",
       "    </tr>\n",
       "    <tr>\n",
       "      <th>10</th>\n",
       "      <td>8</td>\n",
       "      <td>34.782609</td>\n",
       "    </tr>\n",
       "    <tr>\n",
       "      <th>11</th>\n",
       "      <td>30</td>\n",
       "      <td>66.666667</td>\n",
       "    </tr>\n",
       "    <tr>\n",
       "      <th>12</th>\n",
       "      <td>50</td>\n",
       "      <td>76.923077</td>\n",
       "    </tr>\n",
       "  </tbody>\n",
       "</table>\n",
       "</div>"
      ],
      "text/plain": [
       "    Substrate_conc   Velocity\n",
       "0               15  50.000000\n",
       "1                1   6.250000\n",
       "2                3  16.666667\n",
       "3                4  21.526316\n",
       "4              100  86.956522\n",
       "5                6  28.571429\n",
       "6                2  11.764706\n",
       "7               10  40.000000\n",
       "8               75  83.333333\n",
       "9               20  57.142857\n",
       "10               8  34.782609\n",
       "11              30  66.666667\n",
       "12              50  76.923077"
      ]
     },
     "execution_count": 101,
     "metadata": {},
     "output_type": "execute_result"
    }
   ],
   "source": [
    "enzyme_df = pd.read_csv(enzyme_file)\n",
    "enzyme_df"
   ]
  },
  {
   "cell_type": "code",
   "execution_count": 102,
   "id": "a74c9a01",
   "metadata": {},
   "outputs": [
    {
     "data": {
      "text/plain": [
       "0      15\n",
       "1       1\n",
       "2       3\n",
       "3       4\n",
       "4     100\n",
       "5       6\n",
       "6       2\n",
       "7      10\n",
       "8      75\n",
       "9      20\n",
       "10      8\n",
       "11     30\n",
       "12     50\n",
       "Name: Substrate_conc, dtype: int64"
      ]
     },
     "execution_count": 102,
     "metadata": {},
     "output_type": "execute_result"
    }
   ],
   "source": [
    "enzyme_df['Substrate_conc']"
   ]
  },
  {
   "cell_type": "code",
   "execution_count": 103,
   "id": "82ea53e1",
   "metadata": {},
   "outputs": [
    {
     "data": {
      "text/html": [
       "<div>\n",
       "<style scoped>\n",
       "    .dataframe tbody tr th:only-of-type {\n",
       "        vertical-align: middle;\n",
       "    }\n",
       "\n",
       "    .dataframe tbody tr th {\n",
       "        vertical-align: top;\n",
       "    }\n",
       "\n",
       "    .dataframe thead th {\n",
       "        text-align: right;\n",
       "    }\n",
       "</style>\n",
       "<table border=\"1\" class=\"dataframe\">\n",
       "  <thead>\n",
       "    <tr style=\"text-align: right;\">\n",
       "      <th></th>\n",
       "      <th>Substrate_conc</th>\n",
       "      <th>Velocity</th>\n",
       "    </tr>\n",
       "  </thead>\n",
       "  <tbody>\n",
       "    <tr>\n",
       "      <th>1</th>\n",
       "      <td>1</td>\n",
       "      <td>6.250000</td>\n",
       "    </tr>\n",
       "    <tr>\n",
       "      <th>6</th>\n",
       "      <td>2</td>\n",
       "      <td>11.764706</td>\n",
       "    </tr>\n",
       "    <tr>\n",
       "      <th>2</th>\n",
       "      <td>3</td>\n",
       "      <td>16.666667</td>\n",
       "    </tr>\n",
       "    <tr>\n",
       "      <th>3</th>\n",
       "      <td>4</td>\n",
       "      <td>21.526316</td>\n",
       "    </tr>\n",
       "    <tr>\n",
       "      <th>5</th>\n",
       "      <td>6</td>\n",
       "      <td>28.571429</td>\n",
       "    </tr>\n",
       "    <tr>\n",
       "      <th>10</th>\n",
       "      <td>8</td>\n",
       "      <td>34.782609</td>\n",
       "    </tr>\n",
       "    <tr>\n",
       "      <th>7</th>\n",
       "      <td>10</td>\n",
       "      <td>40.000000</td>\n",
       "    </tr>\n",
       "    <tr>\n",
       "      <th>0</th>\n",
       "      <td>15</td>\n",
       "      <td>50.000000</td>\n",
       "    </tr>\n",
       "    <tr>\n",
       "      <th>9</th>\n",
       "      <td>20</td>\n",
       "      <td>57.142857</td>\n",
       "    </tr>\n",
       "    <tr>\n",
       "      <th>11</th>\n",
       "      <td>30</td>\n",
       "      <td>66.666667</td>\n",
       "    </tr>\n",
       "    <tr>\n",
       "      <th>12</th>\n",
       "      <td>50</td>\n",
       "      <td>76.923077</td>\n",
       "    </tr>\n",
       "    <tr>\n",
       "      <th>8</th>\n",
       "      <td>75</td>\n",
       "      <td>83.333333</td>\n",
       "    </tr>\n",
       "    <tr>\n",
       "      <th>4</th>\n",
       "      <td>100</td>\n",
       "      <td>86.956522</td>\n",
       "    </tr>\n",
       "  </tbody>\n",
       "</table>\n",
       "</div>"
      ],
      "text/plain": [
       "    Substrate_conc   Velocity\n",
       "1                1   6.250000\n",
       "6                2  11.764706\n",
       "2                3  16.666667\n",
       "3                4  21.526316\n",
       "5                6  28.571429\n",
       "10               8  34.782609\n",
       "7               10  40.000000\n",
       "0               15  50.000000\n",
       "9               20  57.142857\n",
       "11              30  66.666667\n",
       "12              50  76.923077\n",
       "8               75  83.333333\n",
       "4              100  86.956522"
      ]
     },
     "execution_count": 103,
     "metadata": {},
     "output_type": "execute_result"
    }
   ],
   "source": [
    "enzyme_df.sort_values('Substrate_conc', inplace = True)\n",
    "enzyme_df"
   ]
  },
  {
   "cell_type": "code",
   "execution_count": 104,
   "id": "4357a53a",
   "metadata": {},
   "outputs": [],
   "source": [
    "import os\n",
    "import numpy as np\n",
    "import pandas as pd\n",
    "from scipy import stats"
   ]
  },
  {
   "cell_type": "code",
   "execution_count": 105,
   "id": "6151dcbb",
   "metadata": {},
   "outputs": [
    {
     "data": {
      "text/html": [
       "<div>\n",
       "<style scoped>\n",
       "    .dataframe tbody tr th:only-of-type {\n",
       "        vertical-align: middle;\n",
       "    }\n",
       "\n",
       "    .dataframe tbody tr th {\n",
       "        vertical-align: top;\n",
       "    }\n",
       "\n",
       "    .dataframe thead th {\n",
       "        text-align: right;\n",
       "    }\n",
       "</style>\n",
       "<table border=\"1\" class=\"dataframe\">\n",
       "  <thead>\n",
       "    <tr style=\"text-align: right;\">\n",
       "      <th></th>\n",
       "      <th>Protein Concentration (mg/mL)</th>\n",
       "      <th>A595</th>\n",
       "    </tr>\n",
       "  </thead>\n",
       "  <tbody>\n",
       "    <tr>\n",
       "      <th>0</th>\n",
       "      <td>0.2</td>\n",
       "      <td>0.285</td>\n",
       "    </tr>\n",
       "    <tr>\n",
       "      <th>1</th>\n",
       "      <td>0.4</td>\n",
       "      <td>0.485</td>\n",
       "    </tr>\n",
       "    <tr>\n",
       "      <th>2</th>\n",
       "      <td>0.6</td>\n",
       "      <td>0.621</td>\n",
       "    </tr>\n",
       "    <tr>\n",
       "      <th>3</th>\n",
       "      <td>0.8</td>\n",
       "      <td>0.799</td>\n",
       "    </tr>\n",
       "    <tr>\n",
       "      <th>4</th>\n",
       "      <td>1.0</td>\n",
       "      <td>1.010</td>\n",
       "    </tr>\n",
       "    <tr>\n",
       "      <th>5</th>\n",
       "      <td>1.2</td>\n",
       "      <td>1.118</td>\n",
       "    </tr>\n",
       "  </tbody>\n",
       "</table>\n",
       "</div>"
      ],
      "text/plain": [
       "   Protein Concentration (mg/mL)   A595\n",
       "0                            0.2  0.285\n",
       "1                            0.4  0.485\n",
       "2                            0.6  0.621\n",
       "3                            0.8  0.799\n",
       "4                            1.0  1.010\n",
       "5                            1.2  1.118"
      ]
     },
     "execution_count": 105,
     "metadata": {},
     "output_type": "execute_result"
    }
   ],
   "source": [
    "protein_file = os.path.join('data', 'protein_assay.csv')\n",
    "results_df = pd.read_csv(protein_file)\n",
    "results_df"
   ]
  },
  {
   "cell_type": "code",
   "execution_count": 107,
   "id": "72e0e483",
   "metadata": {},
   "outputs": [
    {
     "name": "stdout",
     "output_type": "stream",
     "text": [
      "0    0.2\n",
      "1    0.4\n",
      "2    0.6\n",
      "3    0.8\n",
      "4    1.0\n",
      "5    1.2\n",
      "Name: Protein Concentration (mg/mL), dtype: float64 0    0.285\n",
      "1    0.485\n",
      "2    0.621\n",
      "3    0.799\n",
      "4    1.010\n",
      "5    1.118\n",
      "Name: A595, dtype: float64\n"
     ]
    }
   ],
   "source": [
    "xdata = results_df['Protein Concentration (mg/mL)']   # setting the x values  \n",
    "ydata = results_df['A595']  # setting the y values    \n",
    "print(xdata,ydata) # checking to make sure everything is in place"
   ]
  },
  {
   "cell_type": "code",
   "execution_count": 109,
   "id": "fd552a4e",
   "metadata": {},
   "outputs": [
    {
     "name": "stdout",
     "output_type": "stream",
     "text": [
      "Slope =  0.8454285714285716\n",
      "Intercept =  0.12786666666666657\n",
      "R-squared =  0.994690398528738\n",
      "P value =  1.0590717448341336e-05\n",
      "Standard error =  0.030884027089284245\n"
     ]
    }
   ],
   "source": [
    "slope, intercept, r_value, p_value, std_err = stats.linregress(xdata, ydata)\n",
    "print(\"Slope = \", slope)\n",
    "print(\"Intercept = \", intercept)\n",
    "print(\"R-squared = \", r_value**2)\n",
    "print(\"P value = \", p_value)\n",
    "print(\"Standard error = \", std_err)"
   ]
  },
  {
   "cell_type": "code",
   "execution_count": 112,
   "id": "ceda6aa6",
   "metadata": {},
   "outputs": [
    {
     "data": {
      "text/html": [
       "<div>\n",
       "<style scoped>\n",
       "    .dataframe tbody tr th:only-of-type {\n",
       "        vertical-align: middle;\n",
       "    }\n",
       "\n",
       "    .dataframe tbody tr th {\n",
       "        vertical-align: top;\n",
       "    }\n",
       "\n",
       "    .dataframe thead th {\n",
       "        text-align: right;\n",
       "    }\n",
       "</style>\n",
       "<table border=\"1\" class=\"dataframe\">\n",
       "  <thead>\n",
       "    <tr style=\"text-align: right;\">\n",
       "      <th></th>\n",
       "      <th>Sample #</th>\n",
       "      <th>A-595</th>\n",
       "    </tr>\n",
       "  </thead>\n",
       "  <tbody>\n",
       "    <tr>\n",
       "      <th>0</th>\n",
       "      <td>1</td>\n",
       "      <td>0.183</td>\n",
       "    </tr>\n",
       "    <tr>\n",
       "      <th>1</th>\n",
       "      <td>2</td>\n",
       "      <td>0.682</td>\n",
       "    </tr>\n",
       "    <tr>\n",
       "      <th>2</th>\n",
       "      <td>3</td>\n",
       "      <td>0.759</td>\n",
       "    </tr>\n",
       "    <tr>\n",
       "      <th>3</th>\n",
       "      <td>4</td>\n",
       "      <td>1.340</td>\n",
       "    </tr>\n",
       "    <tr>\n",
       "      <th>4</th>\n",
       "      <td>5</td>\n",
       "      <td>0.935</td>\n",
       "    </tr>\n",
       "    <tr>\n",
       "      <th>5</th>\n",
       "      <td>6</td>\n",
       "      <td>1.013</td>\n",
       "    </tr>\n",
       "  </tbody>\n",
       "</table>\n",
       "</div>"
      ],
      "text/plain": [
       "   Sample #  A-595\n",
       "0         1  0.183\n",
       "1         2  0.682\n",
       "2         3  0.759\n",
       "3         4  1.340\n",
       "4         5  0.935\n",
       "5         6  1.013"
      ]
     },
     "execution_count": 112,
     "metadata": {},
     "output_type": "execute_result"
    }
   ],
   "source": [
    "samples_file = os.path.join('data', 'protein_samples.csv')\n",
    "samples_df = pd.read_csv(samples_file)\n",
    "samples_df # displays the dataframe"
   ]
  },
  {
   "cell_type": "code",
   "execution_count": 114,
   "id": "53dd350e",
   "metadata": {},
   "outputs": [
    {
     "name": "stdout",
     "output_type": "stream",
     "text": [
      "0    0.065213\n",
      "1    0.655447\n",
      "2    0.746525\n",
      "3    1.433750\n",
      "4    0.954703\n",
      "5    1.046964\n",
      "Name: A-595, dtype: float64\n"
     ]
    }
   ],
   "source": [
    "protein_conc = ((samples_df['A-595'] - intercept) / slope)\n",
    "print(protein_conc)\n",
    "# created the equation Protein concentration = (A595 - intercept) / slope"
   ]
  },
  {
   "cell_type": "code",
   "execution_count": 115,
   "id": "1caddcf0",
   "metadata": {},
   "outputs": [
    {
     "data": {
      "text/html": [
       "<div>\n",
       "<style scoped>\n",
       "    .dataframe tbody tr th:only-of-type {\n",
       "        vertical-align: middle;\n",
       "    }\n",
       "\n",
       "    .dataframe tbody tr th {\n",
       "        vertical-align: top;\n",
       "    }\n",
       "\n",
       "    .dataframe thead th {\n",
       "        text-align: right;\n",
       "    }\n",
       "</style>\n",
       "<table border=\"1\" class=\"dataframe\">\n",
       "  <thead>\n",
       "    <tr style=\"text-align: right;\">\n",
       "      <th></th>\n",
       "      <th>Sample #</th>\n",
       "      <th>A-595</th>\n",
       "      <th>ProtConc</th>\n",
       "    </tr>\n",
       "  </thead>\n",
       "  <tbody>\n",
       "    <tr>\n",
       "      <th>0</th>\n",
       "      <td>1</td>\n",
       "      <td>0.183</td>\n",
       "      <td>0.065213</td>\n",
       "    </tr>\n",
       "    <tr>\n",
       "      <th>1</th>\n",
       "      <td>2</td>\n",
       "      <td>0.682</td>\n",
       "      <td>0.655447</td>\n",
       "    </tr>\n",
       "    <tr>\n",
       "      <th>2</th>\n",
       "      <td>3</td>\n",
       "      <td>0.759</td>\n",
       "      <td>0.746525</td>\n",
       "    </tr>\n",
       "    <tr>\n",
       "      <th>3</th>\n",
       "      <td>4</td>\n",
       "      <td>1.340</td>\n",
       "      <td>1.433750</td>\n",
       "    </tr>\n",
       "    <tr>\n",
       "      <th>4</th>\n",
       "      <td>5</td>\n",
       "      <td>0.935</td>\n",
       "      <td>0.954703</td>\n",
       "    </tr>\n",
       "    <tr>\n",
       "      <th>5</th>\n",
       "      <td>6</td>\n",
       "      <td>1.013</td>\n",
       "      <td>1.046964</td>\n",
       "    </tr>\n",
       "  </tbody>\n",
       "</table>\n",
       "</div>"
      ],
      "text/plain": [
       "   Sample #  A-595  ProtConc\n",
       "0         1  0.183  0.065213\n",
       "1         2  0.682  0.655447\n",
       "2         3  0.759  0.746525\n",
       "3         4  1.340  1.433750\n",
       "4         5  0.935  0.954703\n",
       "5         6  1.013  1.046964"
      ]
     },
     "execution_count": 115,
     "metadata": {},
     "output_type": "execute_result"
    }
   ],
   "source": [
    "samples_df['ProtConc'] = protein_conc\n",
    "samples_df"
   ]
  },
  {
   "cell_type": "code",
   "execution_count": 117,
   "id": "8b5ff2b1",
   "metadata": {},
   "outputs": [
    {
     "data": {
      "text/html": [
       "<div>\n",
       "<style scoped>\n",
       "    .dataframe tbody tr th:only-of-type {\n",
       "        vertical-align: middle;\n",
       "    }\n",
       "\n",
       "    .dataframe tbody tr th {\n",
       "        vertical-align: top;\n",
       "    }\n",
       "\n",
       "    .dataframe thead th {\n",
       "        text-align: right;\n",
       "    }\n",
       "</style>\n",
       "<table border=\"1\" class=\"dataframe\">\n",
       "  <thead>\n",
       "    <tr style=\"text-align: right;\">\n",
       "      <th></th>\n",
       "      <th>Sample #</th>\n",
       "      <th>A-595</th>\n",
       "      <th>ProtConc</th>\n",
       "    </tr>\n",
       "  </thead>\n",
       "  <tbody>\n",
       "    <tr>\n",
       "      <th>0</th>\n",
       "      <td>1</td>\n",
       "      <td>0.183</td>\n",
       "      <td>NaN</td>\n",
       "    </tr>\n",
       "    <tr>\n",
       "      <th>1</th>\n",
       "      <td>2</td>\n",
       "      <td>0.682</td>\n",
       "      <td>0.655447</td>\n",
       "    </tr>\n",
       "    <tr>\n",
       "      <th>2</th>\n",
       "      <td>3</td>\n",
       "      <td>0.759</td>\n",
       "      <td>0.746525</td>\n",
       "    </tr>\n",
       "    <tr>\n",
       "      <th>3</th>\n",
       "      <td>4</td>\n",
       "      <td>1.340</td>\n",
       "      <td>NaN</td>\n",
       "    </tr>\n",
       "    <tr>\n",
       "      <th>4</th>\n",
       "      <td>5</td>\n",
       "      <td>0.935</td>\n",
       "      <td>0.954703</td>\n",
       "    </tr>\n",
       "    <tr>\n",
       "      <th>5</th>\n",
       "      <td>6</td>\n",
       "      <td>1.013</td>\n",
       "      <td>1.046964</td>\n",
       "    </tr>\n",
       "  </tbody>\n",
       "</table>\n",
       "</div>"
      ],
      "text/plain": [
       "   Sample #  A-595  ProtConc\n",
       "0         1  0.183       NaN\n",
       "1         2  0.682  0.655447\n",
       "2         3  0.759  0.746525\n",
       "3         4  1.340       NaN\n",
       "4         5  0.935  0.954703\n",
       "5         6  1.013  1.046964"
      ]
     },
     "execution_count": 117,
     "metadata": {},
     "output_type": "execute_result"
    }
   ],
   "source": [
    "samples_df.loc[samples_df['A-595'] < 0.285, 'ProtConc'] = np.nan\n",
    "samples_df.loc[samples_df['A-595'] > 1.118, 'ProtConc'] = np.nan\n",
    "samples_df"
   ]
  },
  {
   "cell_type": "code",
   "execution_count": 122,
   "id": "872b0de7",
   "metadata": {},
   "outputs": [
    {
     "ename": "KeyError",
     "evalue": "'A-595'",
     "output_type": "error",
     "traceback": [
      "\u001b[0;31m---------------------------------------------------------------------------\u001b[0m",
      "\u001b[0;31mKeyError\u001b[0m                                  Traceback (most recent call last)",
      "File \u001b[0;32m~/anaconda3/lib/python3.9/site-packages/pandas/core/indexes/base.py:3621\u001b[0m, in \u001b[0;36mIndex.get_loc\u001b[0;34m(self, key, method, tolerance)\u001b[0m\n\u001b[1;32m   3620\u001b[0m \u001b[38;5;28;01mtry\u001b[39;00m:\n\u001b[0;32m-> 3621\u001b[0m     \u001b[38;5;28;01mreturn\u001b[39;00m \u001b[38;5;28;43mself\u001b[39;49m\u001b[38;5;241;43m.\u001b[39;49m\u001b[43m_engine\u001b[49m\u001b[38;5;241;43m.\u001b[39;49m\u001b[43mget_loc\u001b[49m\u001b[43m(\u001b[49m\u001b[43mcasted_key\u001b[49m\u001b[43m)\u001b[49m\n\u001b[1;32m   3622\u001b[0m \u001b[38;5;28;01mexcept\u001b[39;00m \u001b[38;5;167;01mKeyError\u001b[39;00m \u001b[38;5;28;01mas\u001b[39;00m err:\n",
      "File \u001b[0;32m~/anaconda3/lib/python3.9/site-packages/pandas/_libs/index.pyx:136\u001b[0m, in \u001b[0;36mpandas._libs.index.IndexEngine.get_loc\u001b[0;34m()\u001b[0m\n",
      "File \u001b[0;32m~/anaconda3/lib/python3.9/site-packages/pandas/_libs/index.pyx:163\u001b[0m, in \u001b[0;36mpandas._libs.index.IndexEngine.get_loc\u001b[0;34m()\u001b[0m\n",
      "File \u001b[0;32mpandas/_libs/hashtable_class_helper.pxi:5198\u001b[0m, in \u001b[0;36mpandas._libs.hashtable.PyObjectHashTable.get_item\u001b[0;34m()\u001b[0m\n",
      "File \u001b[0;32mpandas/_libs/hashtable_class_helper.pxi:5206\u001b[0m, in \u001b[0;36mpandas._libs.hashtable.PyObjectHashTable.get_item\u001b[0;34m()\u001b[0m\n",
      "\u001b[0;31mKeyError\u001b[0m: 'A-595'",
      "\nThe above exception was the direct cause of the following exception:\n",
      "\u001b[0;31mKeyError\u001b[0m                                  Traceback (most recent call last)",
      "Input \u001b[0;32mIn [122]\u001b[0m, in \u001b[0;36m<cell line: 1>\u001b[0;34m()\u001b[0m\n\u001b[0;32m----> 1\u001b[0m samples_df\u001b[38;5;241m.\u001b[39mloc[samples_df[\u001b[38;5;124m'\u001b[39m\u001b[38;5;124mA-595\u001b[39m\u001b[38;5;124m'\u001b[39m] \u001b[38;5;241m<\u001b[39m \u001b[43mresults_df\u001b[49m\u001b[43m[\u001b[49m\u001b[38;5;124;43m'\u001b[39;49m\u001b[38;5;124;43mA-595\u001b[39;49m\u001b[38;5;124;43m'\u001b[39;49m\u001b[43m]\u001b[49m\u001b[38;5;241m.\u001b[39mmin(), \u001b[38;5;124m'\u001b[39m\u001b[38;5;124mProtConc\u001b[39m\u001b[38;5;124m'\u001b[39m] \u001b[38;5;241m=\u001b[39m np\u001b[38;5;241m.\u001b[39mnan\n\u001b[1;32m      2\u001b[0m samples_df\u001b[38;5;241m.\u001b[39mloc[samples_df[\u001b[38;5;124m'\u001b[39m\u001b[38;5;124mA-595\u001b[39m\u001b[38;5;124m'\u001b[39m] \u001b[38;5;241m>\u001b[39m results_df[\u001b[38;5;124m'\u001b[39m\u001b[38;5;124mA-595\u001b[39m\u001b[38;5;124m'\u001b[39m]\u001b[38;5;241m.\u001b[39mmax(), \u001b[38;5;124m'\u001b[39m\u001b[38;5;124mProtConc\u001b[39m\u001b[38;5;124m'\u001b[39m] \u001b[38;5;241m=\u001b[39m np\u001b[38;5;241m.\u001b[39mnan\n",
      "File \u001b[0;32m~/anaconda3/lib/python3.9/site-packages/pandas/core/frame.py:3505\u001b[0m, in \u001b[0;36mDataFrame.__getitem__\u001b[0;34m(self, key)\u001b[0m\n\u001b[1;32m   3503\u001b[0m \u001b[38;5;28;01mif\u001b[39;00m \u001b[38;5;28mself\u001b[39m\u001b[38;5;241m.\u001b[39mcolumns\u001b[38;5;241m.\u001b[39mnlevels \u001b[38;5;241m>\u001b[39m \u001b[38;5;241m1\u001b[39m:\n\u001b[1;32m   3504\u001b[0m     \u001b[38;5;28;01mreturn\u001b[39;00m \u001b[38;5;28mself\u001b[39m\u001b[38;5;241m.\u001b[39m_getitem_multilevel(key)\n\u001b[0;32m-> 3505\u001b[0m indexer \u001b[38;5;241m=\u001b[39m \u001b[38;5;28;43mself\u001b[39;49m\u001b[38;5;241;43m.\u001b[39;49m\u001b[43mcolumns\u001b[49m\u001b[38;5;241;43m.\u001b[39;49m\u001b[43mget_loc\u001b[49m\u001b[43m(\u001b[49m\u001b[43mkey\u001b[49m\u001b[43m)\u001b[49m\n\u001b[1;32m   3506\u001b[0m \u001b[38;5;28;01mif\u001b[39;00m is_integer(indexer):\n\u001b[1;32m   3507\u001b[0m     indexer \u001b[38;5;241m=\u001b[39m [indexer]\n",
      "File \u001b[0;32m~/anaconda3/lib/python3.9/site-packages/pandas/core/indexes/base.py:3623\u001b[0m, in \u001b[0;36mIndex.get_loc\u001b[0;34m(self, key, method, tolerance)\u001b[0m\n\u001b[1;32m   3621\u001b[0m     \u001b[38;5;28;01mreturn\u001b[39;00m \u001b[38;5;28mself\u001b[39m\u001b[38;5;241m.\u001b[39m_engine\u001b[38;5;241m.\u001b[39mget_loc(casted_key)\n\u001b[1;32m   3622\u001b[0m \u001b[38;5;28;01mexcept\u001b[39;00m \u001b[38;5;167;01mKeyError\u001b[39;00m \u001b[38;5;28;01mas\u001b[39;00m err:\n\u001b[0;32m-> 3623\u001b[0m     \u001b[38;5;28;01mraise\u001b[39;00m \u001b[38;5;167;01mKeyError\u001b[39;00m(key) \u001b[38;5;28;01mfrom\u001b[39;00m \u001b[38;5;21;01merr\u001b[39;00m\n\u001b[1;32m   3624\u001b[0m \u001b[38;5;28;01mexcept\u001b[39;00m \u001b[38;5;167;01mTypeError\u001b[39;00m:\n\u001b[1;32m   3625\u001b[0m     \u001b[38;5;66;03m# If we have a listlike key, _check_indexing_error will raise\u001b[39;00m\n\u001b[1;32m   3626\u001b[0m     \u001b[38;5;66;03m#  InvalidIndexError. Otherwise we fall through and re-raise\u001b[39;00m\n\u001b[1;32m   3627\u001b[0m     \u001b[38;5;66;03m#  the TypeError.\u001b[39;00m\n\u001b[1;32m   3628\u001b[0m     \u001b[38;5;28mself\u001b[39m\u001b[38;5;241m.\u001b[39m_check_indexing_error(key)\n",
      "\u001b[0;31mKeyError\u001b[0m: 'A-595'"
     ]
    }
   ],
   "source": [
    "samples_df.loc[samples_df['A-595'] < results_df['A-595'].min(), 'ProtConc'] = np.nan\n",
    "samples_df.loc[samples_df['A-595'] > results_df['A-595'].max(), 'ProtConc'] = np.nan"
   ]
  },
  {
   "cell_type": "code",
   "execution_count": 123,
   "id": "72e88c1e",
   "metadata": {},
   "outputs": [
    {
     "name": "stdout",
     "output_type": "stream",
     "text": [
      "AP_kin.csv                  chymotrypsin_kinetics.csv\r\n",
      "AP_kinetics.csv             chymotrypsin_kinetics.xlsx\r\n",
      "Ground_water.csv            enzyme_kinetics.csv\r\n",
      "MM_data.csv                 enzyme_kinetics.xlsx\r\n",
      "MM_data1.csv                protein_assay.csv\r\n",
      "MM_data_for_NLRpt2.csv      protein_assay2.csv\r\n",
      "\u001b[34mPDB_files\u001b[m\u001b[m/                  protein_samples.csv\r\n",
      "chymo_MM_data.csv           thrombin_with_ligands.csv\r\n"
     ]
    }
   ],
   "source": [
    "ls data"
   ]
  },
  {
   "cell_type": "code",
   "execution_count": 124,
   "id": "ced7de6e",
   "metadata": {},
   "outputs": [
    {
     "name": "stdout",
     "output_type": "stream",
     "text": [
      "data/Ground_water.csv\n"
     ]
    }
   ],
   "source": [
    "water_file = os.path.join('data', 'Ground_water.csv')\n",
    "print(water_file)"
   ]
  },
  {
   "cell_type": "code",
   "execution_count": 125,
   "id": "41d1da0d",
   "metadata": {},
   "outputs": [],
   "source": [
    "data = pd.read_csv(water_file)"
   ]
  },
  {
   "cell_type": "code",
   "execution_count": 126,
   "id": "24199dbf",
   "metadata": {},
   "outputs": [
    {
     "data": {
      "text/plain": [
       "<bound method NDFrame.head of      pH  Bicarb\n",
       "0   7.6     157\n",
       "1   7.1     174\n",
       "2   8.2     175\n",
       "3   7.5     188\n",
       "4   7.4     171\n",
       "5   7.8     143\n",
       "6   7.3     217\n",
       "7   8.0     190\n",
       "8   7.1     142\n",
       "9   7.5     190\n",
       "10  8.1     215\n",
       "11  7.0     199\n",
       "12  7.3     262\n",
       "13  7.8     105\n",
       "14  7.3     121\n",
       "15  8.0      81\n",
       "16  8.5      82\n",
       "17  7.1     210\n",
       "18  8.2     202\n",
       "19  7.9     155\n",
       "20  7.6     157\n",
       "21  8.8     147\n",
       "22  7.2     133\n",
       "23  7.9      53\n",
       "24  8.1      56\n",
       "25  7.7     113\n",
       "26  8.4      35\n",
       "27  7.4     125\n",
       "28  7.3      76\n",
       "29  8.5      48\n",
       "30  7.8     147\n",
       "31  6.7     117\n",
       "32  7.1     182\n",
       "33  7.3      87>"
      ]
     },
     "execution_count": 126,
     "metadata": {},
     "output_type": "execute_result"
    }
   ],
   "source": [
    "data.head"
   ]
  },
  {
   "cell_type": "code",
   "execution_count": 127,
   "id": "d13b76f6",
   "metadata": {},
   "outputs": [
    {
     "data": {
      "text/html": [
       "<div>\n",
       "<style scoped>\n",
       "    .dataframe tbody tr th:only-of-type {\n",
       "        vertical-align: middle;\n",
       "    }\n",
       "\n",
       "    .dataframe tbody tr th {\n",
       "        vertical-align: top;\n",
       "    }\n",
       "\n",
       "    .dataframe thead th {\n",
       "        text-align: right;\n",
       "    }\n",
       "</style>\n",
       "<table border=\"1\" class=\"dataframe\">\n",
       "  <thead>\n",
       "    <tr style=\"text-align: right;\">\n",
       "      <th></th>\n",
       "      <th>pH</th>\n",
       "      <th>Bicarb</th>\n",
       "    </tr>\n",
       "  </thead>\n",
       "  <tbody>\n",
       "    <tr>\n",
       "      <th>0</th>\n",
       "      <td>7.6</td>\n",
       "      <td>157</td>\n",
       "    </tr>\n",
       "    <tr>\n",
       "      <th>1</th>\n",
       "      <td>7.1</td>\n",
       "      <td>174</td>\n",
       "    </tr>\n",
       "    <tr>\n",
       "      <th>2</th>\n",
       "      <td>8.2</td>\n",
       "      <td>175</td>\n",
       "    </tr>\n",
       "    <tr>\n",
       "      <th>3</th>\n",
       "      <td>7.5</td>\n",
       "      <td>188</td>\n",
       "    </tr>\n",
       "    <tr>\n",
       "      <th>4</th>\n",
       "      <td>7.4</td>\n",
       "      <td>171</td>\n",
       "    </tr>\n",
       "    <tr>\n",
       "      <th>5</th>\n",
       "      <td>7.8</td>\n",
       "      <td>143</td>\n",
       "    </tr>\n",
       "    <tr>\n",
       "      <th>6</th>\n",
       "      <td>7.3</td>\n",
       "      <td>217</td>\n",
       "    </tr>\n",
       "    <tr>\n",
       "      <th>7</th>\n",
       "      <td>8.0</td>\n",
       "      <td>190</td>\n",
       "    </tr>\n",
       "    <tr>\n",
       "      <th>8</th>\n",
       "      <td>7.1</td>\n",
       "      <td>142</td>\n",
       "    </tr>\n",
       "    <tr>\n",
       "      <th>9</th>\n",
       "      <td>7.5</td>\n",
       "      <td>190</td>\n",
       "    </tr>\n",
       "    <tr>\n",
       "      <th>10</th>\n",
       "      <td>8.1</td>\n",
       "      <td>215</td>\n",
       "    </tr>\n",
       "    <tr>\n",
       "      <th>11</th>\n",
       "      <td>7.0</td>\n",
       "      <td>199</td>\n",
       "    </tr>\n",
       "    <tr>\n",
       "      <th>12</th>\n",
       "      <td>7.3</td>\n",
       "      <td>262</td>\n",
       "    </tr>\n",
       "    <tr>\n",
       "      <th>13</th>\n",
       "      <td>7.8</td>\n",
       "      <td>105</td>\n",
       "    </tr>\n",
       "    <tr>\n",
       "      <th>14</th>\n",
       "      <td>7.3</td>\n",
       "      <td>121</td>\n",
       "    </tr>\n",
       "    <tr>\n",
       "      <th>15</th>\n",
       "      <td>8.0</td>\n",
       "      <td>81</td>\n",
       "    </tr>\n",
       "    <tr>\n",
       "      <th>16</th>\n",
       "      <td>8.5</td>\n",
       "      <td>82</td>\n",
       "    </tr>\n",
       "    <tr>\n",
       "      <th>17</th>\n",
       "      <td>7.1</td>\n",
       "      <td>210</td>\n",
       "    </tr>\n",
       "    <tr>\n",
       "      <th>18</th>\n",
       "      <td>8.2</td>\n",
       "      <td>202</td>\n",
       "    </tr>\n",
       "    <tr>\n",
       "      <th>19</th>\n",
       "      <td>7.9</td>\n",
       "      <td>155</td>\n",
       "    </tr>\n",
       "    <tr>\n",
       "      <th>20</th>\n",
       "      <td>7.6</td>\n",
       "      <td>157</td>\n",
       "    </tr>\n",
       "    <tr>\n",
       "      <th>21</th>\n",
       "      <td>8.8</td>\n",
       "      <td>147</td>\n",
       "    </tr>\n",
       "    <tr>\n",
       "      <th>22</th>\n",
       "      <td>7.2</td>\n",
       "      <td>133</td>\n",
       "    </tr>\n",
       "    <tr>\n",
       "      <th>23</th>\n",
       "      <td>7.9</td>\n",
       "      <td>53</td>\n",
       "    </tr>\n",
       "    <tr>\n",
       "      <th>24</th>\n",
       "      <td>8.1</td>\n",
       "      <td>56</td>\n",
       "    </tr>\n",
       "    <tr>\n",
       "      <th>25</th>\n",
       "      <td>7.7</td>\n",
       "      <td>113</td>\n",
       "    </tr>\n",
       "    <tr>\n",
       "      <th>26</th>\n",
       "      <td>8.4</td>\n",
       "      <td>35</td>\n",
       "    </tr>\n",
       "    <tr>\n",
       "      <th>27</th>\n",
       "      <td>7.4</td>\n",
       "      <td>125</td>\n",
       "    </tr>\n",
       "    <tr>\n",
       "      <th>28</th>\n",
       "      <td>7.3</td>\n",
       "      <td>76</td>\n",
       "    </tr>\n",
       "    <tr>\n",
       "      <th>29</th>\n",
       "      <td>8.5</td>\n",
       "      <td>48</td>\n",
       "    </tr>\n",
       "    <tr>\n",
       "      <th>30</th>\n",
       "      <td>7.8</td>\n",
       "      <td>147</td>\n",
       "    </tr>\n",
       "    <tr>\n",
       "      <th>31</th>\n",
       "      <td>6.7</td>\n",
       "      <td>117</td>\n",
       "    </tr>\n",
       "    <tr>\n",
       "      <th>32</th>\n",
       "      <td>7.1</td>\n",
       "      <td>182</td>\n",
       "    </tr>\n",
       "    <tr>\n",
       "      <th>33</th>\n",
       "      <td>7.3</td>\n",
       "      <td>87</td>\n",
       "    </tr>\n",
       "  </tbody>\n",
       "</table>\n",
       "</div>"
      ],
      "text/plain": [
       "     pH  Bicarb\n",
       "0   7.6     157\n",
       "1   7.1     174\n",
       "2   8.2     175\n",
       "3   7.5     188\n",
       "4   7.4     171\n",
       "5   7.8     143\n",
       "6   7.3     217\n",
       "7   8.0     190\n",
       "8   7.1     142\n",
       "9   7.5     190\n",
       "10  8.1     215\n",
       "11  7.0     199\n",
       "12  7.3     262\n",
       "13  7.8     105\n",
       "14  7.3     121\n",
       "15  8.0      81\n",
       "16  8.5      82\n",
       "17  7.1     210\n",
       "18  8.2     202\n",
       "19  7.9     155\n",
       "20  7.6     157\n",
       "21  8.8     147\n",
       "22  7.2     133\n",
       "23  7.9      53\n",
       "24  8.1      56\n",
       "25  7.7     113\n",
       "26  8.4      35\n",
       "27  7.4     125\n",
       "28  7.3      76\n",
       "29  8.5      48\n",
       "30  7.8     147\n",
       "31  6.7     117\n",
       "32  7.1     182\n",
       "33  7.3      87"
      ]
     },
     "execution_count": 127,
     "metadata": {},
     "output_type": "execute_result"
    }
   ],
   "source": [
    "water_df = pd.read_csv(water_file)\n",
    "water_df"
   ]
  },
  {
   "cell_type": "code",
   "execution_count": 128,
   "id": "037fb407",
   "metadata": {},
   "outputs": [
    {
     "name": "stdout",
     "output_type": "stream",
     "text": [
      "0     157\n",
      "1     174\n",
      "2     175\n",
      "3     188\n",
      "4     171\n",
      "5     143\n",
      "6     217\n",
      "7     190\n",
      "8     142\n",
      "9     190\n",
      "10    215\n",
      "11    199\n",
      "12    262\n",
      "13    105\n",
      "14    121\n",
      "15     81\n",
      "16     82\n",
      "17    210\n",
      "18    202\n",
      "19    155\n",
      "20    157\n",
      "21    147\n",
      "22    133\n",
      "23     53\n",
      "24     56\n",
      "25    113\n",
      "26     35\n",
      "27    125\n",
      "28     76\n",
      "29     48\n",
      "30    147\n",
      "31    117\n",
      "32    182\n",
      "33     87\n",
      "Name: Bicarb, dtype: int64 0     7.6\n",
      "1     7.1\n",
      "2     8.2\n",
      "3     7.5\n",
      "4     7.4\n",
      "5     7.8\n",
      "6     7.3\n",
      "7     8.0\n",
      "8     7.1\n",
      "9     7.5\n",
      "10    8.1\n",
      "11    7.0\n",
      "12    7.3\n",
      "13    7.8\n",
      "14    7.3\n",
      "15    8.0\n",
      "16    8.5\n",
      "17    7.1\n",
      "18    8.2\n",
      "19    7.9\n",
      "20    7.6\n",
      "21    8.8\n",
      "22    7.2\n",
      "23    7.9\n",
      "24    8.1\n",
      "25    7.7\n",
      "26    8.4\n",
      "27    7.4\n",
      "28    7.3\n",
      "29    8.5\n",
      "30    7.8\n",
      "31    6.7\n",
      "32    7.1\n",
      "33    7.3\n",
      "Name: pH, dtype: float64\n"
     ]
    }
   ],
   "source": [
    "xdata = water_df['Bicarb']\n",
    "ydata = water_df['pH']\n",
    "print(xdata, ydata)"
   ]
  },
  {
   "cell_type": "code",
   "execution_count": 129,
   "id": "93f49f47",
   "metadata": {},
   "outputs": [
    {
     "name": "stdout",
     "output_type": "stream",
     "text": [
      "Slope =  -0.0030521595419827677\n",
      "R-squared =  0.1152673937227531\n",
      "Intercept =  8.097595134597833\n",
      "P-value =  0.04948248037131797\n",
      "Standard error =  0.0014948066523110296\n"
     ]
    }
   ],
   "source": [
    "slope, intercept, r_value, p_value, std_err = stats.linregress(xdata, ydata)\n",
    "print(\"Slope = \", slope)\n",
    "print(\"R-squared = \", r_value**2)\n",
    "print(\"Intercept = \", intercept)\n",
    "print(\"P-value = \", p_value)\n",
    "print(\"Standard error = \", std_err)"
   ]
  },
  {
   "cell_type": "code",
   "execution_count": 130,
   "id": "c34d94b9",
   "metadata": {},
   "outputs": [
    {
     "name": "stdout",
     "output_type": "stream",
     "text": [
      "Slope = 0.8454285714285716/mg/mL\n",
      "Intercept =  0.12786666666666657\n",
      "R-squared =  0.994690398528738\n",
      "P value =  1.0590717448341336e-05\n",
      "Standard Error =  0.030884027089284245\n"
     ]
    }
   ],
   "source": [
    "import os\n",
    "import pandas as pd\n",
    "protein_file = os.path.join('data', 'protein_assay.csv')\n",
    "results_df = pd.read_csv(protein_file)\n",
    "xdata = results_df['Protein Concentration (mg/mL)'] # setting x values\n",
    "ydata = results_df['A595'] # setting y values\n",
    "from scipy import stats\n",
    "slope, intercept, r_value, p_value, std_err = stats.linregress(xdata, ydata)\n",
    "print(\"Slope = \", slope, \"/mg/mL\", sep =\"\")\n",
    "print(\"Intercept = \", intercept)\n",
    "print(\"R-squared = \", r_value**2)\n",
    "print(\"P value = \", p_value)\n",
    "print(\"Standard Error = \", std_err)"
   ]
  },
  {
   "cell_type": "code",
   "execution_count": 131,
   "id": "ff295268",
   "metadata": {},
   "outputs": [
    {
     "data": {
      "text/plain": [
       "<matplotlib.collections.PathCollection at 0x169995310>"
      ]
     },
     "execution_count": 131,
     "metadata": {},
     "output_type": "execute_result"
    },
    {
     "data": {
      "image/png": "[encoded data removed]",
      "text/plain": [
       "<Figure size 720x360 with 1 Axes>"
      ]
     },
     "metadata": {
      "needs_background": "light"
     },
     "output_type": "display_data"
    }
   ],
   "source": [
    "import numpy as np\n",
    "import matplotlib.pyplot as plt\n",
    "plt.figure(figsize = (10,5)) # sets the size of the figure\n",
    "plt.scatter(xdata, ydata) # scatter plot of the data"
   ]
  },
  {
   "cell_type": "code",
   "execution_count": 133,
   "id": "4f06a609",
   "metadata": {},
   "outputs": [
    {
     "data": {
      "text/plain": [
       "[<matplotlib.lines.Line2D at 0x169a45c40>]"
      ]
     },
     "execution_count": 133,
     "metadata": {},
     "output_type": "execute_result"
    },
    {
     "data": {
      "image/png": "[encoded data removed]",
      "text/plain": [
       "<Figure size 720x432 with 1 Axes>"
      ]
     },
     "metadata": {
      "needs_background": "light"
     },
     "output_type": "display_data"
    }
   ],
   "source": [
    "plt.figure(figsize = (10,6))\n",
    "plt.scatter(xdata, ydata)\n",
    "plt.plot(xdata, slope * xdata + intercept) # intoduce the best fit line"
   ]
  },
  {
   "cell_type": "code",
   "execution_count": 134,
   "id": "6edc80ec",
   "metadata": {},
   "outputs": [
    {
     "data": {
      "text/plain": [
       "Text(0.25, 1.0, 'y = 0.8454 * x + 0.1279')"
      ]
     },
     "execution_count": 134,
     "metadata": {},
     "output_type": "execute_result"
    },
    {
     "data": {
      "image/png": "[encoded data removed]",
      "text/plain": [
       "<Figure size 720x432 with 1 Axes>"
      ]
     },
     "metadata": {
      "needs_background": "light"
     },
     "output_type": "display_data"
    }
   ],
   "source": [
    "plt.figure(figsize = (10,6))\n",
    "plt.scatter(xdata, ydata)\n",
    "plt.plot(xdata, slope * xdata + intercept)\n",
    "plt.xlabel('Protein Concentration (mg/mL)') # x-axis label\n",
    "plt.ylabel('$A_{595}$') # y-axis label in latex, makes the 595 subscript\n",
    "plt.annotate(F'y = {slope:.4f} * x + {intercept:.4f}', xy = (0.25, 1.0))"
   ]
  },
  {
   "cell_type": "code",
   "execution_count": 135,
   "id": "ec5fa1a5",
   "metadata": {},
   "outputs": [
    {
     "data": {
      "text/plain": [
       "Text(1.0, 0.4, 'y = 0.8454 * x + 0.1279')"
      ]
     },
     "execution_count": 135,
     "metadata": {},
     "output_type": "execute_result"
    },
    {
     "data": {
      "image/png": "[encoded data removed]",
      "text/plain": [
       "<Figure size 720x432 with 1 Axes>"
      ]
     },
     "metadata": {
      "needs_background": "light"
     },
     "output_type": "display_data"
    }
   ],
   "source": [
    "# try to put the equation in the lower right hand corner\n",
    "plt.figure(figsize = (10,6))\n",
    "plt.scatter(xdata, ydata)\n",
    "plt.plot(xdata, slope * xdata + intercept)\n",
    "plt.xlabel('Protein Concentration (mg/mL)') # x-axis label\n",
    "plt.ylabel('$A_{595}$') # y-axis label in latex, makes the 595 subscript\n",
    "plt.annotate(F'y = {slope:.4f} * x + {intercept:.4f}', xy = (1.0, 0.4))"
   ]
  },
  {
   "cell_type": "code",
   "execution_count": 137,
   "id": "c0978996",
   "metadata": {},
   "outputs": [
    {
     "data": {
      "image/png": "[encoded data removed]",
      "text/plain": [
       "<Figure size 720x432 with 1 Axes>"
      ]
     },
     "metadata": {
      "needs_background": "light"
     },
     "output_type": "display_data"
    }
   ],
   "source": [
    "plt.figure(figsize = (10,6))\n",
    "plt.scatter(xdata, ydata)\n",
    "plt.plot(xdata, slope * xdata + intercept)\n",
    "plt.xlabel('Protein ($\\mu$g)') # x-axis label in greek symbol\n",
    "plt.ylabel('$A_{595}$') # y-axis label in latex, makes the 595 subscript\n",
    "plt.annotate(F'y = {slope:.4f} * x + {intercept:.4f}', xy = (0.25, 1.0))\n",
    "plt.savefig('Bradford_plot.png', dpi=600, bbox_inches = 'tight')"
   ]
  },
  {
   "cell_type": "code",
   "execution_count": 138,
   "id": "962ee13a",
   "metadata": {},
   "outputs": [
    {
     "data": {
      "text/plain": [
       "[<matplotlib.lines.Line2D at 0x16a336fa0>]"
      ]
     },
     "execution_count": 138,
     "metadata": {},
     "output_type": "execute_result"
    },
    {
     "data": {
      "image/png": "[encoded data removed]",
      "text/plain": [
       "<Figure size 432x288 with 1 Axes>"
      ]
     },
     "metadata": {
      "needs_background": "light"
     },
     "output_type": "display_data"
    }
   ],
   "source": [
    "# add red line\n",
    "plt.plot(xdata, slope * xdata + intercept) # add the argument 'r-'\n",
    "plt.plot(xdata, slope * xdata + intercept, 'r-') #red line"
   ]
  },
  {
   "cell_type": "code",
   "execution_count": 139,
   "id": "36a7adae",
   "metadata": {},
   "outputs": [
    {
     "data": {
      "text/plain": [
       "[<matplotlib.lines.Line2D at 0x16a3808b0>]"
      ]
     },
     "execution_count": 139,
     "metadata": {},
     "output_type": "execute_result"
    },
    {
     "data": {
      "image/png": "[encoded data removed]",
      "text/plain": [
       "<Figure size 432x288 with 1 Axes>"
      ]
     },
     "metadata": {
      "needs_background": "light"
     },
     "output_type": "display_data"
    }
   ],
   "source": [
    "# can I add other colors?\n",
    "plt.plot(xdata, slope * xdata + intercept) \n",
    "plt.plot(xdata, slope * xdata + intercept, 'y-') #yellow?"
   ]
  },
  {
   "cell_type": "code",
   "execution_count": 140,
   "id": "91a21e96",
   "metadata": {},
   "outputs": [
    {
     "data": {
      "text/plain": [
       "[<matplotlib.lines.Line2D at 0x16a3dae80>]"
      ]
     },
     "execution_count": 140,
     "metadata": {},
     "output_type": "execute_result"
    },
    {
     "data": {
      "image/png": "[encoded data removed]",
      "text/plain": [
       "<Figure size 432x288 with 1 Axes>"
      ]
     },
     "metadata": {
      "needs_background": "light"
     },
     "output_type": "display_data"
    }
   ],
   "source": [
    "# can I add other colors?\n",
    "plt.plot(xdata, slope * xdata + intercept) \n",
    "plt.plot(xdata, slope * xdata + intercept, 'p-') #orange!"
   ]
  },
  {
   "cell_type": "code",
   "execution_count": null,
   "id": "24f5f018",
   "metadata": {},
   "outputs": [],
   "source": []
  }
 ],
 "metadata": {
  "kernelspec": {
   "display_name": "Python 3 (ipykernel)",
   "language": "python",
   "name": "python3"
  },
  "language_info": {
   "codemirror_mode": {
    "name": "ipython",
    "version": 3
   },
   "file_extension": ".py",
   "mimetype": "text/x-python",
   "name": "python",
   "nbconvert_exporter": "python",
   "pygments_lexer": "ipython3",
   "version": "3.9.12"
  }
 },
 "nbformat": 4,
 "nbformat_minor": 5
}
