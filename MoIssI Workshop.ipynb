{
 "cells": [
  {
   "cell_type": "code",
   "execution_count": null,
   "id": "dd3074df",
   "metadata": {},
   "outputs": [],
   "source": []
  },
  {
   "cell_type": "markdown",
   "id": "684fdbc7",
   "metadata": {},
   "source": [
    "# Molssi Workshop\n",
    "## Introduction\n",
    "This lesson covers basics like variable creation and assignment and using the Jupyter notebook."
   ]
  },
  {
   "cell_type": "code",
   "execution_count": 1,
   "id": "d36436bd",
   "metadata": {},
   "outputs": [
    {
     "data": {
      "text/plain": [
       "10"
      ]
     },
     "execution_count": 1,
     "metadata": {},
     "output_type": "execute_result"
    }
   ],
   "source": [
    "3 + 7"
   ]
  },
  {
   "cell_type": "code",
   "execution_count": 2,
   "id": "da4e595e",
   "metadata": {},
   "outputs": [
    {
     "ename": "NameError",
     "evalue": "name 'variable_value' is not defined",
     "output_type": "error",
     "traceback": [
      "\u001b[0;31m---------------------------------------------------------------------------\u001b[0m",
      "\u001b[0;31mNameError\u001b[0m                                 Traceback (most recent call last)",
      "Input \u001b[0;32mIn [2]\u001b[0m, in \u001b[0;36m<cell line: 1>\u001b[0;34m()\u001b[0m\n\u001b[0;32m----> 1\u001b[0m variable_name \u001b[38;5;241m=\u001b[39m \u001b[43mvariable_value\u001b[49m\n",
      "\u001b[0;31mNameError\u001b[0m: name 'variable_value' is not defined"
     ]
    }
   ],
   "source": [
    "variable_name = variable_value"
   ]
  },
  {
   "cell_type": "code",
   "execution_count": 3,
   "id": "0e8ae03b",
   "metadata": {},
   "outputs": [],
   "source": [
    "# Calculations using the Michaelis-Menten Equation\n",
    "Km = 15.0            # Km is 15 micromolar\n",
    "Vmax = 100.0         # Vmax is 100.0 nanomoles/second\n",
    "substrate_concentration = 8.0\n",
    "velocity = Vmax * substrate_concentration/(Km + substrate_concentration)"
   ]
  },
  {
   "cell_type": "code",
   "execution_count": 4,
   "id": "c1e286de",
   "metadata": {},
   "outputs": [
    {
     "name": "stdout",
     "output_type": "stream",
     "text": [
      "34.78260869565217\n"
     ]
    }
   ],
   "source": [
    "print(velocity)"
   ]
  },
  {
   "cell_type": "code",
   "execution_count": 5,
   "id": "e5eae620",
   "metadata": {},
   "outputs": [
    {
     "name": "stdout",
     "output_type": "stream",
     "text": [
      "34.78260869565217\n",
      "34.78260869565217\n"
     ]
    }
   ],
   "source": [
    "print(velocity)\n",
    "velocity * 1000\n",
    "print(velocity)"
   ]
  },
  {
   "cell_type": "code",
   "execution_count": 6,
   "id": "b8a23359",
   "metadata": {},
   "outputs": [
    {
     "name": "stdout",
     "output_type": "stream",
     "text": [
      "34.78260869565217\n",
      "2086.9565217391305\n"
     ]
    }
   ],
   "source": [
    "print(velocity)\n",
    "velocity = velocity * 60\n",
    "print(velocity)"
   ]
  },
  {
   "cell_type": "code",
   "execution_count": 7,
   "id": "4fcf9a7d",
   "metadata": {},
   "outputs": [
    {
     "name": "stdout",
     "output_type": "stream",
     "text": [
      "34.78260869565217\n",
      "2086.9565217391305\n"
     ]
    }
   ],
   "source": [
    "# change velocity back\n",
    "velocity = velocity / 60\n",
    "v_nmols_per_min = velocity * 60\n",
    "print(velocity)\n",
    "print(v_nmols_per_min)"
   ]
  },
  {
   "cell_type": "code",
   "execution_count": 8,
   "id": "03e4c0cb",
   "metadata": {},
   "outputs": [
    {
     "name": "stdout",
     "output_type": "stream",
     "text": [
      "34.78260869565217\n"
     ]
    }
   ],
   "source": [
    "# I can assign all these variables at once\n",
    "Km, Vmax, substrate_concentration = 15.0, 100.0, 8.0\n",
    "velocity = Vmax * substrate_concentration/(Km + substrate_concentration)\n",
    "print(velocity)"
   ]
  },
  {
   "cell_type": "code",
   "execution_count": 9,
   "id": "716b70bb",
   "metadata": {},
   "outputs": [
    {
     "data": {
      "text/plain": [
       "float"
      ]
     },
     "execution_count": 9,
     "metadata": {},
     "output_type": "execute_result"
    }
   ],
   "source": [
    "type(velocity)"
   ]
  },
  {
   "cell_type": "code",
   "execution_count": 10,
   "id": "5d0a1cf2",
   "metadata": {},
   "outputs": [
    {
     "data": {
      "text/plain": [
       "str"
      ]
     },
     "execution_count": 10,
     "metadata": {},
     "output_type": "execute_result"
    }
   ],
   "source": [
    "velocity_string = str(velocity)\n",
    "type(velocity_string)"
   ]
  },
  {
   "cell_type": "code",
   "execution_count": 11,
   "id": "032f5131",
   "metadata": {},
   "outputs": [
    {
     "name": "stdout",
     "output_type": "stream",
     "text": [
      "This list contains 12 substrate concentrations\n"
     ]
    }
   ],
   "source": [
    "# This is a list\n",
    "substrate_concs = [1.0, 2.0, 3.0, 4.0, 6.0, 8.0, 10.0, 15.0, 20.0, 30.0, 50.0, 75.0]\n",
    "# I can determine its length\n",
    "s_length = len(substrate_concs)\n",
    "# Print the length of the list\n",
    "print('This list contains', s_length, 'substrate concentrations')"
   ]
  },
  {
   "cell_type": "code",
   "execution_count": 12,
   "id": "b0e0ed0f",
   "metadata": {},
   "outputs": [
    {
     "name": "stdout",
     "output_type": "stream",
     "text": [
      "1.0\n"
     ]
    }
   ],
   "source": [
    "# Print the first element of this list\n",
    "print(substrate_concs[0])"
   ]
  },
  {
   "cell_type": "code",
   "execution_count": 13,
   "id": "1db653e9",
   "metadata": {},
   "outputs": [
    {
     "ename": "IndexError",
     "evalue": "list index out of range",
     "output_type": "error",
     "traceback": [
      "\u001b[0;31m---------------------------------------------------------------------------\u001b[0m",
      "\u001b[0;31mIndexError\u001b[0m                                Traceback (most recent call last)",
      "Input \u001b[0;32mIn [13]\u001b[0m, in \u001b[0;36m<cell line: 2>\u001b[0;34m()\u001b[0m\n\u001b[1;32m      1\u001b[0m \u001b[38;5;66;03m# Convert the last substrate concentration to nM\u001b[39;00m\n\u001b[0;32m----> 2\u001b[0m concentration_nM \u001b[38;5;241m=\u001b[39m \u001b[43msubstrate_concs\u001b[49m\u001b[43m[\u001b[49m\u001b[38;5;241;43m12\u001b[39;49m\u001b[43m]\u001b[49m \u001b[38;5;241m*\u001b[39m \u001b[38;5;241m100\u001b[39m\n\u001b[1;32m      3\u001b[0m \u001b[38;5;28mprint\u001b[39m(concentration_nM)\n",
      "\u001b[0;31mIndexError\u001b[0m: list index out of range"
     ]
    }
   ],
   "source": [
    "# Convert the last substrate concentration to nM\n",
    "concentration_nM = substrate_concs[12] * 100\n",
    "print(concentration_nM)"
   ]
  },
  {
   "cell_type": "code",
   "execution_count": 14,
   "id": "351e9adf",
   "metadata": {},
   "outputs": [
    {
     "ename": "NameError",
     "evalue": "name 'list_name' is not defined",
     "output_type": "error",
     "traceback": [
      "\u001b[0;31m---------------------------------------------------------------------------\u001b[0m",
      "\u001b[0;31mNameError\u001b[0m                                 Traceback (most recent call last)",
      "Input \u001b[0;32mIn [14]\u001b[0m, in \u001b[0;36m<cell line: 1>\u001b[0;34m()\u001b[0m\n\u001b[0;32m----> 1\u001b[0m new_list \u001b[38;5;241m=\u001b[39m \u001b[43mlist_name\u001b[49m[start:end]\n",
      "\u001b[0;31mNameError\u001b[0m: name 'list_name' is not defined"
     ]
    }
   ],
   "source": [
    "new_list = list_name[start:end]"
   ]
  },
  {
   "cell_type": "code",
   "execution_count": 15,
   "id": "9ec3d67c",
   "metadata": {},
   "outputs": [],
   "source": [
    "short_list = substrate_concs[0:3]"
   ]
  },
  {
   "cell_type": "code",
   "execution_count": 16,
   "id": "ed4e6655",
   "metadata": {},
   "outputs": [
    {
     "name": "stdout",
     "output_type": "stream",
     "text": [
      "[1.0, 2.0, 3.0]\n"
     ]
    }
   ],
   "source": [
    "print(short_list)"
   ]
  },
  {
   "cell_type": "code",
   "execution_count": 17,
   "id": "5789d0ac",
   "metadata": {},
   "outputs": [
    {
     "name": "stdout",
     "output_type": "stream",
     "text": [
      "[1.0, 2.0, 3.0, 4.0, 6.0, 8.0, 10.0, 15.0, 20.0, 30.0, 50.0, 75.0]\n",
      "[1.0, 2.0, 3.0, 4.0, 6.0, 8.0, 10.0, 15.0, 20.0, 30.0, 50.0, 75.0]\n"
     ]
    }
   ],
   "source": [
    "print(substrate_concs)\n",
    "substrate_concs[0:3]\n",
    "print(substrate_concs)"
   ]
  },
  {
   "cell_type": "code",
   "execution_count": 18,
   "id": "4779e270",
   "metadata": {},
   "outputs": [
    {
     "ename": "SyntaxError",
     "evalue": "invalid syntax (1929208127.py, line 2)",
     "output_type": "error",
     "traceback": [
      "\u001b[0;36m  Input \u001b[0;32mIn [18]\u001b[0;36m\u001b[0m\n\u001b[0;31m    do things using variable\u001b[0m\n\u001b[0m       ^\u001b[0m\n\u001b[0;31mSyntaxError\u001b[0m\u001b[0;31m:\u001b[0m invalid syntax\n"
     ]
    }
   ],
   "source": [
    "for variable in list:\n",
    "    do things using variable"
   ]
  },
  {
   "cell_type": "code",
   "execution_count": 19,
   "id": "a6b5beca",
   "metadata": {},
   "outputs": [
    {
     "name": "stdout",
     "output_type": "stream",
     "text": [
      "6.25\n",
      "11.764705882352942\n",
      "16.666666666666668\n",
      "21.05263157894737\n",
      "28.571428571428573\n",
      "34.78260869565217\n",
      "40.0\n",
      "50.0\n",
      "57.142857142857146\n",
      "66.66666666666667\n",
      "76.92307692307692\n",
      "83.33333333333333\n"
     ]
    }
   ],
   "source": [
    "substrate_concs = [1.0, 2.0, 3.0, 4.0, 6.0, 8.0, 10.0, 15.0, 20.0, 30.0, 50.0, 75.0]\n",
    "for number in substrate_concs:\n",
    "    velocity = Vmax * number / (Km + number)\n",
    "    print(velocity)"
   ]
  },
  {
   "cell_type": "code",
   "execution_count": 20,
   "id": "85218673",
   "metadata": {},
   "outputs": [
    {
     "ename": "NameError",
     "evalue": "name 'list_name' is not defined",
     "output_type": "error",
     "traceback": [
      "\u001b[0;31m---------------------------------------------------------------------------\u001b[0m",
      "\u001b[0;31mNameError\u001b[0m                                 Traceback (most recent call last)",
      "Input \u001b[0;32mIn [20]\u001b[0m, in \u001b[0;36m<cell line: 1>\u001b[0;34m()\u001b[0m\n\u001b[0;32m----> 1\u001b[0m \u001b[43mlist_name\u001b[49m\u001b[38;5;241m.\u001b[39mappend(new_thing)\n",
      "\u001b[0;31mNameError\u001b[0m: name 'list_name' is not defined"
     ]
    }
   ],
   "source": [
    "list_name.append(new_thing)"
   ]
  },
  {
   "cell_type": "code",
   "execution_count": 21,
   "id": "e3abf55c",
   "metadata": {},
   "outputs": [
    {
     "name": "stdout",
     "output_type": "stream",
     "text": [
      "[6.25, 11.764705882352942, 16.666666666666668, 21.05263157894737, 28.571428571428573, 34.78260869565217, 40.0, 50.0, 57.142857142857146, 66.66666666666667, 76.92307692307692, 83.33333333333333]\n"
     ]
    }
   ],
   "source": [
    "velocities = []\n",
    "substrate_concs = [1.0, 2.0, 3.0, 4.0, 6.0, 8.0, 10.0, 15.0, 20.0, 30.0, 50.0, 75.0]\n",
    "for number in substrate_concs:\n",
    "    V = Vmax* number / (Km + number)\n",
    "    velocities.append(V)\n",
    "    \n",
    "print(velocities)    "
   ]
  },
  {
   "cell_type": "code",
   "execution_count": 22,
   "id": "ef5619d5",
   "metadata": {},
   "outputs": [
    {
     "name": "stdout",
     "output_type": "stream",
     "text": [
      "[6.25, 11.764705882352942, 16.666666666666668]\n"
     ]
    }
   ],
   "source": [
    "Km, Vmax = 15.0, 100.0\n",
    "linear_MM = []\n",
    "\n",
    "substrate_concs = [1.0, 2.0, 3.0, 4.0, 6.0, 8.0, 10.0, 15.0, 20.0, 30.0, 50.0, 75.0, 100.0]\n",
    "for number in substrate_concs:\n",
    "    if number < Km/4:\n",
    "        V_linear = Vmax * number / (Km + number)\n",
    "        linear_MM.append(V_linear)\n",
    "        \n",
    "print(linear_MM)"
   ]
  },
  {
   "cell_type": "code",
   "execution_count": 23,
   "id": "ad77aea5",
   "metadata": {},
   "outputs": [
    {
     "name": "stdout",
     "output_type": "stream",
     "text": [
      "[6.25, 11.764705882352942, 16.666666666666668, 21.05263157894737, 28.571428571428573, 34.78260869565217, 40.0, 50.0]\n"
     ]
    }
   ],
   "source": [
    "substrate_concs = [1.0, 2.0, 3.0, 4.0, 6.0, 8.0, 10.0, 15.0, 20.0, 30.0, 50.0, 75.0, 100.0]\n",
    "v_at_or_below_km = []\n",
    "for number in substrate_concs:\n",
    "    if number <= Km or number == Km:\n",
    "        velocity = Vmax * number / (Km + number)\n",
    "        v_at_or_below_km.append(velocity)\n",
    "        \n",
    "print(v_at_or_below_km)        "
   ]
  },
  {
   "cell_type": "code",
   "execution_count": 24,
   "id": "d05c64ac",
   "metadata": {},
   "outputs": [
    {
     "name": "stdout",
     "output_type": "stream",
     "text": [
      "[1.0, 2.0, 5.0, 14.0, 20.0]\n"
     ]
    }
   ],
   "source": [
    "conc_list = ['1.0', 2.0, 5.0, '14.0', 20.0]\n",
    "number_list = []\n",
    "for item in conc_list:\n",
    "    if type(item) is str:\n",
    "        item = float(item)\n",
    "    number_list.append(item)\n",
    "\n",
    "print(number_list)"
   ]
  },
  {
   "cell_type": "code",
   "execution_count": 25,
   "id": "c99ffc3f",
   "metadata": {},
   "outputs": [
    {
     "name": "stdout",
     "output_type": "stream",
     "text": [
      "AP_kin.csv                  chymotrypsin_kinetics.csv\r\n",
      "AP_kinetics.csv             chymotrypsin_kinetics.xlsx\r\n",
      "Ground_water.csv            enzyme_kinetics.csv\r\n",
      "MM_data.csv                 enzyme_kinetics.xlsx\r\n",
      "MM_data1.csv                protein_assay.csv\r\n",
      "MM_data_for_NLRpt2.csv      protein_assay2.csv\r\n",
      "\u001b[34mPDB_files\u001b[m\u001b[m/                  protein_samples.csv\r\n",
      "chymo_MM_data.csv           thrombin_with_ligands.csv\r\n"
     ]
    }
   ],
   "source": [
    "ls data"
   ]
  },
  {
   "cell_type": "code",
   "execution_count": 26,
   "id": "82f086ae",
   "metadata": {},
   "outputs": [
    {
     "name": "stdout",
     "output_type": "stream",
     "text": [
      "1ddo.pdb  3iva.pdb  4eyr.pdb  5veu.pdb  7tim.pdb\r\n",
      "2pkr.pdb  3vnd.pdb  5eu9.pdb  6zt7.pdb\r\n"
     ]
    }
   ],
   "source": [
    "ls data/PDB_files"
   ]
  },
  {
   "cell_type": "code",
   "execution_count": 27,
   "id": "23c1f1ac",
   "metadata": {},
   "outputs": [
    {
     "data": {
      "text/plain": [
       "'/Users/olivia/Desktop/biochemist-python'"
      ]
     },
     "execution_count": 27,
     "metadata": {},
     "output_type": "execute_result"
    }
   ],
   "source": [
    "pwd"
   ]
  },
  {
   "cell_type": "code",
   "execution_count": 28,
   "id": "0d656ca7",
   "metadata": {},
   "outputs": [
    {
     "name": "stdout",
     "output_type": "stream",
     "text": [
      "data/PDB_files/4eyr.pdb\n"
     ]
    }
   ],
   "source": [
    "import os\n",
    "\n",
    "protein_file = os.path.join('data', 'PDB_files', '4eyr.pdb')\n",
    "print(protein_file)"
   ]
  },
  {
   "cell_type": "code",
   "execution_count": 29,
   "id": "7f4ee052",
   "metadata": {},
   "outputs": [],
   "source": [
    "outfile = open (protein_file,\"r\")\n",
    "data = outfile.readlines()"
   ]
  },
  {
   "cell_type": "code",
   "execution_count": 30,
   "id": "8d47c660",
   "metadata": {},
   "outputs": [],
   "source": [
    "outfile.close()"
   ]
  },
  {
   "cell_type": "code",
   "execution_count": 31,
   "id": "bbdb9a5f",
   "metadata": {},
   "outputs": [],
   "source": [
    "with open(protein_file,\"r\") as outfile:\n",
    "    data = outfile.readlines()"
   ]
  },
  {
   "cell_type": "code",
   "execution_count": 32,
   "id": "72e89dfc",
   "metadata": {},
   "outputs": [
    {
     "name": "stdout",
     "output_type": "stream",
     "text": [
      "2232\n"
     ]
    }
   ],
   "source": [
    "print(len(data))"
   ]
  },
  {
   "cell_type": "code",
   "execution_count": 33,
   "id": "ceb1ad54",
   "metadata": {},
   "outputs": [
    {
     "name": "stdout",
     "output_type": "stream",
     "text": [
      "HETNAM     RIT RITONAVIR                                                        \n",
      "\n"
     ]
    }
   ],
   "source": [
    "for line in data:\n",
    "    if 'HETNAM' in line:\n",
    "        HETNAM_line = line\n",
    "        print(HETNAM_line)"
   ]
  },
  {
   "cell_type": "code",
   "execution_count": 34,
   "id": "520caca1",
   "metadata": {},
   "outputs": [
    {
     "data": {
      "text/plain": [
       "['HETNAM', 'RIT', 'RITONAVIR']"
      ]
     },
     "execution_count": 34,
     "metadata": {},
     "output_type": "execute_result"
    }
   ],
   "source": [
    "HETNAM_line.split()"
   ]
  },
  {
   "cell_type": "code",
   "execution_count": 35,
   "id": "a0ab5aca",
   "metadata": {},
   "outputs": [
    {
     "name": "stdout",
     "output_type": "stream",
     "text": [
      "['HETNAM', 'RIT', 'RITONAVIR']\n"
     ]
    }
   ],
   "source": [
    "words = HETNAM_line.split()\n",
    "print(words)"
   ]
  },
  {
   "cell_type": "code",
   "execution_count": 36,
   "id": "059e6b36",
   "metadata": {},
   "outputs": [
    {
     "name": "stdout",
     "output_type": "stream",
     "text": [
      "RIT\n"
     ]
    }
   ],
   "source": [
    "abbrev = words[1]\n",
    "print(abbrev)"
   ]
  },
  {
   "cell_type": "code",
   "execution_count": 37,
   "id": "a611428e",
   "metadata": {},
   "outputs": [
    {
     "name": "stdout",
     "output_type": "stream",
     "text": [
      "REMARK   3   PROTEIN ATOMS            : 1514                                    \n",
      "\n"
     ]
    }
   ],
   "source": [
    "for line in data:\n",
    "    if 'PROTEIN ATOMS' in line:\n",
    "        PROTEIN_ATOM_line = line\n",
    "        words = PROTEIN_ATOM_line.split()\n",
    "        print(PROTEIN_ATOM_line)"
   ]
  },
  {
   "cell_type": "code",
   "execution_count": 38,
   "id": "9d5a4e2c",
   "metadata": {},
   "outputs": [
    {
     "name": "stdout",
     "output_type": "stream",
     "text": [
      "['REMARK   3   PROTEIN ATOMS            ', ' 1514                                    \\n']\n"
     ]
    }
   ],
   "source": [
    "for line in data:\n",
    "    if 'PROTEIN ATOMS' in line:\n",
    "        PROTEIN_ATOM_line\n",
    "        words = PROTEIN_ATOM_line.split(':')\n",
    "        print(words)"
   ]
  },
  {
   "cell_type": "code",
   "execution_count": 39,
   "id": "fcaa465a",
   "metadata": {},
   "outputs": [
    {
     "name": "stdout",
     "output_type": "stream",
     "text": [
      " 1514                                    \n",
      "\n"
     ]
    }
   ],
   "source": [
    "atoms = words[1]\n",
    "print(atoms)"
   ]
  },
  {
   "cell_type": "code",
   "execution_count": 40,
   "id": "bdef80a5",
   "metadata": {},
   "outputs": [
    {
     "ename": "TypeError",
     "evalue": "unsupported operand type(s) for /: 'str' and 'int'",
     "output_type": "error",
     "traceback": [
      "\u001b[0;31m---------------------------------------------------------------------------\u001b[0m",
      "\u001b[0;31mTypeError\u001b[0m                                 Traceback (most recent call last)",
      "Input \u001b[0;32mIn [40]\u001b[0m, in \u001b[0;36m<cell line: 1>\u001b[0;34m()\u001b[0m\n\u001b[0;32m----> 1\u001b[0m \u001b[43matoms\u001b[49m\u001b[43m \u001b[49m\u001b[38;5;241;43m/\u001b[39;49m\u001b[43m \u001b[49m\u001b[38;5;241;43m2\u001b[39;49m\n",
      "\u001b[0;31mTypeError\u001b[0m: unsupported operand type(s) for /: 'str' and 'int'"
     ]
    }
   ],
   "source": [
    "atoms / 2"
   ]
  },
  {
   "cell_type": "code",
   "execution_count": 41,
   "id": "d69e3ad0",
   "metadata": {},
   "outputs": [
    {
     "data": {
      "text/plain": [
       "757.0"
      ]
     },
     "execution_count": 41,
     "metadata": {},
     "output_type": "execute_result"
    }
   ],
   "source": [
    "atoms = float(atoms)\n",
    "atoms / 2"
   ]
  },
  {
   "cell_type": "code",
   "execution_count": 42,
   "id": "152e3d87",
   "metadata": {},
   "outputs": [],
   "source": [
    "atoms = float(words[1])"
   ]
  },
  {
   "cell_type": "code",
   "execution_count": 43,
   "id": "f0e6a12a",
   "metadata": {},
   "outputs": [
    {
     "name": "stdout",
     "output_type": "stream",
     "text": [
      "data/PDB_files/4eyr.pdb\n",
      "EXPERIMENT TYPE : X-RAY DIFFRACTION\n",
      "TEMPERATURE (KELVIN) : 298\n"
     ]
    }
   ],
   "source": [
    "protein_file = os.path.join('data', 'PDB_files', '4eyr.pdb')\n",
    "print(protein_file)\n",
    "with open (protein_file, \"r\") as outfile:\n",
    "    for line in data:\n",
    "        if 'EXPERIMENT TYPE' in line:\n",
    "            exp_type_line = line\n",
    "            words = exp_type_line.split()\n",
    "            words[2] = words[2].rstrip('.')\n",
    "            words[-1] = words[-1].rstrip('.')\n",
    "            print(words[2], words[3], ':', words[5], words[6])\n",
    "        if 'KELVIN' in line:\n",
    "            temp_line = line\n",
    "            words = temp_line.split()\n",
    "            print(words[2], words[3], ':', words[5])"
   ]
  },
  {
   "cell_type": "code",
   "execution_count": 44,
   "id": "396f8e7d",
   "metadata": {},
   "outputs": [
    {
     "ename": "SyntaxError",
     "evalue": "invalid syntax (1245764992.py, line 2)",
     "output_type": "error",
     "traceback": [
      "\u001b[0;36m  Input \u001b[0;32mIn [44]\u001b[0;36m\u001b[0m\n\u001b[0;31m    do things in the loop\u001b[0m\n\u001b[0m       ^\u001b[0m\n\u001b[0;31mSyntaxError\u001b[0m\u001b[0;31m:\u001b[0m invalid syntax\n"
     ]
    }
   ],
   "source": [
    "for linenum, line in enumerate(list_name):\n",
    "    do things in the loop"
   ]
  },
  {
   "cell_type": "code",
   "execution_count": 45,
   "id": "baeede89",
   "metadata": {},
   "outputs": [],
   "source": [
    "with open (protein_file,\"r\") as outfile:\n",
    "    data = outfile.readlines()\n",
    "    for linenum, line in enumerate(data):\n",
    "        if 'SEQRES  1 A' in line:\n",
    "            print(linenum, ':', line, sep = '')"
   ]
  },
  {
   "cell_type": "code",
   "execution_count": 46,
   "id": "56477720",
   "metadata": {},
   "outputs": [
    {
     "name": "stdout",
     "output_type": "stream",
     "text": [
      "Bradford_plot.png      README.md              data.zip\r\n",
      "MoIssI Workshop.ipynb  \u001b[34mdata\u001b[m\u001b[m/\r\n"
     ]
    }
   ],
   "source": [
    "ls"
   ]
  },
  {
   "cell_type": "code",
   "execution_count": 47,
   "id": "67580f77",
   "metadata": {},
   "outputs": [
    {
     "name": "stdout",
     "output_type": "stream",
     "text": [
      "AP_kin.csv                  chymotrypsin_kinetics.csv\r\n",
      "AP_kinetics.csv             chymotrypsin_kinetics.xlsx\r\n",
      "Ground_water.csv            enzyme_kinetics.csv\r\n",
      "MM_data.csv                 enzyme_kinetics.xlsx\r\n",
      "MM_data1.csv                protein_assay.csv\r\n",
      "MM_data_for_NLRpt2.csv      protein_assay2.csv\r\n",
      "\u001b[34mPDB_files\u001b[m\u001b[m/                  protein_samples.csv\r\n",
      "chymo_MM_data.csv           thrombin_with_ligands.csv\r\n"
     ]
    }
   ],
   "source": [
    "ls data"
   ]
  },
  {
   "cell_type": "code",
   "execution_count": 48,
   "id": "546404d3",
   "metadata": {},
   "outputs": [
    {
     "name": "stdout",
     "output_type": "stream",
     "text": [
      "data/thrombin_with_ligands.csv\n"
     ]
    }
   ],
   "source": [
    "thrombin_file = os.path.join('data', 'thrombin_with_ligands.csv')\n",
    "print(thrombin_file)"
   ]
  },
  {
   "cell_type": "code",
   "execution_count": 49,
   "id": "59ab8680",
   "metadata": {},
   "outputs": [
    {
     "ename": "NameError",
     "evalue": "name 'pd' is not defined",
     "output_type": "error",
     "traceback": [
      "\u001b[0;31m---------------------------------------------------------------------------\u001b[0m",
      "\u001b[0;31mNameError\u001b[0m                                 Traceback (most recent call last)",
      "Input \u001b[0;32mIn [49]\u001b[0m, in \u001b[0;36m<cell line: 1>\u001b[0;34m()\u001b[0m\n\u001b[0;32m----> 1\u001b[0m help(\u001b[43mpd\u001b[49m\u001b[38;5;241m.\u001b[39mread_csv)\n",
      "\u001b[0;31mNameError\u001b[0m: name 'pd' is not defined"
     ]
    }
   ],
   "source": [
    "help(pd.read_csv)"
   ]
  },
  {
   "cell_type": "code",
   "execution_count": 50,
   "id": "7e7867bb",
   "metadata": {},
   "outputs": [
    {
     "ename": "NameError",
     "evalue": "name 'pd' is not defined",
     "output_type": "error",
     "traceback": [
      "\u001b[0;31m---------------------------------------------------------------------------\u001b[0m",
      "\u001b[0;31mNameError\u001b[0m                                 Traceback (most recent call last)",
      "Input \u001b[0;32mIn [50]\u001b[0m, in \u001b[0;36m<cell line: 1>\u001b[0;34m()\u001b[0m\n\u001b[0;32m----> 1\u001b[0m data \u001b[38;5;241m=\u001b[39m \u001b[43mpd\u001b[49m\u001b[38;5;241m.\u001b[39mread_csv(thrombin_file)\n",
      "\u001b[0;31mNameError\u001b[0m: name 'pd' is not defined"
     ]
    }
   ],
   "source": [
    "data = pd.read_csv(thrombin_file)"
   ]
  },
  {
   "cell_type": "code",
   "execution_count": 51,
   "id": "76a6206e",
   "metadata": {},
   "outputs": [
    {
     "ename": "AttributeError",
     "evalue": "'list' object has no attribute 'head'",
     "output_type": "error",
     "traceback": [
      "\u001b[0;31m---------------------------------------------------------------------------\u001b[0m",
      "\u001b[0;31mAttributeError\u001b[0m                            Traceback (most recent call last)",
      "Input \u001b[0;32mIn [51]\u001b[0m, in \u001b[0;36m<cell line: 1>\u001b[0;34m()\u001b[0m\n\u001b[0;32m----> 1\u001b[0m \u001b[43mdata\u001b[49m\u001b[38;5;241;43m.\u001b[39;49m\u001b[43mhead\u001b[49m\n",
      "\u001b[0;31mAttributeError\u001b[0m: 'list' object has no attribute 'head'"
     ]
    }
   ],
   "source": [
    "data.head"
   ]
  },
  {
   "cell_type": "code",
   "execution_count": 52,
   "id": "1b0d5f3a",
   "metadata": {},
   "outputs": [
    {
     "ename": "NameError",
     "evalue": "name 'pd' is not defined",
     "output_type": "error",
     "traceback": [
      "\u001b[0;31m---------------------------------------------------------------------------\u001b[0m",
      "\u001b[0;31mNameError\u001b[0m                                 Traceback (most recent call last)",
      "Input \u001b[0;32mIn [52]\u001b[0m, in \u001b[0;36m<cell line: 1>\u001b[0;34m()\u001b[0m\n\u001b[0;32m----> 1\u001b[0m thrombin_df \u001b[38;5;241m=\u001b[39m \u001b[43mpd\u001b[49m\u001b[38;5;241m.\u001b[39mread_csv(thrombin_file) \u001b[38;5;66;03m# thrombin_df is a convenient name for our dataframe.\u001b[39;00m\n\u001b[1;32m      2\u001b[0m thrombin_df\n",
      "\u001b[0;31mNameError\u001b[0m: name 'pd' is not defined"
     ]
    }
   ],
   "source": [
    "thrombin_df = pd.read_csv(thrombin_file) # thrombin_df is a convenient name for our dataframe.\n",
    "thrombin_df"
   ]
  },
  {
   "cell_type": "code",
   "execution_count": 53,
   "id": "0564827f",
   "metadata": {},
   "outputs": [],
   "source": [
    "import os\n",
    "import pandas as pd"
   ]
  },
  {
   "cell_type": "code",
   "execution_count": 54,
   "id": "c07635c3",
   "metadata": {},
   "outputs": [
    {
     "name": "stdout",
     "output_type": "stream",
     "text": [
      "Bradford_plot.png      README.md              data.zip\r\n",
      "MoIssI Workshop.ipynb  \u001b[34mdata\u001b[m\u001b[m/\r\n"
     ]
    }
   ],
   "source": [
    "ls"
   ]
  },
  {
   "cell_type": "code",
   "execution_count": 55,
   "id": "bd31153a",
   "metadata": {},
   "outputs": [
    {
     "name": "stdout",
     "output_type": "stream",
     "text": [
      "AP_kin.csv                  chymotrypsin_kinetics.csv\r\n",
      "AP_kinetics.csv             chymotrypsin_kinetics.xlsx\r\n",
      "Ground_water.csv            enzyme_kinetics.csv\r\n",
      "MM_data.csv                 enzyme_kinetics.xlsx\r\n",
      "MM_data1.csv                protein_assay.csv\r\n",
      "MM_data_for_NLRpt2.csv      protein_assay2.csv\r\n",
      "\u001b[34mPDB_files\u001b[m\u001b[m/                  protein_samples.csv\r\n",
      "chymo_MM_data.csv           thrombin_with_ligands.csv\r\n"
     ]
    }
   ],
   "source": [
    "ls data"
   ]
  },
  {
   "cell_type": "code",
   "execution_count": 56,
   "id": "a8d9c3a9",
   "metadata": {},
   "outputs": [
    {
     "name": "stdout",
     "output_type": "stream",
     "text": [
      "data/thrombin_with_ligands.csv\n"
     ]
    }
   ],
   "source": [
    "thrombin_file = os.path.join('data', 'thrombin_with_ligands.csv')\n",
    "print(thrombin_file)"
   ]
  },
  {
   "cell_type": "code",
   "execution_count": 57,
   "id": "325fd67f",
   "metadata": {},
   "outputs": [],
   "source": [
    "data = pd.read_csv(thrombin_file)"
   ]
  },
  {
   "cell_type": "code",
   "execution_count": 58,
   "id": "41312838",
   "metadata": {},
   "outputs": [
    {
     "data": {
      "text/plain": [
       "<bound method NDFrame.head of    PDB ID             Method  Resolution        Structure Ligand ID  \\\n",
       "0    3SHC  X-RAY DIFFRACTION        1.90   Human Thrombin       B01   \n",
       "1    3P17  X-RAY DIFFRACTION        1.43         Thrombin       99P   \n",
       "2    2ZNK  X-RAY DIFFRACTION        1.80         Thrombin       31U   \n",
       "3    3SI3  X-RAY DIFFRACTION        1.55   Human Thrombin       B03   \n",
       "4    3SI4  X-RAY DIFFRACTION        1.27   Human Thrombin       B04   \n",
       "5    3SV2  X-RAY DIFFRACTION        1.30   Human Thrombin       P05   \n",
       "6    1UVU  X-RAY DIFFRACTION        2.80  Bovine Thrombin       DCH   \n",
       "7    1UVT  X-RAY DIFFRACTION        2.50  Bovine Thrombin       I48   \n",
       "8    2C8Z  X-RAY DIFFRACTION        2.14         Thrombin       C2A   \n",
       "9    2C8Y  X-RAY DIFFRACTION        2.20         Thrombin       C3M   \n",
       "10   2C90  X-RAY DIFFRACTION        2.25         Thrombin       C1M   \n",
       "\n",
       "                                          Ligand name  \n",
       "0   D-phenylalanyl-N-[(4-chloropyridin-2-yl)methyl...  \n",
       "1   D-phenylalanyl-N-(pyridin-3-ylmethyl)-L-prolin...  \n",
       "2    D-leucyl-N-(4-carbamimidoylbenzyl)-L-prolinamide  \n",
       "3   D-phenylalanyl-N-(pyridin-2-ylmethyl)-L-prolin...  \n",
       "4   D-phenylalanyl-N-[(1-methylpyridinium-2-yl)met...  \n",
       "5   D-phenylalanyl-N-(pyridin-4-ylmethyl)-L-prolin...  \n",
       "6   3-(7-DIAMINOMETHYL-NAPHTHALEN-2-YL)-PROPIONIC ...  \n",
       "7   N-{3-METHYL-5-[2-(PYRIDIN-4-YLAMINO)-ETHOXY]-P...  \n",
       "8                       1-(3-CHLOROPHENYL)METHANAMINE  \n",
       "9   N-[(2R,3S)-3-AMINO-2-HYDROXY-4-PHENYLBUTYL]NAP...  \n",
       "10                    1-(4-CHLOROPHENYL)-1H-TETRAZOLE  >"
      ]
     },
     "execution_count": 58,
     "metadata": {},
     "output_type": "execute_result"
    }
   ],
   "source": [
    "data.head"
   ]
  },
  {
   "cell_type": "code",
   "execution_count": 59,
   "id": "598f6673",
   "metadata": {},
   "outputs": [
    {
     "data": {
      "text/html": [
       "<div>\n",
       "<style scoped>\n",
       "    .dataframe tbody tr th:only-of-type {\n",
       "        vertical-align: middle;\n",
       "    }\n",
       "\n",
       "    .dataframe tbody tr th {\n",
       "        vertical-align: top;\n",
       "    }\n",
       "\n",
       "    .dataframe thead th {\n",
       "        text-align: right;\n",
       "    }\n",
       "</style>\n",
       "<table border=\"1\" class=\"dataframe\">\n",
       "  <thead>\n",
       "    <tr style=\"text-align: right;\">\n",
       "      <th></th>\n",
       "      <th>PDB ID</th>\n",
       "      <th>Method</th>\n",
       "      <th>Resolution</th>\n",
       "      <th>Structure</th>\n",
       "      <th>Ligand ID</th>\n",
       "      <th>Ligand name</th>\n",
       "    </tr>\n",
       "  </thead>\n",
       "  <tbody>\n",
       "    <tr>\n",
       "      <th>0</th>\n",
       "      <td>3SHC</td>\n",
       "      <td>X-RAY DIFFRACTION</td>\n",
       "      <td>1.90</td>\n",
       "      <td>Human Thrombin</td>\n",
       "      <td>B01</td>\n",
       "      <td>D-phenylalanyl-N-[(4-chloropyridin-2-yl)methyl...</td>\n",
       "    </tr>\n",
       "    <tr>\n",
       "      <th>1</th>\n",
       "      <td>3P17</td>\n",
       "      <td>X-RAY DIFFRACTION</td>\n",
       "      <td>1.43</td>\n",
       "      <td>Thrombin</td>\n",
       "      <td>99P</td>\n",
       "      <td>D-phenylalanyl-N-(pyridin-3-ylmethyl)-L-prolin...</td>\n",
       "    </tr>\n",
       "    <tr>\n",
       "      <th>2</th>\n",
       "      <td>2ZNK</td>\n",
       "      <td>X-RAY DIFFRACTION</td>\n",
       "      <td>1.80</td>\n",
       "      <td>Thrombin</td>\n",
       "      <td>31U</td>\n",
       "      <td>D-leucyl-N-(4-carbamimidoylbenzyl)-L-prolinamide</td>\n",
       "    </tr>\n",
       "    <tr>\n",
       "      <th>3</th>\n",
       "      <td>3SI3</td>\n",
       "      <td>X-RAY DIFFRACTION</td>\n",
       "      <td>1.55</td>\n",
       "      <td>Human Thrombin</td>\n",
       "      <td>B03</td>\n",
       "      <td>D-phenylalanyl-N-(pyridin-2-ylmethyl)-L-prolin...</td>\n",
       "    </tr>\n",
       "    <tr>\n",
       "      <th>4</th>\n",
       "      <td>3SI4</td>\n",
       "      <td>X-RAY DIFFRACTION</td>\n",
       "      <td>1.27</td>\n",
       "      <td>Human Thrombin</td>\n",
       "      <td>B04</td>\n",
       "      <td>D-phenylalanyl-N-[(1-methylpyridinium-2-yl)met...</td>\n",
       "    </tr>\n",
       "    <tr>\n",
       "      <th>5</th>\n",
       "      <td>3SV2</td>\n",
       "      <td>X-RAY DIFFRACTION</td>\n",
       "      <td>1.30</td>\n",
       "      <td>Human Thrombin</td>\n",
       "      <td>P05</td>\n",
       "      <td>D-phenylalanyl-N-(pyridin-4-ylmethyl)-L-prolin...</td>\n",
       "    </tr>\n",
       "    <tr>\n",
       "      <th>6</th>\n",
       "      <td>1UVU</td>\n",
       "      <td>X-RAY DIFFRACTION</td>\n",
       "      <td>2.80</td>\n",
       "      <td>Bovine Thrombin</td>\n",
       "      <td>DCH</td>\n",
       "      <td>3-(7-DIAMINOMETHYL-NAPHTHALEN-2-YL)-PROPIONIC ...</td>\n",
       "    </tr>\n",
       "    <tr>\n",
       "      <th>7</th>\n",
       "      <td>1UVT</td>\n",
       "      <td>X-RAY DIFFRACTION</td>\n",
       "      <td>2.50</td>\n",
       "      <td>Bovine Thrombin</td>\n",
       "      <td>I48</td>\n",
       "      <td>N-{3-METHYL-5-[2-(PYRIDIN-4-YLAMINO)-ETHOXY]-P...</td>\n",
       "    </tr>\n",
       "    <tr>\n",
       "      <th>8</th>\n",
       "      <td>2C8Z</td>\n",
       "      <td>X-RAY DIFFRACTION</td>\n",
       "      <td>2.14</td>\n",
       "      <td>Thrombin</td>\n",
       "      <td>C2A</td>\n",
       "      <td>1-(3-CHLOROPHENYL)METHANAMINE</td>\n",
       "    </tr>\n",
       "    <tr>\n",
       "      <th>9</th>\n",
       "      <td>2C8Y</td>\n",
       "      <td>X-RAY DIFFRACTION</td>\n",
       "      <td>2.20</td>\n",
       "      <td>Thrombin</td>\n",
       "      <td>C3M</td>\n",
       "      <td>N-[(2R,3S)-3-AMINO-2-HYDROXY-4-PHENYLBUTYL]NAP...</td>\n",
       "    </tr>\n",
       "    <tr>\n",
       "      <th>10</th>\n",
       "      <td>2C90</td>\n",
       "      <td>X-RAY DIFFRACTION</td>\n",
       "      <td>2.25</td>\n",
       "      <td>Thrombin</td>\n",
       "      <td>C1M</td>\n",
       "      <td>1-(4-CHLOROPHENYL)-1H-TETRAZOLE</td>\n",
       "    </tr>\n",
       "  </tbody>\n",
       "</table>\n",
       "</div>"
      ],
      "text/plain": [
       "   PDB ID             Method  Resolution        Structure Ligand ID  \\\n",
       "0    3SHC  X-RAY DIFFRACTION        1.90   Human Thrombin       B01   \n",
       "1    3P17  X-RAY DIFFRACTION        1.43         Thrombin       99P   \n",
       "2    2ZNK  X-RAY DIFFRACTION        1.80         Thrombin       31U   \n",
       "3    3SI3  X-RAY DIFFRACTION        1.55   Human Thrombin       B03   \n",
       "4    3SI4  X-RAY DIFFRACTION        1.27   Human Thrombin       B04   \n",
       "5    3SV2  X-RAY DIFFRACTION        1.30   Human Thrombin       P05   \n",
       "6    1UVU  X-RAY DIFFRACTION        2.80  Bovine Thrombin       DCH   \n",
       "7    1UVT  X-RAY DIFFRACTION        2.50  Bovine Thrombin       I48   \n",
       "8    2C8Z  X-RAY DIFFRACTION        2.14         Thrombin       C2A   \n",
       "9    2C8Y  X-RAY DIFFRACTION        2.20         Thrombin       C3M   \n",
       "10   2C90  X-RAY DIFFRACTION        2.25         Thrombin       C1M   \n",
       "\n",
       "                                          Ligand name  \n",
       "0   D-phenylalanyl-N-[(4-chloropyridin-2-yl)methyl...  \n",
       "1   D-phenylalanyl-N-(pyridin-3-ylmethyl)-L-prolin...  \n",
       "2    D-leucyl-N-(4-carbamimidoylbenzyl)-L-prolinamide  \n",
       "3   D-phenylalanyl-N-(pyridin-2-ylmethyl)-L-prolin...  \n",
       "4   D-phenylalanyl-N-[(1-methylpyridinium-2-yl)met...  \n",
       "5   D-phenylalanyl-N-(pyridin-4-ylmethyl)-L-prolin...  \n",
       "6   3-(7-DIAMINOMETHYL-NAPHTHALEN-2-YL)-PROPIONIC ...  \n",
       "7   N-{3-METHYL-5-[2-(PYRIDIN-4-YLAMINO)-ETHOXY]-P...  \n",
       "8                       1-(3-CHLOROPHENYL)METHANAMINE  \n",
       "9   N-[(2R,3S)-3-AMINO-2-HYDROXY-4-PHENYLBUTYL]NAP...  \n",
       "10                    1-(4-CHLOROPHENYL)-1H-TETRAZOLE  "
      ]
     },
     "execution_count": 59,
     "metadata": {},
     "output_type": "execute_result"
    }
   ],
   "source": [
    "thrombin_df = pd.read_csv(thrombin_file) # thrombin_df is a convenient name for our dataframe.\n",
    "thrombin_df"
   ]
  },
  {
   "cell_type": "code",
   "execution_count": 60,
   "id": "d2fecd16",
   "metadata": {},
   "outputs": [
    {
     "data": {
      "text/plain": [
       "0     1.90\n",
       "1     1.43\n",
       "2     1.80\n",
       "3     1.55\n",
       "4     1.27\n",
       "5     1.30\n",
       "6     2.80\n",
       "7     2.50\n",
       "8     2.14\n",
       "9     2.20\n",
       "10    2.25\n",
       "Name: Resolution, dtype: float64"
      ]
     },
     "execution_count": 60,
     "metadata": {},
     "output_type": "execute_result"
    }
   ],
   "source": [
    "thrombin_df['Resolution']"
   ]
  },
  {
   "cell_type": "code",
   "execution_count": 61,
   "id": "5008e9de",
   "metadata": {},
   "outputs": [
    {
     "data": {
      "text/plain": [
       "0     B01\n",
       "1     99P\n",
       "2     31U\n",
       "3     B03\n",
       "4     B04\n",
       "5     P05\n",
       "6     DCH\n",
       "7     I48\n",
       "8     C2A\n",
       "9     C3M\n",
       "10    C1M\n",
       "Name: Ligand ID, dtype: object"
      ]
     },
     "execution_count": 61,
     "metadata": {},
     "output_type": "execute_result"
    }
   ],
   "source": [
    "thrombin_df['Ligand ID']"
   ]
  },
  {
   "cell_type": "code",
   "execution_count": 62,
   "id": "5dd650a0",
   "metadata": {},
   "outputs": [
    {
     "data": {
      "text/plain": [
       "1.8"
      ]
     },
     "execution_count": 62,
     "metadata": {},
     "output_type": "execute_result"
    }
   ],
   "source": [
    "thrombin_df.loc[2, 'Resolution']"
   ]
  },
  {
   "cell_type": "code",
   "execution_count": 63,
   "id": "d0928c4c",
   "metadata": {},
   "outputs": [
    {
     "data": {
      "text/plain": [
       "PDB ID                                                     2ZNK\n",
       "Method                                        X-RAY DIFFRACTION\n",
       "Resolution                                                  1.8\n",
       "Structure                                              Thrombin\n",
       "Ligand ID                                                   31U\n",
       "Ligand name    D-leucyl-N-(4-carbamimidoylbenzyl)-L-prolinamide\n",
       "Name: 2, dtype: object"
      ]
     },
     "execution_count": 63,
     "metadata": {},
     "output_type": "execute_result"
    }
   ],
   "source": [
    "thrombin_df.loc[2]"
   ]
  },
  {
   "cell_type": "code",
   "execution_count": 64,
   "id": "13ef272f",
   "metadata": {},
   "outputs": [
    {
     "data": {
      "text/plain": [
       "1.8"
      ]
     },
     "execution_count": 64,
     "metadata": {},
     "output_type": "execute_result"
    }
   ],
   "source": [
    "thrombin_df.iloc[2,2]"
   ]
  },
  {
   "cell_type": "code",
   "execution_count": 65,
   "id": "99dcc93e",
   "metadata": {},
   "outputs": [
    {
     "data": {
      "text/html": [
       "<div>\n",
       "<style scoped>\n",
       "    .dataframe tbody tr th:only-of-type {\n",
       "        vertical-align: middle;\n",
       "    }\n",
       "\n",
       "    .dataframe tbody tr th {\n",
       "        vertical-align: top;\n",
       "    }\n",
       "\n",
       "    .dataframe thead th {\n",
       "        text-align: right;\n",
       "    }\n",
       "</style>\n",
       "<table border=\"1\" class=\"dataframe\">\n",
       "  <thead>\n",
       "    <tr style=\"text-align: right;\">\n",
       "      <th></th>\n",
       "      <th>PDB ID</th>\n",
       "      <th>Method</th>\n",
       "      <th>Resolution</th>\n",
       "      <th>Structure</th>\n",
       "      <th>Ligand ID</th>\n",
       "      <th>Ligand name</th>\n",
       "    </tr>\n",
       "  </thead>\n",
       "  <tbody>\n",
       "    <tr>\n",
       "      <th>0</th>\n",
       "      <td>3SHC</td>\n",
       "      <td>X-RAY DIFFRACTION</td>\n",
       "      <td>1.90</td>\n",
       "      <td>Human Thrombin</td>\n",
       "      <td>B01</td>\n",
       "      <td>D-phenylalanyl-N-[(4-chloropyridin-2-yl)methyl...</td>\n",
       "    </tr>\n",
       "    <tr>\n",
       "      <th>1</th>\n",
       "      <td>3P17</td>\n",
       "      <td>X-RAY DIFFRACTION</td>\n",
       "      <td>1.43</td>\n",
       "      <td>Thrombin</td>\n",
       "      <td>99P</td>\n",
       "      <td>D-phenylalanyl-N-(pyridin-3-ylmethyl)-L-prolin...</td>\n",
       "    </tr>\n",
       "    <tr>\n",
       "      <th>2</th>\n",
       "      <td>2ZNK</td>\n",
       "      <td>X-RAY DIFFRACTION</td>\n",
       "      <td>1.80</td>\n",
       "      <td>Thrombin</td>\n",
       "      <td>31U</td>\n",
       "      <td>D-leucyl-N-(4-carbamimidoylbenzyl)-L-prolinamide</td>\n",
       "    </tr>\n",
       "    <tr>\n",
       "      <th>3</th>\n",
       "      <td>3SI3</td>\n",
       "      <td>X-RAY DIFFRACTION</td>\n",
       "      <td>1.55</td>\n",
       "      <td>Human Thrombin</td>\n",
       "      <td>B03</td>\n",
       "      <td>D-phenylalanyl-N-(pyridin-2-ylmethyl)-L-prolin...</td>\n",
       "    </tr>\n",
       "    <tr>\n",
       "      <th>4</th>\n",
       "      <td>3SI4</td>\n",
       "      <td>X-RAY DIFFRACTION</td>\n",
       "      <td>1.27</td>\n",
       "      <td>Human Thrombin</td>\n",
       "      <td>B04</td>\n",
       "      <td>D-phenylalanyl-N-[(1-methylpyridinium-2-yl)met...</td>\n",
       "    </tr>\n",
       "  </tbody>\n",
       "</table>\n",
       "</div>"
      ],
      "text/plain": [
       "  PDB ID             Method  Resolution       Structure Ligand ID  \\\n",
       "0   3SHC  X-RAY DIFFRACTION        1.90  Human Thrombin       B01   \n",
       "1   3P17  X-RAY DIFFRACTION        1.43        Thrombin       99P   \n",
       "2   2ZNK  X-RAY DIFFRACTION        1.80        Thrombin       31U   \n",
       "3   3SI3  X-RAY DIFFRACTION        1.55  Human Thrombin       B03   \n",
       "4   3SI4  X-RAY DIFFRACTION        1.27  Human Thrombin       B04   \n",
       "\n",
       "                                         Ligand name  \n",
       "0  D-phenylalanyl-N-[(4-chloropyridin-2-yl)methyl...  \n",
       "1  D-phenylalanyl-N-(pyridin-3-ylmethyl)-L-prolin...  \n",
       "2   D-leucyl-N-(4-carbamimidoylbenzyl)-L-prolinamide  \n",
       "3  D-phenylalanyl-N-(pyridin-2-ylmethyl)-L-prolin...  \n",
       "4  D-phenylalanyl-N-[(1-methylpyridinium-2-yl)met...  "
      ]
     },
     "execution_count": 65,
     "metadata": {},
     "output_type": "execute_result"
    }
   ],
   "source": [
    "thrombin_df.head()"
   ]
  },
  {
   "cell_type": "code",
   "execution_count": 66,
   "id": "a47e06f0",
   "metadata": {},
   "outputs": [
    {
     "data": {
      "text/html": [
       "<div>\n",
       "<style scoped>\n",
       "    .dataframe tbody tr th:only-of-type {\n",
       "        vertical-align: middle;\n",
       "    }\n",
       "\n",
       "    .dataframe tbody tr th {\n",
       "        vertical-align: top;\n",
       "    }\n",
       "\n",
       "    .dataframe thead th {\n",
       "        text-align: right;\n",
       "    }\n",
       "</style>\n",
       "<table border=\"1\" class=\"dataframe\">\n",
       "  <thead>\n",
       "    <tr style=\"text-align: right;\">\n",
       "      <th></th>\n",
       "      <th>PDB ID</th>\n",
       "      <th>Method</th>\n",
       "      <th>Resolution</th>\n",
       "      <th>Structure</th>\n",
       "      <th>Ligand ID</th>\n",
       "      <th>Ligand name</th>\n",
       "    </tr>\n",
       "  </thead>\n",
       "  <tbody>\n",
       "    <tr>\n",
       "      <th>0</th>\n",
       "      <td>3SHC</td>\n",
       "      <td>X-RAY DIFFRACTION</td>\n",
       "      <td>1.90</td>\n",
       "      <td>Human Thrombin</td>\n",
       "      <td>B01</td>\n",
       "      <td>D-phenylalanyl-N-[(4-chloropyridin-2-yl)methyl...</td>\n",
       "    </tr>\n",
       "    <tr>\n",
       "      <th>1</th>\n",
       "      <td>3P17</td>\n",
       "      <td>X-RAY DIFFRACTION</td>\n",
       "      <td>1.43</td>\n",
       "      <td>Thrombin</td>\n",
       "      <td>99P</td>\n",
       "      <td>D-phenylalanyl-N-(pyridin-3-ylmethyl)-L-prolin...</td>\n",
       "    </tr>\n",
       "    <tr>\n",
       "      <th>2</th>\n",
       "      <td>2ZNK</td>\n",
       "      <td>X-RAY DIFFRACTION</td>\n",
       "      <td>1.80</td>\n",
       "      <td>Thrombin</td>\n",
       "      <td>31U</td>\n",
       "      <td>D-leucyl-N-(4-carbamimidoylbenzyl)-L-prolinamide</td>\n",
       "    </tr>\n",
       "  </tbody>\n",
       "</table>\n",
       "</div>"
      ],
      "text/plain": [
       "  PDB ID             Method  Resolution       Structure Ligand ID  \\\n",
       "0   3SHC  X-RAY DIFFRACTION        1.90  Human Thrombin       B01   \n",
       "1   3P17  X-RAY DIFFRACTION        1.43        Thrombin       99P   \n",
       "2   2ZNK  X-RAY DIFFRACTION        1.80        Thrombin       31U   \n",
       "\n",
       "                                         Ligand name  \n",
       "0  D-phenylalanyl-N-[(4-chloropyridin-2-yl)methyl...  \n",
       "1  D-phenylalanyl-N-(pyridin-3-ylmethyl)-L-prolin...  \n",
       "2   D-leucyl-N-(4-carbamimidoylbenzyl)-L-prolinamide  "
      ]
     },
     "execution_count": 66,
     "metadata": {},
     "output_type": "execute_result"
    }
   ],
   "source": [
    "thrombin_df.head(3)"
   ]
  },
  {
   "cell_type": "code",
   "execution_count": 67,
   "id": "d9c82982",
   "metadata": {},
   "outputs": [
    {
     "data": {
      "text/html": [
       "<div>\n",
       "<style scoped>\n",
       "    .dataframe tbody tr th:only-of-type {\n",
       "        vertical-align: middle;\n",
       "    }\n",
       "\n",
       "    .dataframe tbody tr th {\n",
       "        vertical-align: top;\n",
       "    }\n",
       "\n",
       "    .dataframe thead th {\n",
       "        text-align: right;\n",
       "    }\n",
       "</style>\n",
       "<table border=\"1\" class=\"dataframe\">\n",
       "  <thead>\n",
       "    <tr style=\"text-align: right;\">\n",
       "      <th></th>\n",
       "      <th>PDB ID</th>\n",
       "      <th>Method</th>\n",
       "      <th>Resolution</th>\n",
       "      <th>Structure</th>\n",
       "      <th>Ligand ID</th>\n",
       "      <th>Ligand name</th>\n",
       "    </tr>\n",
       "  </thead>\n",
       "  <tbody>\n",
       "    <tr>\n",
       "      <th>6</th>\n",
       "      <td>1UVU</td>\n",
       "      <td>X-RAY DIFFRACTION</td>\n",
       "      <td>2.80</td>\n",
       "      <td>Bovine Thrombin</td>\n",
       "      <td>DCH</td>\n",
       "      <td>3-(7-DIAMINOMETHYL-NAPHTHALEN-2-YL)-PROPIONIC ...</td>\n",
       "    </tr>\n",
       "    <tr>\n",
       "      <th>7</th>\n",
       "      <td>1UVT</td>\n",
       "      <td>X-RAY DIFFRACTION</td>\n",
       "      <td>2.50</td>\n",
       "      <td>Bovine Thrombin</td>\n",
       "      <td>I48</td>\n",
       "      <td>N-{3-METHYL-5-[2-(PYRIDIN-4-YLAMINO)-ETHOXY]-P...</td>\n",
       "    </tr>\n",
       "    <tr>\n",
       "      <th>8</th>\n",
       "      <td>2C8Z</td>\n",
       "      <td>X-RAY DIFFRACTION</td>\n",
       "      <td>2.14</td>\n",
       "      <td>Thrombin</td>\n",
       "      <td>C2A</td>\n",
       "      <td>1-(3-CHLOROPHENYL)METHANAMINE</td>\n",
       "    </tr>\n",
       "    <tr>\n",
       "      <th>9</th>\n",
       "      <td>2C8Y</td>\n",
       "      <td>X-RAY DIFFRACTION</td>\n",
       "      <td>2.20</td>\n",
       "      <td>Thrombin</td>\n",
       "      <td>C3M</td>\n",
       "      <td>N-[(2R,3S)-3-AMINO-2-HYDROXY-4-PHENYLBUTYL]NAP...</td>\n",
       "    </tr>\n",
       "    <tr>\n",
       "      <th>10</th>\n",
       "      <td>2C90</td>\n",
       "      <td>X-RAY DIFFRACTION</td>\n",
       "      <td>2.25</td>\n",
       "      <td>Thrombin</td>\n",
       "      <td>C1M</td>\n",
       "      <td>1-(4-CHLOROPHENYL)-1H-TETRAZOLE</td>\n",
       "    </tr>\n",
       "  </tbody>\n",
       "</table>\n",
       "</div>"
      ],
      "text/plain": [
       "   PDB ID             Method  Resolution        Structure Ligand ID  \\\n",
       "6    1UVU  X-RAY DIFFRACTION        2.80  Bovine Thrombin       DCH   \n",
       "7    1UVT  X-RAY DIFFRACTION        2.50  Bovine Thrombin       I48   \n",
       "8    2C8Z  X-RAY DIFFRACTION        2.14         Thrombin       C2A   \n",
       "9    2C8Y  X-RAY DIFFRACTION        2.20         Thrombin       C3M   \n",
       "10   2C90  X-RAY DIFFRACTION        2.25         Thrombin       C1M   \n",
       "\n",
       "                                          Ligand name  \n",
       "6   3-(7-DIAMINOMETHYL-NAPHTHALEN-2-YL)-PROPIONIC ...  \n",
       "7   N-{3-METHYL-5-[2-(PYRIDIN-4-YLAMINO)-ETHOXY]-P...  \n",
       "8                       1-(3-CHLOROPHENYL)METHANAMINE  \n",
       "9   N-[(2R,3S)-3-AMINO-2-HYDROXY-4-PHENYLBUTYL]NAP...  \n",
       "10                    1-(4-CHLOROPHENYL)-1H-TETRAZOLE  "
      ]
     },
     "execution_count": 67,
     "metadata": {},
     "output_type": "execute_result"
    }
   ],
   "source": [
    "thrombin_df.tail()"
   ]
  },
  {
   "cell_type": "code",
   "execution_count": 68,
   "id": "64c2c9c9",
   "metadata": {},
   "outputs": [
    {
     "data": {
      "text/html": [
       "<div>\n",
       "<style scoped>\n",
       "    .dataframe tbody tr th:only-of-type {\n",
       "        vertical-align: middle;\n",
       "    }\n",
       "\n",
       "    .dataframe tbody tr th {\n",
       "        vertical-align: top;\n",
       "    }\n",
       "\n",
       "    .dataframe thead th {\n",
       "        text-align: right;\n",
       "    }\n",
       "</style>\n",
       "<table border=\"1\" class=\"dataframe\">\n",
       "  <thead>\n",
       "    <tr style=\"text-align: right;\">\n",
       "      <th></th>\n",
       "      <th>PDB ID</th>\n",
       "      <th>Method</th>\n",
       "      <th>Resolution</th>\n",
       "      <th>Structure</th>\n",
       "      <th>Ligand ID</th>\n",
       "      <th>Ligand name</th>\n",
       "    </tr>\n",
       "  </thead>\n",
       "  <tbody>\n",
       "    <tr>\n",
       "      <th>4</th>\n",
       "      <td>3SI4</td>\n",
       "      <td>X-RAY DIFFRACTION</td>\n",
       "      <td>1.27</td>\n",
       "      <td>Human Thrombin</td>\n",
       "      <td>B04</td>\n",
       "      <td>D-phenylalanyl-N-[(1-methylpyridinium-2-yl)met...</td>\n",
       "    </tr>\n",
       "    <tr>\n",
       "      <th>5</th>\n",
       "      <td>3SV2</td>\n",
       "      <td>X-RAY DIFFRACTION</td>\n",
       "      <td>1.30</td>\n",
       "      <td>Human Thrombin</td>\n",
       "      <td>P05</td>\n",
       "      <td>D-phenylalanyl-N-(pyridin-4-ylmethyl)-L-prolin...</td>\n",
       "    </tr>\n",
       "    <tr>\n",
       "      <th>1</th>\n",
       "      <td>3P17</td>\n",
       "      <td>X-RAY DIFFRACTION</td>\n",
       "      <td>1.43</td>\n",
       "      <td>Thrombin</td>\n",
       "      <td>99P</td>\n",
       "      <td>D-phenylalanyl-N-(pyridin-3-ylmethyl)-L-prolin...</td>\n",
       "    </tr>\n",
       "    <tr>\n",
       "      <th>3</th>\n",
       "      <td>3SI3</td>\n",
       "      <td>X-RAY DIFFRACTION</td>\n",
       "      <td>1.55</td>\n",
       "      <td>Human Thrombin</td>\n",
       "      <td>B03</td>\n",
       "      <td>D-phenylalanyl-N-(pyridin-2-ylmethyl)-L-prolin...</td>\n",
       "    </tr>\n",
       "    <tr>\n",
       "      <th>2</th>\n",
       "      <td>2ZNK</td>\n",
       "      <td>X-RAY DIFFRACTION</td>\n",
       "      <td>1.80</td>\n",
       "      <td>Thrombin</td>\n",
       "      <td>31U</td>\n",
       "      <td>D-leucyl-N-(4-carbamimidoylbenzyl)-L-prolinamide</td>\n",
       "    </tr>\n",
       "    <tr>\n",
       "      <th>0</th>\n",
       "      <td>3SHC</td>\n",
       "      <td>X-RAY DIFFRACTION</td>\n",
       "      <td>1.90</td>\n",
       "      <td>Human Thrombin</td>\n",
       "      <td>B01</td>\n",
       "      <td>D-phenylalanyl-N-[(4-chloropyridin-2-yl)methyl...</td>\n",
       "    </tr>\n",
       "    <tr>\n",
       "      <th>8</th>\n",
       "      <td>2C8Z</td>\n",
       "      <td>X-RAY DIFFRACTION</td>\n",
       "      <td>2.14</td>\n",
       "      <td>Thrombin</td>\n",
       "      <td>C2A</td>\n",
       "      <td>1-(3-CHLOROPHENYL)METHANAMINE</td>\n",
       "    </tr>\n",
       "    <tr>\n",
       "      <th>9</th>\n",
       "      <td>2C8Y</td>\n",
       "      <td>X-RAY DIFFRACTION</td>\n",
       "      <td>2.20</td>\n",
       "      <td>Thrombin</td>\n",
       "      <td>C3M</td>\n",
       "      <td>N-[(2R,3S)-3-AMINO-2-HYDROXY-4-PHENYLBUTYL]NAP...</td>\n",
       "    </tr>\n",
       "    <tr>\n",
       "      <th>10</th>\n",
       "      <td>2C90</td>\n",
       "      <td>X-RAY DIFFRACTION</td>\n",
       "      <td>2.25</td>\n",
       "      <td>Thrombin</td>\n",
       "      <td>C1M</td>\n",
       "      <td>1-(4-CHLOROPHENYL)-1H-TETRAZOLE</td>\n",
       "    </tr>\n",
       "    <tr>\n",
       "      <th>7</th>\n",
       "      <td>1UVT</td>\n",
       "      <td>X-RAY DIFFRACTION</td>\n",
       "      <td>2.50</td>\n",
       "      <td>Bovine Thrombin</td>\n",
       "      <td>I48</td>\n",
       "      <td>N-{3-METHYL-5-[2-(PYRIDIN-4-YLAMINO)-ETHOXY]-P...</td>\n",
       "    </tr>\n",
       "    <tr>\n",
       "      <th>6</th>\n",
       "      <td>1UVU</td>\n",
       "      <td>X-RAY DIFFRACTION</td>\n",
       "      <td>2.80</td>\n",
       "      <td>Bovine Thrombin</td>\n",
       "      <td>DCH</td>\n",
       "      <td>3-(7-DIAMINOMETHYL-NAPHTHALEN-2-YL)-PROPIONIC ...</td>\n",
       "    </tr>\n",
       "  </tbody>\n",
       "</table>\n",
       "</div>"
      ],
      "text/plain": [
       "   PDB ID             Method  Resolution        Structure Ligand ID  \\\n",
       "4    3SI4  X-RAY DIFFRACTION        1.27   Human Thrombin       B04   \n",
       "5    3SV2  X-RAY DIFFRACTION        1.30   Human Thrombin       P05   \n",
       "1    3P17  X-RAY DIFFRACTION        1.43         Thrombin       99P   \n",
       "3    3SI3  X-RAY DIFFRACTION        1.55   Human Thrombin       B03   \n",
       "2    2ZNK  X-RAY DIFFRACTION        1.80         Thrombin       31U   \n",
       "0    3SHC  X-RAY DIFFRACTION        1.90   Human Thrombin       B01   \n",
       "8    2C8Z  X-RAY DIFFRACTION        2.14         Thrombin       C2A   \n",
       "9    2C8Y  X-RAY DIFFRACTION        2.20         Thrombin       C3M   \n",
       "10   2C90  X-RAY DIFFRACTION        2.25         Thrombin       C1M   \n",
       "7    1UVT  X-RAY DIFFRACTION        2.50  Bovine Thrombin       I48   \n",
       "6    1UVU  X-RAY DIFFRACTION        2.80  Bovine Thrombin       DCH   \n",
       "\n",
       "                                          Ligand name  \n",
       "4   D-phenylalanyl-N-[(1-methylpyridinium-2-yl)met...  \n",
       "5   D-phenylalanyl-N-(pyridin-4-ylmethyl)-L-prolin...  \n",
       "1   D-phenylalanyl-N-(pyridin-3-ylmethyl)-L-prolin...  \n",
       "3   D-phenylalanyl-N-(pyridin-2-ylmethyl)-L-prolin...  \n",
       "2    D-leucyl-N-(4-carbamimidoylbenzyl)-L-prolinamide  \n",
       "0   D-phenylalanyl-N-[(4-chloropyridin-2-yl)methyl...  \n",
       "8                       1-(3-CHLOROPHENYL)METHANAMINE  \n",
       "9   N-[(2R,3S)-3-AMINO-2-HYDROXY-4-PHENYLBUTYL]NAP...  \n",
       "10                    1-(4-CHLOROPHENYL)-1H-TETRAZOLE  \n",
       "7   N-{3-METHYL-5-[2-(PYRIDIN-4-YLAMINO)-ETHOXY]-P...  \n",
       "6   3-(7-DIAMINOMETHYL-NAPHTHALEN-2-YL)-PROPIONIC ...  "
      ]
     },
     "execution_count": 68,
     "metadata": {},
     "output_type": "execute_result"
    }
   ],
   "source": [
    "thrombin_df.sort_values('Resolution')"
   ]
  },
  {
   "cell_type": "code",
   "execution_count": 69,
   "id": "4b07cea9",
   "metadata": {},
   "outputs": [
    {
     "data": {
      "text/html": [
       "<div>\n",
       "<style scoped>\n",
       "    .dataframe tbody tr th:only-of-type {\n",
       "        vertical-align: middle;\n",
       "    }\n",
       "\n",
       "    .dataframe tbody tr th {\n",
       "        vertical-align: top;\n",
       "    }\n",
       "\n",
       "    .dataframe thead th {\n",
       "        text-align: right;\n",
       "    }\n",
       "</style>\n",
       "<table border=\"1\" class=\"dataframe\">\n",
       "  <thead>\n",
       "    <tr style=\"text-align: right;\">\n",
       "      <th></th>\n",
       "      <th>PDB ID</th>\n",
       "      <th>Method</th>\n",
       "      <th>Resolution</th>\n",
       "      <th>Structure</th>\n",
       "      <th>Ligand ID</th>\n",
       "      <th>Ligand name</th>\n",
       "    </tr>\n",
       "  </thead>\n",
       "  <tbody>\n",
       "    <tr>\n",
       "      <th>0</th>\n",
       "      <td>3SHC</td>\n",
       "      <td>X-RAY DIFFRACTION</td>\n",
       "      <td>1.90</td>\n",
       "      <td>Human Thrombin</td>\n",
       "      <td>B01</td>\n",
       "      <td>D-phenylalanyl-N-[(4-chloropyridin-2-yl)methyl...</td>\n",
       "    </tr>\n",
       "    <tr>\n",
       "      <th>1</th>\n",
       "      <td>3P17</td>\n",
       "      <td>X-RAY DIFFRACTION</td>\n",
       "      <td>1.43</td>\n",
       "      <td>Thrombin</td>\n",
       "      <td>99P</td>\n",
       "      <td>D-phenylalanyl-N-(pyridin-3-ylmethyl)-L-prolin...</td>\n",
       "    </tr>\n",
       "    <tr>\n",
       "      <th>2</th>\n",
       "      <td>2ZNK</td>\n",
       "      <td>X-RAY DIFFRACTION</td>\n",
       "      <td>1.80</td>\n",
       "      <td>Thrombin</td>\n",
       "      <td>31U</td>\n",
       "      <td>D-leucyl-N-(4-carbamimidoylbenzyl)-L-prolinamide</td>\n",
       "    </tr>\n",
       "    <tr>\n",
       "      <th>3</th>\n",
       "      <td>3SI3</td>\n",
       "      <td>X-RAY DIFFRACTION</td>\n",
       "      <td>1.55</td>\n",
       "      <td>Human Thrombin</td>\n",
       "      <td>B03</td>\n",
       "      <td>D-phenylalanyl-N-(pyridin-2-ylmethyl)-L-prolin...</td>\n",
       "    </tr>\n",
       "    <tr>\n",
       "      <th>4</th>\n",
       "      <td>3SI4</td>\n",
       "      <td>X-RAY DIFFRACTION</td>\n",
       "      <td>1.27</td>\n",
       "      <td>Human Thrombin</td>\n",
       "      <td>B04</td>\n",
       "      <td>D-phenylalanyl-N-[(1-methylpyridinium-2-yl)met...</td>\n",
       "    </tr>\n",
       "    <tr>\n",
       "      <th>5</th>\n",
       "      <td>3SV2</td>\n",
       "      <td>X-RAY DIFFRACTION</td>\n",
       "      <td>1.30</td>\n",
       "      <td>Human Thrombin</td>\n",
       "      <td>P05</td>\n",
       "      <td>D-phenylalanyl-N-(pyridin-4-ylmethyl)-L-prolin...</td>\n",
       "    </tr>\n",
       "    <tr>\n",
       "      <th>6</th>\n",
       "      <td>1UVU</td>\n",
       "      <td>X-RAY DIFFRACTION</td>\n",
       "      <td>2.80</td>\n",
       "      <td>Bovine Thrombin</td>\n",
       "      <td>DCH</td>\n",
       "      <td>3-(7-DIAMINOMETHYL-NAPHTHALEN-2-YL)-PROPIONIC ...</td>\n",
       "    </tr>\n",
       "    <tr>\n",
       "      <th>7</th>\n",
       "      <td>1UVT</td>\n",
       "      <td>X-RAY DIFFRACTION</td>\n",
       "      <td>2.50</td>\n",
       "      <td>Bovine Thrombin</td>\n",
       "      <td>I48</td>\n",
       "      <td>N-{3-METHYL-5-[2-(PYRIDIN-4-YLAMINO)-ETHOXY]-P...</td>\n",
       "    </tr>\n",
       "    <tr>\n",
       "      <th>8</th>\n",
       "      <td>2C8Z</td>\n",
       "      <td>X-RAY DIFFRACTION</td>\n",
       "      <td>2.14</td>\n",
       "      <td>Thrombin</td>\n",
       "      <td>C2A</td>\n",
       "      <td>1-(3-CHLOROPHENYL)METHANAMINE</td>\n",
       "    </tr>\n",
       "    <tr>\n",
       "      <th>9</th>\n",
       "      <td>2C8Y</td>\n",
       "      <td>X-RAY DIFFRACTION</td>\n",
       "      <td>2.20</td>\n",
       "      <td>Thrombin</td>\n",
       "      <td>C3M</td>\n",
       "      <td>N-[(2R,3S)-3-AMINO-2-HYDROXY-4-PHENYLBUTYL]NAP...</td>\n",
       "    </tr>\n",
       "    <tr>\n",
       "      <th>10</th>\n",
       "      <td>2C90</td>\n",
       "      <td>X-RAY DIFFRACTION</td>\n",
       "      <td>2.25</td>\n",
       "      <td>Thrombin</td>\n",
       "      <td>C1M</td>\n",
       "      <td>1-(4-CHLOROPHENYL)-1H-TETRAZOLE</td>\n",
       "    </tr>\n",
       "  </tbody>\n",
       "</table>\n",
       "</div>"
      ],
      "text/plain": [
       "   PDB ID             Method  Resolution        Structure Ligand ID  \\\n",
       "0    3SHC  X-RAY DIFFRACTION        1.90   Human Thrombin       B01   \n",
       "1    3P17  X-RAY DIFFRACTION        1.43         Thrombin       99P   \n",
       "2    2ZNK  X-RAY DIFFRACTION        1.80         Thrombin       31U   \n",
       "3    3SI3  X-RAY DIFFRACTION        1.55   Human Thrombin       B03   \n",
       "4    3SI4  X-RAY DIFFRACTION        1.27   Human Thrombin       B04   \n",
       "5    3SV2  X-RAY DIFFRACTION        1.30   Human Thrombin       P05   \n",
       "6    1UVU  X-RAY DIFFRACTION        2.80  Bovine Thrombin       DCH   \n",
       "7    1UVT  X-RAY DIFFRACTION        2.50  Bovine Thrombin       I48   \n",
       "8    2C8Z  X-RAY DIFFRACTION        2.14         Thrombin       C2A   \n",
       "9    2C8Y  X-RAY DIFFRACTION        2.20         Thrombin       C3M   \n",
       "10   2C90  X-RAY DIFFRACTION        2.25         Thrombin       C1M   \n",
       "\n",
       "                                          Ligand name  \n",
       "0   D-phenylalanyl-N-[(4-chloropyridin-2-yl)methyl...  \n",
       "1   D-phenylalanyl-N-(pyridin-3-ylmethyl)-L-prolin...  \n",
       "2    D-leucyl-N-(4-carbamimidoylbenzyl)-L-prolinamide  \n",
       "3   D-phenylalanyl-N-(pyridin-2-ylmethyl)-L-prolin...  \n",
       "4   D-phenylalanyl-N-[(1-methylpyridinium-2-yl)met...  \n",
       "5   D-phenylalanyl-N-(pyridin-4-ylmethyl)-L-prolin...  \n",
       "6   3-(7-DIAMINOMETHYL-NAPHTHALEN-2-YL)-PROPIONIC ...  \n",
       "7   N-{3-METHYL-5-[2-(PYRIDIN-4-YLAMINO)-ETHOXY]-P...  \n",
       "8                       1-(3-CHLOROPHENYL)METHANAMINE  \n",
       "9   N-[(2R,3S)-3-AMINO-2-HYDROXY-4-PHENYLBUTYL]NAP...  \n",
       "10                    1-(4-CHLOROPHENYL)-1H-TETRAZOLE  "
      ]
     },
     "execution_count": 69,
     "metadata": {},
     "output_type": "execute_result"
    }
   ],
   "source": [
    "thrombin_df"
   ]
  },
  {
   "cell_type": "code",
   "execution_count": 70,
   "id": "1217ce9b",
   "metadata": {},
   "outputs": [
    {
     "data": {
      "text/html": [
       "<div>\n",
       "<style scoped>\n",
       "    .dataframe tbody tr th:only-of-type {\n",
       "        vertical-align: middle;\n",
       "    }\n",
       "\n",
       "    .dataframe tbody tr th {\n",
       "        vertical-align: top;\n",
       "    }\n",
       "\n",
       "    .dataframe thead th {\n",
       "        text-align: right;\n",
       "    }\n",
       "</style>\n",
       "<table border=\"1\" class=\"dataframe\">\n",
       "  <thead>\n",
       "    <tr style=\"text-align: right;\">\n",
       "      <th></th>\n",
       "      <th>PDB ID</th>\n",
       "      <th>Method</th>\n",
       "      <th>Resolution</th>\n",
       "      <th>Structure</th>\n",
       "      <th>Ligand ID</th>\n",
       "      <th>Ligand name</th>\n",
       "    </tr>\n",
       "  </thead>\n",
       "  <tbody>\n",
       "    <tr>\n",
       "      <th>4</th>\n",
       "      <td>3SI4</td>\n",
       "      <td>X-RAY DIFFRACTION</td>\n",
       "      <td>1.27</td>\n",
       "      <td>Human Thrombin</td>\n",
       "      <td>B04</td>\n",
       "      <td>D-phenylalanyl-N-[(1-methylpyridinium-2-yl)met...</td>\n",
       "    </tr>\n",
       "    <tr>\n",
       "      <th>5</th>\n",
       "      <td>3SV2</td>\n",
       "      <td>X-RAY DIFFRACTION</td>\n",
       "      <td>1.30</td>\n",
       "      <td>Human Thrombin</td>\n",
       "      <td>P05</td>\n",
       "      <td>D-phenylalanyl-N-(pyridin-4-ylmethyl)-L-prolin...</td>\n",
       "    </tr>\n",
       "    <tr>\n",
       "      <th>1</th>\n",
       "      <td>3P17</td>\n",
       "      <td>X-RAY DIFFRACTION</td>\n",
       "      <td>1.43</td>\n",
       "      <td>Thrombin</td>\n",
       "      <td>99P</td>\n",
       "      <td>D-phenylalanyl-N-(pyridin-3-ylmethyl)-L-prolin...</td>\n",
       "    </tr>\n",
       "    <tr>\n",
       "      <th>3</th>\n",
       "      <td>3SI3</td>\n",
       "      <td>X-RAY DIFFRACTION</td>\n",
       "      <td>1.55</td>\n",
       "      <td>Human Thrombin</td>\n",
       "      <td>B03</td>\n",
       "      <td>D-phenylalanyl-N-(pyridin-2-ylmethyl)-L-prolin...</td>\n",
       "    </tr>\n",
       "    <tr>\n",
       "      <th>2</th>\n",
       "      <td>2ZNK</td>\n",
       "      <td>X-RAY DIFFRACTION</td>\n",
       "      <td>1.80</td>\n",
       "      <td>Thrombin</td>\n",
       "      <td>31U</td>\n",
       "      <td>D-leucyl-N-(4-carbamimidoylbenzyl)-L-prolinamide</td>\n",
       "    </tr>\n",
       "    <tr>\n",
       "      <th>0</th>\n",
       "      <td>3SHC</td>\n",
       "      <td>X-RAY DIFFRACTION</td>\n",
       "      <td>1.90</td>\n",
       "      <td>Human Thrombin</td>\n",
       "      <td>B01</td>\n",
       "      <td>D-phenylalanyl-N-[(4-chloropyridin-2-yl)methyl...</td>\n",
       "    </tr>\n",
       "    <tr>\n",
       "      <th>8</th>\n",
       "      <td>2C8Z</td>\n",
       "      <td>X-RAY DIFFRACTION</td>\n",
       "      <td>2.14</td>\n",
       "      <td>Thrombin</td>\n",
       "      <td>C2A</td>\n",
       "      <td>1-(3-CHLOROPHENYL)METHANAMINE</td>\n",
       "    </tr>\n",
       "    <tr>\n",
       "      <th>9</th>\n",
       "      <td>2C8Y</td>\n",
       "      <td>X-RAY DIFFRACTION</td>\n",
       "      <td>2.20</td>\n",
       "      <td>Thrombin</td>\n",
       "      <td>C3M</td>\n",
       "      <td>N-[(2R,3S)-3-AMINO-2-HYDROXY-4-PHENYLBUTYL]NAP...</td>\n",
       "    </tr>\n",
       "    <tr>\n",
       "      <th>10</th>\n",
       "      <td>2C90</td>\n",
       "      <td>X-RAY DIFFRACTION</td>\n",
       "      <td>2.25</td>\n",
       "      <td>Thrombin</td>\n",
       "      <td>C1M</td>\n",
       "      <td>1-(4-CHLOROPHENYL)-1H-TETRAZOLE</td>\n",
       "    </tr>\n",
       "    <tr>\n",
       "      <th>7</th>\n",
       "      <td>1UVT</td>\n",
       "      <td>X-RAY DIFFRACTION</td>\n",
       "      <td>2.50</td>\n",
       "      <td>Bovine Thrombin</td>\n",
       "      <td>I48</td>\n",
       "      <td>N-{3-METHYL-5-[2-(PYRIDIN-4-YLAMINO)-ETHOXY]-P...</td>\n",
       "    </tr>\n",
       "    <tr>\n",
       "      <th>6</th>\n",
       "      <td>1UVU</td>\n",
       "      <td>X-RAY DIFFRACTION</td>\n",
       "      <td>2.80</td>\n",
       "      <td>Bovine Thrombin</td>\n",
       "      <td>DCH</td>\n",
       "      <td>3-(7-DIAMINOMETHYL-NAPHTHALEN-2-YL)-PROPIONIC ...</td>\n",
       "    </tr>\n",
       "  </tbody>\n",
       "</table>\n",
       "</div>"
      ],
      "text/plain": [
       "   PDB ID             Method  Resolution        Structure Ligand ID  \\\n",
       "4    3SI4  X-RAY DIFFRACTION        1.27   Human Thrombin       B04   \n",
       "5    3SV2  X-RAY DIFFRACTION        1.30   Human Thrombin       P05   \n",
       "1    3P17  X-RAY DIFFRACTION        1.43         Thrombin       99P   \n",
       "3    3SI3  X-RAY DIFFRACTION        1.55   Human Thrombin       B03   \n",
       "2    2ZNK  X-RAY DIFFRACTION        1.80         Thrombin       31U   \n",
       "0    3SHC  X-RAY DIFFRACTION        1.90   Human Thrombin       B01   \n",
       "8    2C8Z  X-RAY DIFFRACTION        2.14         Thrombin       C2A   \n",
       "9    2C8Y  X-RAY DIFFRACTION        2.20         Thrombin       C3M   \n",
       "10   2C90  X-RAY DIFFRACTION        2.25         Thrombin       C1M   \n",
       "7    1UVT  X-RAY DIFFRACTION        2.50  Bovine Thrombin       I48   \n",
       "6    1UVU  X-RAY DIFFRACTION        2.80  Bovine Thrombin       DCH   \n",
       "\n",
       "                                          Ligand name  \n",
       "4   D-phenylalanyl-N-[(1-methylpyridinium-2-yl)met...  \n",
       "5   D-phenylalanyl-N-(pyridin-4-ylmethyl)-L-prolin...  \n",
       "1   D-phenylalanyl-N-(pyridin-3-ylmethyl)-L-prolin...  \n",
       "3   D-phenylalanyl-N-(pyridin-2-ylmethyl)-L-prolin...  \n",
       "2    D-leucyl-N-(4-carbamimidoylbenzyl)-L-prolinamide  \n",
       "0   D-phenylalanyl-N-[(4-chloropyridin-2-yl)methyl...  \n",
       "8                       1-(3-CHLOROPHENYL)METHANAMINE  \n",
       "9   N-[(2R,3S)-3-AMINO-2-HYDROXY-4-PHENYLBUTYL]NAP...  \n",
       "10                    1-(4-CHLOROPHENYL)-1H-TETRAZOLE  \n",
       "7   N-{3-METHYL-5-[2-(PYRIDIN-4-YLAMINO)-ETHOXY]-P...  \n",
       "6   3-(7-DIAMINOMETHYL-NAPHTHALEN-2-YL)-PROPIONIC ...  "
      ]
     },
     "execution_count": 70,
     "metadata": {},
     "output_type": "execute_result"
    }
   ],
   "source": [
    "thrombin_df.sort_values('Resolution', inplace = True)\n",
    "thrombin_df"
   ]
  },
  {
   "cell_type": "code",
   "execution_count": 71,
   "id": "24c2c3aa",
   "metadata": {},
   "outputs": [
    {
     "name": "stdout",
     "output_type": "stream",
     "text": [
      "AP_kin.csv                  chymotrypsin_kinetics.csv\r\n",
      "AP_kinetics.csv             chymotrypsin_kinetics.xlsx\r\n",
      "Ground_water.csv            enzyme_kinetics.csv\r\n",
      "MM_data.csv                 enzyme_kinetics.xlsx\r\n",
      "MM_data1.csv                protein_assay.csv\r\n",
      "MM_data_for_NLRpt2.csv      protein_assay2.csv\r\n",
      "\u001b[34mPDB_files\u001b[m\u001b[m/                  protein_samples.csv\r\n",
      "chymo_MM_data.csv           thrombin_with_ligands.csv\r\n"
     ]
    }
   ],
   "source": [
    "ls data"
   ]
  },
  {
   "cell_type": "code",
   "execution_count": 72,
   "id": "24a6fa25",
   "metadata": {},
   "outputs": [
    {
     "name": "stdout",
     "output_type": "stream",
     "text": [
      "data/enzyme_kinetics.csv\n"
     ]
    }
   ],
   "source": [
    "enzyme_file = os.path.join('data', 'enzyme_kinetics.csv')\n",
    "print(enzyme_file)"
   ]
  },
  {
   "cell_type": "code",
   "execution_count": 73,
   "id": "f83f1f8e",
   "metadata": {},
   "outputs": [],
   "source": [
    "data = pd.read_csv(enzyme_file)"
   ]
  },
  {
   "cell_type": "code",
   "execution_count": 74,
   "id": "052f5c46",
   "metadata": {},
   "outputs": [
    {
     "data": {
      "text/plain": [
       "<bound method NDFrame.head of     Substrate_conc   Velocity\n",
       "0               15  50.000000\n",
       "1                1   6.250000\n",
       "2                3  16.666667\n",
       "3                4  21.526316\n",
       "4              100  86.956522\n",
       "5                6  28.571429\n",
       "6                2  11.764706\n",
       "7               10  40.000000\n",
       "8               75  83.333333\n",
       "9               20  57.142857\n",
       "10               8  34.782609\n",
       "11              30  66.666667\n",
       "12              50  76.923077>"
      ]
     },
     "execution_count": 74,
     "metadata": {},
     "output_type": "execute_result"
    }
   ],
   "source": [
    "data.head"
   ]
  },
  {
   "cell_type": "code",
   "execution_count": 75,
   "id": "9f1f014f",
   "metadata": {},
   "outputs": [
    {
     "data": {
      "text/html": [
       "<div>\n",
       "<style scoped>\n",
       "    .dataframe tbody tr th:only-of-type {\n",
       "        vertical-align: middle;\n",
       "    }\n",
       "\n",
       "    .dataframe tbody tr th {\n",
       "        vertical-align: top;\n",
       "    }\n",
       "\n",
       "    .dataframe thead th {\n",
       "        text-align: right;\n",
       "    }\n",
       "</style>\n",
       "<table border=\"1\" class=\"dataframe\">\n",
       "  <thead>\n",
       "    <tr style=\"text-align: right;\">\n",
       "      <th></th>\n",
       "      <th>Substrate_conc</th>\n",
       "      <th>Velocity</th>\n",
       "    </tr>\n",
       "  </thead>\n",
       "  <tbody>\n",
       "    <tr>\n",
       "      <th>0</th>\n",
       "      <td>15</td>\n",
       "      <td>50.000000</td>\n",
       "    </tr>\n",
       "    <tr>\n",
       "      <th>1</th>\n",
       "      <td>1</td>\n",
       "      <td>6.250000</td>\n",
       "    </tr>\n",
       "    <tr>\n",
       "      <th>2</th>\n",
       "      <td>3</td>\n",
       "      <td>16.666667</td>\n",
       "    </tr>\n",
       "    <tr>\n",
       "      <th>3</th>\n",
       "      <td>4</td>\n",
       "      <td>21.526316</td>\n",
       "    </tr>\n",
       "    <tr>\n",
       "      <th>4</th>\n",
       "      <td>100</td>\n",
       "      <td>86.956522</td>\n",
       "    </tr>\n",
       "    <tr>\n",
       "      <th>5</th>\n",
       "      <td>6</td>\n",
       "      <td>28.571429</td>\n",
       "    </tr>\n",
       "    <tr>\n",
       "      <th>6</th>\n",
       "      <td>2</td>\n",
       "      <td>11.764706</td>\n",
       "    </tr>\n",
       "    <tr>\n",
       "      <th>7</th>\n",
       "      <td>10</td>\n",
       "      <td>40.000000</td>\n",
       "    </tr>\n",
       "    <tr>\n",
       "      <th>8</th>\n",
       "      <td>75</td>\n",
       "      <td>83.333333</td>\n",
       "    </tr>\n",
       "    <tr>\n",
       "      <th>9</th>\n",
       "      <td>20</td>\n",
       "      <td>57.142857</td>\n",
       "    </tr>\n",
       "    <tr>\n",
       "      <th>10</th>\n",
       "      <td>8</td>\n",
       "      <td>34.782609</td>\n",
       "    </tr>\n",
       "    <tr>\n",
       "      <th>11</th>\n",
       "      <td>30</td>\n",
       "      <td>66.666667</td>\n",
       "    </tr>\n",
       "    <tr>\n",
       "      <th>12</th>\n",
       "      <td>50</td>\n",
       "      <td>76.923077</td>\n",
       "    </tr>\n",
       "  </tbody>\n",
       "</table>\n",
       "</div>"
      ],
      "text/plain": [
       "    Substrate_conc   Velocity\n",
       "0               15  50.000000\n",
       "1                1   6.250000\n",
       "2                3  16.666667\n",
       "3                4  21.526316\n",
       "4              100  86.956522\n",
       "5                6  28.571429\n",
       "6                2  11.764706\n",
       "7               10  40.000000\n",
       "8               75  83.333333\n",
       "9               20  57.142857\n",
       "10               8  34.782609\n",
       "11              30  66.666667\n",
       "12              50  76.923077"
      ]
     },
     "execution_count": 75,
     "metadata": {},
     "output_type": "execute_result"
    }
   ],
   "source": [
    "enzyme_df = pd.read_csv(enzyme_file)\n",
    "enzyme_df"
   ]
  },
  {
   "cell_type": "code",
   "execution_count": 76,
   "id": "a74c9a01",
   "metadata": {},
   "outputs": [
    {
     "data": {
      "text/plain": [
       "0      15\n",
       "1       1\n",
       "2       3\n",
       "3       4\n",
       "4     100\n",
       "5       6\n",
       "6       2\n",
       "7      10\n",
       "8      75\n",
       "9      20\n",
       "10      8\n",
       "11     30\n",
       "12     50\n",
       "Name: Substrate_conc, dtype: int64"
      ]
     },
     "execution_count": 76,
     "metadata": {},
     "output_type": "execute_result"
    }
   ],
   "source": [
    "enzyme_df['Substrate_conc']"
   ]
  },
  {
   "cell_type": "code",
   "execution_count": 77,
   "id": "82ea53e1",
   "metadata": {},
   "outputs": [
    {
     "data": {
      "text/html": [
       "<div>\n",
       "<style scoped>\n",
       "    .dataframe tbody tr th:only-of-type {\n",
       "        vertical-align: middle;\n",
       "    }\n",
       "\n",
       "    .dataframe tbody tr th {\n",
       "        vertical-align: top;\n",
       "    }\n",
       "\n",
       "    .dataframe thead th {\n",
       "        text-align: right;\n",
       "    }\n",
       "</style>\n",
       "<table border=\"1\" class=\"dataframe\">\n",
       "  <thead>\n",
       "    <tr style=\"text-align: right;\">\n",
       "      <th></th>\n",
       "      <th>Substrate_conc</th>\n",
       "      <th>Velocity</th>\n",
       "    </tr>\n",
       "  </thead>\n",
       "  <tbody>\n",
       "    <tr>\n",
       "      <th>1</th>\n",
       "      <td>1</td>\n",
       "      <td>6.250000</td>\n",
       "    </tr>\n",
       "    <tr>\n",
       "      <th>6</th>\n",
       "      <td>2</td>\n",
       "      <td>11.764706</td>\n",
       "    </tr>\n",
       "    <tr>\n",
       "      <th>2</th>\n",
       "      <td>3</td>\n",
       "      <td>16.666667</td>\n",
       "    </tr>\n",
       "    <tr>\n",
       "      <th>3</th>\n",
       "      <td>4</td>\n",
       "      <td>21.526316</td>\n",
       "    </tr>\n",
       "    <tr>\n",
       "      <th>5</th>\n",
       "      <td>6</td>\n",
       "      <td>28.571429</td>\n",
       "    </tr>\n",
       "    <tr>\n",
       "      <th>10</th>\n",
       "      <td>8</td>\n",
       "      <td>34.782609</td>\n",
       "    </tr>\n",
       "    <tr>\n",
       "      <th>7</th>\n",
       "      <td>10</td>\n",
       "      <td>40.000000</td>\n",
       "    </tr>\n",
       "    <tr>\n",
       "      <th>0</th>\n",
       "      <td>15</td>\n",
       "      <td>50.000000</td>\n",
       "    </tr>\n",
       "    <tr>\n",
       "      <th>9</th>\n",
       "      <td>20</td>\n",
       "      <td>57.142857</td>\n",
       "    </tr>\n",
       "    <tr>\n",
       "      <th>11</th>\n",
       "      <td>30</td>\n",
       "      <td>66.666667</td>\n",
       "    </tr>\n",
       "    <tr>\n",
       "      <th>12</th>\n",
       "      <td>50</td>\n",
       "      <td>76.923077</td>\n",
       "    </tr>\n",
       "    <tr>\n",
       "      <th>8</th>\n",
       "      <td>75</td>\n",
       "      <td>83.333333</td>\n",
       "    </tr>\n",
       "    <tr>\n",
       "      <th>4</th>\n",
       "      <td>100</td>\n",
       "      <td>86.956522</td>\n",
       "    </tr>\n",
       "  </tbody>\n",
       "</table>\n",
       "</div>"
      ],
      "text/plain": [
       "    Substrate_conc   Velocity\n",
       "1                1   6.250000\n",
       "6                2  11.764706\n",
       "2                3  16.666667\n",
       "3                4  21.526316\n",
       "5                6  28.571429\n",
       "10               8  34.782609\n",
       "7               10  40.000000\n",
       "0               15  50.000000\n",
       "9               20  57.142857\n",
       "11              30  66.666667\n",
       "12              50  76.923077\n",
       "8               75  83.333333\n",
       "4              100  86.956522"
      ]
     },
     "execution_count": 77,
     "metadata": {},
     "output_type": "execute_result"
    }
   ],
   "source": [
    "enzyme_df.sort_values('Substrate_conc', inplace = True)\n",
    "enzyme_df"
   ]
  },
  {
   "cell_type": "code",
   "execution_count": 78,
   "id": "4357a53a",
   "metadata": {},
   "outputs": [],
   "source": [
    "import os\n",
    "import numpy as np\n",
    "import pandas as pd\n",
    "from scipy import stats"
   ]
  },
  {
   "cell_type": "code",
   "execution_count": 79,
   "id": "6151dcbb",
   "metadata": {},
   "outputs": [
    {
     "data": {
      "text/html": [
       "<div>\n",
       "<style scoped>\n",
       "    .dataframe tbody tr th:only-of-type {\n",
       "        vertical-align: middle;\n",
       "    }\n",
       "\n",
       "    .dataframe tbody tr th {\n",
       "        vertical-align: top;\n",
       "    }\n",
       "\n",
       "    .dataframe thead th {\n",
       "        text-align: right;\n",
       "    }\n",
       "</style>\n",
       "<table border=\"1\" class=\"dataframe\">\n",
       "  <thead>\n",
       "    <tr style=\"text-align: right;\">\n",
       "      <th></th>\n",
       "      <th>Protein Concentration (mg/mL)</th>\n",
       "      <th>A595</th>\n",
       "    </tr>\n",
       "  </thead>\n",
       "  <tbody>\n",
       "    <tr>\n",
       "      <th>0</th>\n",
       "      <td>0.2</td>\n",
       "      <td>0.285</td>\n",
       "    </tr>\n",
       "    <tr>\n",
       "      <th>1</th>\n",
       "      <td>0.4</td>\n",
       "      <td>0.485</td>\n",
       "    </tr>\n",
       "    <tr>\n",
       "      <th>2</th>\n",
       "      <td>0.6</td>\n",
       "      <td>0.621</td>\n",
       "    </tr>\n",
       "    <tr>\n",
       "      <th>3</th>\n",
       "      <td>0.8</td>\n",
       "      <td>0.799</td>\n",
       "    </tr>\n",
       "    <tr>\n",
       "      <th>4</th>\n",
       "      <td>1.0</td>\n",
       "      <td>1.010</td>\n",
       "    </tr>\n",
       "    <tr>\n",
       "      <th>5</th>\n",
       "      <td>1.2</td>\n",
       "      <td>1.118</td>\n",
       "    </tr>\n",
       "  </tbody>\n",
       "</table>\n",
       "</div>"
      ],
      "text/plain": [
       "   Protein Concentration (mg/mL)   A595\n",
       "0                            0.2  0.285\n",
       "1                            0.4  0.485\n",
       "2                            0.6  0.621\n",
       "3                            0.8  0.799\n",
       "4                            1.0  1.010\n",
       "5                            1.2  1.118"
      ]
     },
     "execution_count": 79,
     "metadata": {},
     "output_type": "execute_result"
    }
   ],
   "source": [
    "protein_file = os.path.join('data', 'protein_assay.csv')\n",
    "results_df = pd.read_csv(protein_file)\n",
    "results_df"
   ]
  },
  {
   "cell_type": "code",
   "execution_count": 80,
   "id": "72e0e483",
   "metadata": {},
   "outputs": [
    {
     "name": "stdout",
     "output_type": "stream",
     "text": [
      "0    0.2\n",
      "1    0.4\n",
      "2    0.6\n",
      "3    0.8\n",
      "4    1.0\n",
      "5    1.2\n",
      "Name: Protein Concentration (mg/mL), dtype: float64 0    0.285\n",
      "1    0.485\n",
      "2    0.621\n",
      "3    0.799\n",
      "4    1.010\n",
      "5    1.118\n",
      "Name: A595, dtype: float64\n"
     ]
    }
   ],
   "source": [
    "xdata = results_df['Protein Concentration (mg/mL)']   # setting the x values  \n",
    "ydata = results_df['A595']  # setting the y values    \n",
    "print(xdata,ydata) # checking to make sure everything is in place"
   ]
  },
  {
   "cell_type": "code",
   "execution_count": 81,
   "id": "fd552a4e",
   "metadata": {},
   "outputs": [
    {
     "name": "stdout",
     "output_type": "stream",
     "text": [
      "Slope =  0.8454285714285716\n",
      "Intercept =  0.12786666666666657\n",
      "R-squared =  0.994690398528738\n",
      "P value =  1.0590717448341336e-05\n",
      "Standard error =  0.030884027089284245\n"
     ]
    }
   ],
   "source": [
    "slope, intercept, r_value, p_value, std_err = stats.linregress(xdata, ydata)\n",
    "print(\"Slope = \", slope)\n",
    "print(\"Intercept = \", intercept)\n",
    "print(\"R-squared = \", r_value**2)\n",
    "print(\"P value = \", p_value)\n",
    "print(\"Standard error = \", std_err)"
   ]
  },
  {
   "cell_type": "code",
   "execution_count": 82,
   "id": "ceda6aa6",
   "metadata": {},
   "outputs": [
    {
     "data": {
      "text/html": [
       "<div>\n",
       "<style scoped>\n",
       "    .dataframe tbody tr th:only-of-type {\n",
       "        vertical-align: middle;\n",
       "    }\n",
       "\n",
       "    .dataframe tbody tr th {\n",
       "        vertical-align: top;\n",
       "    }\n",
       "\n",
       "    .dataframe thead th {\n",
       "        text-align: right;\n",
       "    }\n",
       "</style>\n",
       "<table border=\"1\" class=\"dataframe\">\n",
       "  <thead>\n",
       "    <tr style=\"text-align: right;\">\n",
       "      <th></th>\n",
       "      <th>Sample #</th>\n",
       "      <th>A-595</th>\n",
       "    </tr>\n",
       "  </thead>\n",
       "  <tbody>\n",
       "    <tr>\n",
       "      <th>0</th>\n",
       "      <td>1</td>\n",
       "      <td>0.183</td>\n",
       "    </tr>\n",
       "    <tr>\n",
       "      <th>1</th>\n",
       "      <td>2</td>\n",
       "      <td>0.682</td>\n",
       "    </tr>\n",
       "    <tr>\n",
       "      <th>2</th>\n",
       "      <td>3</td>\n",
       "      <td>0.759</td>\n",
       "    </tr>\n",
       "    <tr>\n",
       "      <th>3</th>\n",
       "      <td>4</td>\n",
       "      <td>1.340</td>\n",
       "    </tr>\n",
       "    <tr>\n",
       "      <th>4</th>\n",
       "      <td>5</td>\n",
       "      <td>0.935</td>\n",
       "    </tr>\n",
       "    <tr>\n",
       "      <th>5</th>\n",
       "      <td>6</td>\n",
       "      <td>1.013</td>\n",
       "    </tr>\n",
       "  </tbody>\n",
       "</table>\n",
       "</div>"
      ],
      "text/plain": [
       "   Sample #  A-595\n",
       "0         1  0.183\n",
       "1         2  0.682\n",
       "2         3  0.759\n",
       "3         4  1.340\n",
       "4         5  0.935\n",
       "5         6  1.013"
      ]
     },
     "execution_count": 82,
     "metadata": {},
     "output_type": "execute_result"
    }
   ],
   "source": [
    "samples_file = os.path.join('data', 'protein_samples.csv')\n",
    "samples_df = pd.read_csv(samples_file)\n",
    "samples_df # displays the dataframe"
   ]
  },
  {
   "cell_type": "code",
   "execution_count": 83,
   "id": "53dd350e",
   "metadata": {},
   "outputs": [
    {
     "name": "stdout",
     "output_type": "stream",
     "text": [
      "0    0.065213\n",
      "1    0.655447\n",
      "2    0.746525\n",
      "3    1.433750\n",
      "4    0.954703\n",
      "5    1.046964\n",
      "Name: A-595, dtype: float64\n"
     ]
    }
   ],
   "source": [
    "protein_conc = ((samples_df['A-595'] - intercept) / slope)\n",
    "print(protein_conc)\n",
    "# created the equation Protein concentration = (A595 - intercept) / slope"
   ]
  },
  {
   "cell_type": "code",
   "execution_count": 84,
   "id": "1caddcf0",
   "metadata": {},
   "outputs": [
    {
     "data": {
      "text/html": [
       "<div>\n",
       "<style scoped>\n",
       "    .dataframe tbody tr th:only-of-type {\n",
       "        vertical-align: middle;\n",
       "    }\n",
       "\n",
       "    .dataframe tbody tr th {\n",
       "        vertical-align: top;\n",
       "    }\n",
       "\n",
       "    .dataframe thead th {\n",
       "        text-align: right;\n",
       "    }\n",
       "</style>\n",
       "<table border=\"1\" class=\"dataframe\">\n",
       "  <thead>\n",
       "    <tr style=\"text-align: right;\">\n",
       "      <th></th>\n",
       "      <th>Sample #</th>\n",
       "      <th>A-595</th>\n",
       "      <th>ProtConc</th>\n",
       "    </tr>\n",
       "  </thead>\n",
       "  <tbody>\n",
       "    <tr>\n",
       "      <th>0</th>\n",
       "      <td>1</td>\n",
       "      <td>0.183</td>\n",
       "      <td>0.065213</td>\n",
       "    </tr>\n",
       "    <tr>\n",
       "      <th>1</th>\n",
       "      <td>2</td>\n",
       "      <td>0.682</td>\n",
       "      <td>0.655447</td>\n",
       "    </tr>\n",
       "    <tr>\n",
       "      <th>2</th>\n",
       "      <td>3</td>\n",
       "      <td>0.759</td>\n",
       "      <td>0.746525</td>\n",
       "    </tr>\n",
       "    <tr>\n",
       "      <th>3</th>\n",
       "      <td>4</td>\n",
       "      <td>1.340</td>\n",
       "      <td>1.433750</td>\n",
       "    </tr>\n",
       "    <tr>\n",
       "      <th>4</th>\n",
       "      <td>5</td>\n",
       "      <td>0.935</td>\n",
       "      <td>0.954703</td>\n",
       "    </tr>\n",
       "    <tr>\n",
       "      <th>5</th>\n",
       "      <td>6</td>\n",
       "      <td>1.013</td>\n",
       "      <td>1.046964</td>\n",
       "    </tr>\n",
       "  </tbody>\n",
       "</table>\n",
       "</div>"
      ],
      "text/plain": [
       "   Sample #  A-595  ProtConc\n",
       "0         1  0.183  0.065213\n",
       "1         2  0.682  0.655447\n",
       "2         3  0.759  0.746525\n",
       "3         4  1.340  1.433750\n",
       "4         5  0.935  0.954703\n",
       "5         6  1.013  1.046964"
      ]
     },
     "execution_count": 84,
     "metadata": {},
     "output_type": "execute_result"
    }
   ],
   "source": [
    "samples_df['ProtConc'] = protein_conc\n",
    "samples_df"
   ]
  },
  {
   "cell_type": "code",
   "execution_count": 85,
   "id": "8b5ff2b1",
   "metadata": {},
   "outputs": [
    {
     "data": {
      "text/html": [
       "<div>\n",
       "<style scoped>\n",
       "    .dataframe tbody tr th:only-of-type {\n",
       "        vertical-align: middle;\n",
       "    }\n",
       "\n",
       "    .dataframe tbody tr th {\n",
       "        vertical-align: top;\n",
       "    }\n",
       "\n",
       "    .dataframe thead th {\n",
       "        text-align: right;\n",
       "    }\n",
       "</style>\n",
       "<table border=\"1\" class=\"dataframe\">\n",
       "  <thead>\n",
       "    <tr style=\"text-align: right;\">\n",
       "      <th></th>\n",
       "      <th>Sample #</th>\n",
       "      <th>A-595</th>\n",
       "      <th>ProtConc</th>\n",
       "    </tr>\n",
       "  </thead>\n",
       "  <tbody>\n",
       "    <tr>\n",
       "      <th>0</th>\n",
       "      <td>1</td>\n",
       "      <td>0.183</td>\n",
       "      <td>NaN</td>\n",
       "    </tr>\n",
       "    <tr>\n",
       "      <th>1</th>\n",
       "      <td>2</td>\n",
       "      <td>0.682</td>\n",
       "      <td>0.655447</td>\n",
       "    </tr>\n",
       "    <tr>\n",
       "      <th>2</th>\n",
       "      <td>3</td>\n",
       "      <td>0.759</td>\n",
       "      <td>0.746525</td>\n",
       "    </tr>\n",
       "    <tr>\n",
       "      <th>3</th>\n",
       "      <td>4</td>\n",
       "      <td>1.340</td>\n",
       "      <td>NaN</td>\n",
       "    </tr>\n",
       "    <tr>\n",
       "      <th>4</th>\n",
       "      <td>5</td>\n",
       "      <td>0.935</td>\n",
       "      <td>0.954703</td>\n",
       "    </tr>\n",
       "    <tr>\n",
       "      <th>5</th>\n",
       "      <td>6</td>\n",
       "      <td>1.013</td>\n",
       "      <td>1.046964</td>\n",
       "    </tr>\n",
       "  </tbody>\n",
       "</table>\n",
       "</div>"
      ],
      "text/plain": [
       "   Sample #  A-595  ProtConc\n",
       "0         1  0.183       NaN\n",
       "1         2  0.682  0.655447\n",
       "2         3  0.759  0.746525\n",
       "3         4  1.340       NaN\n",
       "4         5  0.935  0.954703\n",
       "5         6  1.013  1.046964"
      ]
     },
     "execution_count": 85,
     "metadata": {},
     "output_type": "execute_result"
    }
   ],
   "source": [
    "samples_df.loc[samples_df['A-595'] < 0.285, 'ProtConc'] = np.nan\n",
    "samples_df.loc[samples_df['A-595'] > 1.118, 'ProtConc'] = np.nan\n",
    "samples_df"
   ]
  },
  {
   "cell_type": "code",
   "execution_count": 86,
   "id": "872b0de7",
   "metadata": {},
   "outputs": [
    {
     "ename": "KeyError",
     "evalue": "'A-595'",
     "output_type": "error",
     "traceback": [
      "\u001b[0;31m---------------------------------------------------------------------------\u001b[0m",
      "\u001b[0;31mKeyError\u001b[0m                                  Traceback (most recent call last)",
      "File \u001b[0;32m~/anaconda3/lib/python3.9/site-packages/pandas/core/indexes/base.py:3621\u001b[0m, in \u001b[0;36mIndex.get_loc\u001b[0;34m(self, key, method, tolerance)\u001b[0m\n\u001b[1;32m   3620\u001b[0m \u001b[38;5;28;01mtry\u001b[39;00m:\n\u001b[0;32m-> 3621\u001b[0m     \u001b[38;5;28;01mreturn\u001b[39;00m \u001b[38;5;28;43mself\u001b[39;49m\u001b[38;5;241;43m.\u001b[39;49m\u001b[43m_engine\u001b[49m\u001b[38;5;241;43m.\u001b[39;49m\u001b[43mget_loc\u001b[49m\u001b[43m(\u001b[49m\u001b[43mcasted_key\u001b[49m\u001b[43m)\u001b[49m\n\u001b[1;32m   3622\u001b[0m \u001b[38;5;28;01mexcept\u001b[39;00m \u001b[38;5;167;01mKeyError\u001b[39;00m \u001b[38;5;28;01mas\u001b[39;00m err:\n",
      "File \u001b[0;32m~/anaconda3/lib/python3.9/site-packages/pandas/_libs/index.pyx:136\u001b[0m, in \u001b[0;36mpandas._libs.index.IndexEngine.get_loc\u001b[0;34m()\u001b[0m\n",
      "File \u001b[0;32m~/anaconda3/lib/python3.9/site-packages/pandas/_libs/index.pyx:163\u001b[0m, in \u001b[0;36mpandas._libs.index.IndexEngine.get_loc\u001b[0;34m()\u001b[0m\n",
      "File \u001b[0;32mpandas/_libs/hashtable_class_helper.pxi:5198\u001b[0m, in \u001b[0;36mpandas._libs.hashtable.PyObjectHashTable.get_item\u001b[0;34m()\u001b[0m\n",
      "File \u001b[0;32mpandas/_libs/hashtable_class_helper.pxi:5206\u001b[0m, in \u001b[0;36mpandas._libs.hashtable.PyObjectHashTable.get_item\u001b[0;34m()\u001b[0m\n",
      "\u001b[0;31mKeyError\u001b[0m: 'A-595'",
      "\nThe above exception was the direct cause of the following exception:\n",
      "\u001b[0;31mKeyError\u001b[0m                                  Traceback (most recent call last)",
      "Input \u001b[0;32mIn [86]\u001b[0m, in \u001b[0;36m<cell line: 1>\u001b[0;34m()\u001b[0m\n\u001b[0;32m----> 1\u001b[0m samples_df\u001b[38;5;241m.\u001b[39mloc[samples_df[\u001b[38;5;124m'\u001b[39m\u001b[38;5;124mA-595\u001b[39m\u001b[38;5;124m'\u001b[39m] \u001b[38;5;241m<\u001b[39m \u001b[43mresults_df\u001b[49m\u001b[43m[\u001b[49m\u001b[38;5;124;43m'\u001b[39;49m\u001b[38;5;124;43mA-595\u001b[39;49m\u001b[38;5;124;43m'\u001b[39;49m\u001b[43m]\u001b[49m\u001b[38;5;241m.\u001b[39mmin(), \u001b[38;5;124m'\u001b[39m\u001b[38;5;124mProtConc\u001b[39m\u001b[38;5;124m'\u001b[39m] \u001b[38;5;241m=\u001b[39m np\u001b[38;5;241m.\u001b[39mnan\n\u001b[1;32m      2\u001b[0m samples_df\u001b[38;5;241m.\u001b[39mloc[samples_df[\u001b[38;5;124m'\u001b[39m\u001b[38;5;124mA-595\u001b[39m\u001b[38;5;124m'\u001b[39m] \u001b[38;5;241m>\u001b[39m results_df[\u001b[38;5;124m'\u001b[39m\u001b[38;5;124mA-595\u001b[39m\u001b[38;5;124m'\u001b[39m]\u001b[38;5;241m.\u001b[39mmax(), \u001b[38;5;124m'\u001b[39m\u001b[38;5;124mProtConc\u001b[39m\u001b[38;5;124m'\u001b[39m] \u001b[38;5;241m=\u001b[39m np\u001b[38;5;241m.\u001b[39mnan\n",
      "File \u001b[0;32m~/anaconda3/lib/python3.9/site-packages/pandas/core/frame.py:3505\u001b[0m, in \u001b[0;36mDataFrame.__getitem__\u001b[0;34m(self, key)\u001b[0m\n\u001b[1;32m   3503\u001b[0m \u001b[38;5;28;01mif\u001b[39;00m \u001b[38;5;28mself\u001b[39m\u001b[38;5;241m.\u001b[39mcolumns\u001b[38;5;241m.\u001b[39mnlevels \u001b[38;5;241m>\u001b[39m \u001b[38;5;241m1\u001b[39m:\n\u001b[1;32m   3504\u001b[0m     \u001b[38;5;28;01mreturn\u001b[39;00m \u001b[38;5;28mself\u001b[39m\u001b[38;5;241m.\u001b[39m_getitem_multilevel(key)\n\u001b[0;32m-> 3505\u001b[0m indexer \u001b[38;5;241m=\u001b[39m \u001b[38;5;28;43mself\u001b[39;49m\u001b[38;5;241;43m.\u001b[39;49m\u001b[43mcolumns\u001b[49m\u001b[38;5;241;43m.\u001b[39;49m\u001b[43mget_loc\u001b[49m\u001b[43m(\u001b[49m\u001b[43mkey\u001b[49m\u001b[43m)\u001b[49m\n\u001b[1;32m   3506\u001b[0m \u001b[38;5;28;01mif\u001b[39;00m is_integer(indexer):\n\u001b[1;32m   3507\u001b[0m     indexer \u001b[38;5;241m=\u001b[39m [indexer]\n",
      "File \u001b[0;32m~/anaconda3/lib/python3.9/site-packages/pandas/core/indexes/base.py:3623\u001b[0m, in \u001b[0;36mIndex.get_loc\u001b[0;34m(self, key, method, tolerance)\u001b[0m\n\u001b[1;32m   3621\u001b[0m     \u001b[38;5;28;01mreturn\u001b[39;00m \u001b[38;5;28mself\u001b[39m\u001b[38;5;241m.\u001b[39m_engine\u001b[38;5;241m.\u001b[39mget_loc(casted_key)\n\u001b[1;32m   3622\u001b[0m \u001b[38;5;28;01mexcept\u001b[39;00m \u001b[38;5;167;01mKeyError\u001b[39;00m \u001b[38;5;28;01mas\u001b[39;00m err:\n\u001b[0;32m-> 3623\u001b[0m     \u001b[38;5;28;01mraise\u001b[39;00m \u001b[38;5;167;01mKeyError\u001b[39;00m(key) \u001b[38;5;28;01mfrom\u001b[39;00m \u001b[38;5;21;01merr\u001b[39;00m\n\u001b[1;32m   3624\u001b[0m \u001b[38;5;28;01mexcept\u001b[39;00m \u001b[38;5;167;01mTypeError\u001b[39;00m:\n\u001b[1;32m   3625\u001b[0m     \u001b[38;5;66;03m# If we have a listlike key, _check_indexing_error will raise\u001b[39;00m\n\u001b[1;32m   3626\u001b[0m     \u001b[38;5;66;03m#  InvalidIndexError. Otherwise we fall through and re-raise\u001b[39;00m\n\u001b[1;32m   3627\u001b[0m     \u001b[38;5;66;03m#  the TypeError.\u001b[39;00m\n\u001b[1;32m   3628\u001b[0m     \u001b[38;5;28mself\u001b[39m\u001b[38;5;241m.\u001b[39m_check_indexing_error(key)\n",
      "\u001b[0;31mKeyError\u001b[0m: 'A-595'"
     ]
    }
   ],
   "source": [
    "samples_df.loc[samples_df['A-595'] < results_df['A-595'].min(), 'ProtConc'] = np.nan\n",
    "samples_df.loc[samples_df['A-595'] > results_df['A-595'].max(), 'ProtConc'] = np.nan"
   ]
  },
  {
   "cell_type": "code",
   "execution_count": 87,
   "id": "72e88c1e",
   "metadata": {},
   "outputs": [
    {
     "name": "stdout",
     "output_type": "stream",
     "text": [
      "AP_kin.csv                  chymotrypsin_kinetics.csv\r\n",
      "AP_kinetics.csv             chymotrypsin_kinetics.xlsx\r\n",
      "Ground_water.csv            enzyme_kinetics.csv\r\n",
      "MM_data.csv                 enzyme_kinetics.xlsx\r\n",
      "MM_data1.csv                protein_assay.csv\r\n",
      "MM_data_for_NLRpt2.csv      protein_assay2.csv\r\n",
      "\u001b[34mPDB_files\u001b[m\u001b[m/                  protein_samples.csv\r\n",
      "chymo_MM_data.csv           thrombin_with_ligands.csv\r\n"
     ]
    }
   ],
   "source": [
    "ls data"
   ]
  },
  {
   "cell_type": "code",
   "execution_count": 88,
   "id": "ced7de6e",
   "metadata": {},
   "outputs": [
    {
     "name": "stdout",
     "output_type": "stream",
     "text": [
      "data/Ground_water.csv\n"
     ]
    }
   ],
   "source": [
    "water_file = os.path.join('data', 'Ground_water.csv')\n",
    "print(water_file)"
   ]
  },
  {
   "cell_type": "code",
   "execution_count": 89,
   "id": "41d1da0d",
   "metadata": {},
   "outputs": [],
   "source": [
    "data = pd.read_csv(water_file)"
   ]
  },
  {
   "cell_type": "code",
   "execution_count": 90,
   "id": "24199dbf",
   "metadata": {},
   "outputs": [
    {
     "data": {
      "text/plain": [
       "<bound method NDFrame.head of      pH  Bicarb\n",
       "0   7.6     157\n",
       "1   7.1     174\n",
       "2   8.2     175\n",
       "3   7.5     188\n",
       "4   7.4     171\n",
       "5   7.8     143\n",
       "6   7.3     217\n",
       "7   8.0     190\n",
       "8   7.1     142\n",
       "9   7.5     190\n",
       "10  8.1     215\n",
       "11  7.0     199\n",
       "12  7.3     262\n",
       "13  7.8     105\n",
       "14  7.3     121\n",
       "15  8.0      81\n",
       "16  8.5      82\n",
       "17  7.1     210\n",
       "18  8.2     202\n",
       "19  7.9     155\n",
       "20  7.6     157\n",
       "21  8.8     147\n",
       "22  7.2     133\n",
       "23  7.9      53\n",
       "24  8.1      56\n",
       "25  7.7     113\n",
       "26  8.4      35\n",
       "27  7.4     125\n",
       "28  7.3      76\n",
       "29  8.5      48\n",
       "30  7.8     147\n",
       "31  6.7     117\n",
       "32  7.1     182\n",
       "33  7.3      87>"
      ]
     },
     "execution_count": 90,
     "metadata": {},
     "output_type": "execute_result"
    }
   ],
   "source": [
    "data.head"
   ]
  },
  {
   "cell_type": "code",
   "execution_count": 91,
   "id": "d13b76f6",
   "metadata": {},
   "outputs": [
    {
     "data": {
      "text/html": [
       "<div>\n",
       "<style scoped>\n",
       "    .dataframe tbody tr th:only-of-type {\n",
       "        vertical-align: middle;\n",
       "    }\n",
       "\n",
       "    .dataframe tbody tr th {\n",
       "        vertical-align: top;\n",
       "    }\n",
       "\n",
       "    .dataframe thead th {\n",
       "        text-align: right;\n",
       "    }\n",
       "</style>\n",
       "<table border=\"1\" class=\"dataframe\">\n",
       "  <thead>\n",
       "    <tr style=\"text-align: right;\">\n",
       "      <th></th>\n",
       "      <th>pH</th>\n",
       "      <th>Bicarb</th>\n",
       "    </tr>\n",
       "  </thead>\n",
       "  <tbody>\n",
       "    <tr>\n",
       "      <th>0</th>\n",
       "      <td>7.6</td>\n",
       "      <td>157</td>\n",
       "    </tr>\n",
       "    <tr>\n",
       "      <th>1</th>\n",
       "      <td>7.1</td>\n",
       "      <td>174</td>\n",
       "    </tr>\n",
       "    <tr>\n",
       "      <th>2</th>\n",
       "      <td>8.2</td>\n",
       "      <td>175</td>\n",
       "    </tr>\n",
       "    <tr>\n",
       "      <th>3</th>\n",
       "      <td>7.5</td>\n",
       "      <td>188</td>\n",
       "    </tr>\n",
       "    <tr>\n",
       "      <th>4</th>\n",
       "      <td>7.4</td>\n",
       "      <td>171</td>\n",
       "    </tr>\n",
       "    <tr>\n",
       "      <th>5</th>\n",
       "      <td>7.8</td>\n",
       "      <td>143</td>\n",
       "    </tr>\n",
       "    <tr>\n",
       "      <th>6</th>\n",
       "      <td>7.3</td>\n",
       "      <td>217</td>\n",
       "    </tr>\n",
       "    <tr>\n",
       "      <th>7</th>\n",
       "      <td>8.0</td>\n",
       "      <td>190</td>\n",
       "    </tr>\n",
       "    <tr>\n",
       "      <th>8</th>\n",
       "      <td>7.1</td>\n",
       "      <td>142</td>\n",
       "    </tr>\n",
       "    <tr>\n",
       "      <th>9</th>\n",
       "      <td>7.5</td>\n",
       "      <td>190</td>\n",
       "    </tr>\n",
       "    <tr>\n",
       "      <th>10</th>\n",
       "      <td>8.1</td>\n",
       "      <td>215</td>\n",
       "    </tr>\n",
       "    <tr>\n",
       "      <th>11</th>\n",
       "      <td>7.0</td>\n",
       "      <td>199</td>\n",
       "    </tr>\n",
       "    <tr>\n",
       "      <th>12</th>\n",
       "      <td>7.3</td>\n",
       "      <td>262</td>\n",
       "    </tr>\n",
       "    <tr>\n",
       "      <th>13</th>\n",
       "      <td>7.8</td>\n",
       "      <td>105</td>\n",
       "    </tr>\n",
       "    <tr>\n",
       "      <th>14</th>\n",
       "      <td>7.3</td>\n",
       "      <td>121</td>\n",
       "    </tr>\n",
       "    <tr>\n",
       "      <th>15</th>\n",
       "      <td>8.0</td>\n",
       "      <td>81</td>\n",
       "    </tr>\n",
       "    <tr>\n",
       "      <th>16</th>\n",
       "      <td>8.5</td>\n",
       "      <td>82</td>\n",
       "    </tr>\n",
       "    <tr>\n",
       "      <th>17</th>\n",
       "      <td>7.1</td>\n",
       "      <td>210</td>\n",
       "    </tr>\n",
       "    <tr>\n",
       "      <th>18</th>\n",
       "      <td>8.2</td>\n",
       "      <td>202</td>\n",
       "    </tr>\n",
       "    <tr>\n",
       "      <th>19</th>\n",
       "      <td>7.9</td>\n",
       "      <td>155</td>\n",
       "    </tr>\n",
       "    <tr>\n",
       "      <th>20</th>\n",
       "      <td>7.6</td>\n",
       "      <td>157</td>\n",
       "    </tr>\n",
       "    <tr>\n",
       "      <th>21</th>\n",
       "      <td>8.8</td>\n",
       "      <td>147</td>\n",
       "    </tr>\n",
       "    <tr>\n",
       "      <th>22</th>\n",
       "      <td>7.2</td>\n",
       "      <td>133</td>\n",
       "    </tr>\n",
       "    <tr>\n",
       "      <th>23</th>\n",
       "      <td>7.9</td>\n",
       "      <td>53</td>\n",
       "    </tr>\n",
       "    <tr>\n",
       "      <th>24</th>\n",
       "      <td>8.1</td>\n",
       "      <td>56</td>\n",
       "    </tr>\n",
       "    <tr>\n",
       "      <th>25</th>\n",
       "      <td>7.7</td>\n",
       "      <td>113</td>\n",
       "    </tr>\n",
       "    <tr>\n",
       "      <th>26</th>\n",
       "      <td>8.4</td>\n",
       "      <td>35</td>\n",
       "    </tr>\n",
       "    <tr>\n",
       "      <th>27</th>\n",
       "      <td>7.4</td>\n",
       "      <td>125</td>\n",
       "    </tr>\n",
       "    <tr>\n",
       "      <th>28</th>\n",
       "      <td>7.3</td>\n",
       "      <td>76</td>\n",
       "    </tr>\n",
       "    <tr>\n",
       "      <th>29</th>\n",
       "      <td>8.5</td>\n",
       "      <td>48</td>\n",
       "    </tr>\n",
       "    <tr>\n",
       "      <th>30</th>\n",
       "      <td>7.8</td>\n",
       "      <td>147</td>\n",
       "    </tr>\n",
       "    <tr>\n",
       "      <th>31</th>\n",
       "      <td>6.7</td>\n",
       "      <td>117</td>\n",
       "    </tr>\n",
       "    <tr>\n",
       "      <th>32</th>\n",
       "      <td>7.1</td>\n",
       "      <td>182</td>\n",
       "    </tr>\n",
       "    <tr>\n",
       "      <th>33</th>\n",
       "      <td>7.3</td>\n",
       "      <td>87</td>\n",
       "    </tr>\n",
       "  </tbody>\n",
       "</table>\n",
       "</div>"
      ],
      "text/plain": [
       "     pH  Bicarb\n",
       "0   7.6     157\n",
       "1   7.1     174\n",
       "2   8.2     175\n",
       "3   7.5     188\n",
       "4   7.4     171\n",
       "5   7.8     143\n",
       "6   7.3     217\n",
       "7   8.0     190\n",
       "8   7.1     142\n",
       "9   7.5     190\n",
       "10  8.1     215\n",
       "11  7.0     199\n",
       "12  7.3     262\n",
       "13  7.8     105\n",
       "14  7.3     121\n",
       "15  8.0      81\n",
       "16  8.5      82\n",
       "17  7.1     210\n",
       "18  8.2     202\n",
       "19  7.9     155\n",
       "20  7.6     157\n",
       "21  8.8     147\n",
       "22  7.2     133\n",
       "23  7.9      53\n",
       "24  8.1      56\n",
       "25  7.7     113\n",
       "26  8.4      35\n",
       "27  7.4     125\n",
       "28  7.3      76\n",
       "29  8.5      48\n",
       "30  7.8     147\n",
       "31  6.7     117\n",
       "32  7.1     182\n",
       "33  7.3      87"
      ]
     },
     "execution_count": 91,
     "metadata": {},
     "output_type": "execute_result"
    }
   ],
   "source": [
    "water_df = pd.read_csv(water_file)\n",
    "water_df"
   ]
  },
  {
   "cell_type": "code",
   "execution_count": 92,
   "id": "037fb407",
   "metadata": {},
   "outputs": [
    {
     "name": "stdout",
     "output_type": "stream",
     "text": [
      "0     157\n",
      "1     174\n",
      "2     175\n",
      "3     188\n",
      "4     171\n",
      "5     143\n",
      "6     217\n",
      "7     190\n",
      "8     142\n",
      "9     190\n",
      "10    215\n",
      "11    199\n",
      "12    262\n",
      "13    105\n",
      "14    121\n",
      "15     81\n",
      "16     82\n",
      "17    210\n",
      "18    202\n",
      "19    155\n",
      "20    157\n",
      "21    147\n",
      "22    133\n",
      "23     53\n",
      "24     56\n",
      "25    113\n",
      "26     35\n",
      "27    125\n",
      "28     76\n",
      "29     48\n",
      "30    147\n",
      "31    117\n",
      "32    182\n",
      "33     87\n",
      "Name: Bicarb, dtype: int64 0     7.6\n",
      "1     7.1\n",
      "2     8.2\n",
      "3     7.5\n",
      "4     7.4\n",
      "5     7.8\n",
      "6     7.3\n",
      "7     8.0\n",
      "8     7.1\n",
      "9     7.5\n",
      "10    8.1\n",
      "11    7.0\n",
      "12    7.3\n",
      "13    7.8\n",
      "14    7.3\n",
      "15    8.0\n",
      "16    8.5\n",
      "17    7.1\n",
      "18    8.2\n",
      "19    7.9\n",
      "20    7.6\n",
      "21    8.8\n",
      "22    7.2\n",
      "23    7.9\n",
      "24    8.1\n",
      "25    7.7\n",
      "26    8.4\n",
      "27    7.4\n",
      "28    7.3\n",
      "29    8.5\n",
      "30    7.8\n",
      "31    6.7\n",
      "32    7.1\n",
      "33    7.3\n",
      "Name: pH, dtype: float64\n"
     ]
    }
   ],
   "source": [
    "xdata = water_df['Bicarb']\n",
    "ydata = water_df['pH']\n",
    "print(xdata, ydata)"
   ]
  },
  {
   "cell_type": "code",
   "execution_count": 93,
   "id": "93f49f47",
   "metadata": {},
   "outputs": [
    {
     "name": "stdout",
     "output_type": "stream",
     "text": [
      "Slope =  -0.0030521595419827677\n",
      "R-squared =  0.1152673937227531\n",
      "Intercept =  8.097595134597833\n",
      "P-value =  0.04948248037131797\n",
      "Standard error =  0.0014948066523110296\n"
     ]
    }
   ],
   "source": [
    "slope, intercept, r_value, p_value, std_err = stats.linregress(xdata, ydata)\n",
    "print(\"Slope = \", slope)\n",
    "print(\"R-squared = \", r_value**2)\n",
    "print(\"Intercept = \", intercept)\n",
    "print(\"P-value = \", p_value)\n",
    "print(\"Standard error = \", std_err)"
   ]
  },
  {
   "cell_type": "code",
   "execution_count": 94,
   "id": "c34d94b9",
   "metadata": {},
   "outputs": [
    {
     "name": "stdout",
     "output_type": "stream",
     "text": [
      "Slope = 0.8454285714285716/mg/mL\n",
      "Intercept =  0.12786666666666657\n",
      "R-squared =  0.994690398528738\n",
      "P value =  1.0590717448341336e-05\n",
      "Standard Error =  0.030884027089284245\n"
     ]
    }
   ],
   "source": [
    "import os\n",
    "import pandas as pd\n",
    "protein_file = os.path.join('data', 'protein_assay.csv')\n",
    "results_df = pd.read_csv(protein_file)\n",
    "xdata = results_df['Protein Concentration (mg/mL)'] # setting x values\n",
    "ydata = results_df['A595'] # setting y values\n",
    "from scipy import stats\n",
    "slope, intercept, r_value, p_value, std_err = stats.linregress(xdata, ydata)\n",
    "print(\"Slope = \", slope, \"/mg/mL\", sep =\"\")\n",
    "print(\"Intercept = \", intercept)\n",
    "print(\"R-squared = \", r_value**2)\n",
    "print(\"P value = \", p_value)\n",
    "print(\"Standard Error = \", std_err)"
   ]
  },
  {
   "cell_type": "code",
   "execution_count": 95,
   "id": "ff295268",
   "metadata": {},
   "outputs": [
    {
     "data": {
      "text/plain": [
       "<matplotlib.collections.PathCollection at 0x133915130>"
      ]
     },
     "execution_count": 95,
     "metadata": {},
     "output_type": "execute_result"
    },
    {
     "data": {
      "image/png": "[encoded data removed]",
      "text/plain": [
       "<Figure size 720x360 with 1 Axes>"
      ]
     },
     "metadata": {
      "needs_background": "light"
     },
     "output_type": "display_data"
    }
   ],
   "source": [
    "import numpy as np\n",
    "import matplotlib.pyplot as plt\n",
    "plt.figure(figsize = (10,5)) # sets the size of the figure\n",
    "plt.scatter(xdata, ydata) # scatter plot of the data"
   ]
  },
  {
   "cell_type": "code",
   "execution_count": 96,
   "id": "4f06a609",
   "metadata": {},
   "outputs": [
    {
     "data": {
      "text/plain": [
       "[<matplotlib.lines.Line2D at 0x133828730>]"
      ]
     },
     "execution_count": 96,
     "metadata": {},
     "output_type": "execute_result"
    },
    {
     "data": {
      "image/png": "[encoded data removed]",
      "text/plain": [
       "<Figure size 720x432 with 1 Axes>"
      ]
     },
     "metadata": {
      "needs_background": "light"
     },
     "output_type": "display_data"
    }
   ],
   "source": [
    "plt.figure(figsize = (10,6))\n",
    "plt.scatter(xdata, ydata)\n",
    "plt.plot(xdata, slope * xdata + intercept) # intoduce the best fit line"
   ]
  },
  {
   "cell_type": "code",
   "execution_count": 97,
   "id": "6edc80ec",
   "metadata": {},
   "outputs": [
    {
     "data": {
      "text/plain": [
       "Text(0.25, 1.0, 'y = 0.8454 * x + 0.1279')"
      ]
     },
     "execution_count": 97,
     "metadata": {},
     "output_type": "execute_result"
    },
    {
     "data": {
      "image/png": "[encoded data removed]",
      "text/plain": [
       "<Figure size 720x432 with 1 Axes>"
      ]
     },
     "metadata": {
      "needs_background": "light"
     },
     "output_type": "display_data"
    }
   ],
   "source": [
    "plt.figure(figsize = (10,6))\n",
    "plt.scatter(xdata, ydata)\n",
    "plt.plot(xdata, slope * xdata + intercept)\n",
    "plt.xlabel('Protein Concentration (mg/mL)') # x-axis label\n",
    "plt.ylabel('$A_{595}$') # y-axis label in latex, makes the 595 subscript\n",
    "plt.annotate(F'y = {slope:.4f} * x + {intercept:.4f}', xy = (0.25, 1.0))"
   ]
  },
  {
   "cell_type": "code",
   "execution_count": 98,
   "id": "ec5fa1a5",
   "metadata": {},
   "outputs": [
    {
     "data": {
      "text/plain": [
       "Text(1.0, 0.4, 'y = 0.8454 * x + 0.1279')"
      ]
     },
     "execution_count": 98,
     "metadata": {},
     "output_type": "execute_result"
    },
    {
     "data": {
      "image/png": "[encoded data removed]",
      "text/plain": [
       "<Figure size 720x432 with 1 Axes>"
      ]
     },
     "metadata": {
      "needs_background": "light"
     },
     "output_type": "display_data"
    }
   ],
   "source": [
    "# try to put the equation in the lower right hand corner\n",
    "plt.figure(figsize = (10,6))\n",
    "plt.scatter(xdata, ydata)\n",
    "plt.plot(xdata, slope * xdata + intercept)\n",
    "plt.xlabel('Protein Concentration (mg/mL)') # x-axis label\n",
    "plt.ylabel('$A_{595}$') # y-axis label in latex, makes the 595 subscript\n",
    "plt.annotate(F'y = {slope:.4f} * x + {intercept:.4f}', xy = (1.0, 0.4))"
   ]
  },
  {
   "cell_type": "code",
   "execution_count": 99,
   "id": "c0978996",
   "metadata": {},
   "outputs": [
    {
     "data": {
      "image/png": "[encoded data removed]",
      "text/plain": [
       "<Figure size 720x432 with 1 Axes>"
      ]
     },
     "metadata": {
      "needs_background": "light"
     },
     "output_type": "display_data"
    }
   ],
   "source": [
    "plt.figure(figsize = (10,6))\n",
    "plt.scatter(xdata, ydata)\n",
    "plt.plot(xdata, slope * xdata + intercept)\n",
    "plt.xlabel('Protein ($\\mu$g)') # x-axis label in greek symbol\n",
    "plt.ylabel('$A_{595}$') # y-axis label in latex, makes the 595 subscript\n",
    "plt.annotate(F'y = {slope:.4f} * x + {intercept:.4f}', xy = (0.25, 1.0))\n",
    "plt.savefig('Bradford_plot.png', dpi=600, bbox_inches = 'tight')"
   ]
  },
  {
   "cell_type": "code",
   "execution_count": 100,
   "id": "962ee13a",
   "metadata": {},
   "outputs": [
    {
     "data": {
      "text/plain": [
       "[<matplotlib.lines.Line2D at 0x136abff40>]"
      ]
     },
     "execution_count": 100,
     "metadata": {},
     "output_type": "execute_result"
    },
    {
     "data": {
      "image/png": "[encoded data removed]",
      "text/plain": [
       "<Figure size 432x288 with 1 Axes>"
      ]
     },
     "metadata": {
      "needs_background": "light"
     },
     "output_type": "display_data"
    }
   ],
   "source": [
    "# add red line\n",
    "plt.plot(xdata, slope * xdata + intercept) # add the argument 'r-'\n",
    "plt.plot(xdata, slope * xdata + intercept, 'r-') #red line"
   ]
  },
  {
   "cell_type": "code",
   "execution_count": 101,
   "id": "36a7adae",
   "metadata": {},
   "outputs": [
    {
     "data": {
      "text/plain": [
       "[<matplotlib.lines.Line2D at 0x137c019d0>]"
      ]
     },
     "execution_count": 101,
     "metadata": {},
     "output_type": "execute_result"
    },
    {
     "data": {
      "image/png": "[encoded data removed]",
      "text/plain": [
       "<Figure size 432x288 with 1 Axes>"
      ]
     },
     "metadata": {
      "needs_background": "light"
     },
     "output_type": "display_data"
    }
   ],
   "source": [
    "# can I add other colors?\n",
    "plt.plot(xdata, slope * xdata + intercept) \n",
    "plt.plot(xdata, slope * xdata + intercept, 'y-') #yellow?"
   ]
  },
  {
   "cell_type": "code",
   "execution_count": 102,
   "id": "91a21e96",
   "metadata": {},
   "outputs": [
    {
     "data": {
      "text/plain": [
       "[<matplotlib.lines.Line2D at 0x137c691c0>]"
      ]
     },
     "execution_count": 102,
     "metadata": {},
     "output_type": "execute_result"
    },
    {
     "data": {
      "image/png": "[encoded data removed]",
      "text/plain": [
       "<Figure size 432x288 with 1 Axes>"
      ]
     },
     "metadata": {
      "needs_background": "light"
     },
     "output_type": "display_data"
    }
   ],
   "source": [
    "# can I add other colors?\n",
    "plt.plot(xdata, slope * xdata + intercept) \n",
    "plt.plot(xdata, slope * xdata + intercept, 'p-') #orange!"
   ]
  },
  {
   "cell_type": "code",
   "execution_count": 103,
   "id": "24f5f018",
   "metadata": {},
   "outputs": [
    {
     "data": {
      "text/plain": [
       "<AxesSubplot:xlabel='Protein Concentration (mg/mL)', ylabel='A595'>"
      ]
     },
     "execution_count": 103,
     "metadata": {},
     "output_type": "execute_result"
    },
    {
     "data": {
      "image/png": "[encoded data removed]",
      "text/plain": [
       "<Figure size 432x288 with 1 Axes>"
      ]
     },
     "metadata": {
      "needs_background": "light"
     },
     "output_type": "display_data"
    }
   ],
   "source": [
    "import os\n",
    "import pandas as pd\n",
    "protein_file = os.path.join('data', 'protein_assay.csv')\n",
    "results_df = pd.read_csv(protein_file)\n",
    "xdata = results_df['Protein Concentration (mg/mL)']\n",
    "ydata = results_df['A595']\n",
    "from scipy import stats\n",
    "slope, intercept, r_value, p_value, std_err = stats.linregress(xdata, ydata)\n",
    "\n",
    "import seaborn as sns \n",
    "sns.regplot(x = xdata, y = ydata)"
   ]
  },
  {
   "cell_type": "code",
   "execution_count": 104,
   "id": "f0f503b6",
   "metadata": {},
   "outputs": [
    {
     "name": "stdout",
     "output_type": "stream",
     "text": [
      "AP_kin.csv                  chymotrypsin_kinetics.csv\r\n",
      "AP_kinetics.csv             chymotrypsin_kinetics.xlsx\r\n",
      "Ground_water.csv            enzyme_kinetics.csv\r\n",
      "MM_data.csv                 enzyme_kinetics.xlsx\r\n",
      "MM_data1.csv                protein_assay.csv\r\n",
      "MM_data_for_NLRpt2.csv      protein_assay2.csv\r\n",
      "\u001b[34mPDB_files\u001b[m\u001b[m/                  protein_samples.csv\r\n",
      "chymo_MM_data.csv           thrombin_with_ligands.csv\r\n"
     ]
    }
   ],
   "source": [
    "ls data"
   ]
  },
  {
   "cell_type": "code",
   "execution_count": 106,
   "id": "a0956fd2",
   "metadata": {},
   "outputs": [
    {
     "name": "stdout",
     "output_type": "stream",
     "text": [
      "data/protein_assay2.csv\n"
     ]
    }
   ],
   "source": [
    "protein_assay2 = os.path.join('data', 'protein_assay2.csv')\n",
    "print(protein_assay2)"
   ]
  },
  {
   "cell_type": "code",
   "execution_count": 107,
   "id": "569715a1",
   "metadata": {},
   "outputs": [],
   "source": [
    "data = pd.read_csv(protein_assay2)"
   ]
  },
  {
   "cell_type": "code",
   "execution_count": 108,
   "id": "6f644cd7",
   "metadata": {},
   "outputs": [
    {
     "data": {
      "text/plain": [
       "<bound method NDFrame.head of    mg/mL   A595\n",
       "0   0.10  0.060\n",
       "1   0.25  0.202\n",
       "2   0.35  0.250\n",
       "3   0.50  0.363\n",
       "4   0.75  0.480\n",
       "5   1.00  0.689>"
      ]
     },
     "execution_count": 108,
     "metadata": {},
     "output_type": "execute_result"
    }
   ],
   "source": [
    "data.head"
   ]
  },
  {
   "cell_type": "code",
   "execution_count": 111,
   "id": "5c90bf0d",
   "metadata": {},
   "outputs": [
    {
     "ename": "TypeError",
     "evalue": "cannot perform reduce with flexible type",
     "output_type": "error",
     "traceback": [
      "\u001b[0;31m---------------------------------------------------------------------------\u001b[0m",
      "\u001b[0;31mTypeError\u001b[0m                                 Traceback (most recent call last)",
      "Input \u001b[0;32mIn [111]\u001b[0m, in \u001b[0;36m<cell line: 8>\u001b[0;34m()\u001b[0m\n\u001b[1;32m      5\u001b[0m plt\u001b[38;5;241m.\u001b[39mfigure(figsize \u001b[38;5;241m=\u001b[39m (\u001b[38;5;241m15\u001b[39m,\u001b[38;5;241m8\u001b[39m))\n\u001b[1;32m      7\u001b[0m \u001b[38;5;28;01mfrom\u001b[39;00m \u001b[38;5;21;01mscipy\u001b[39;00m \u001b[38;5;28;01mimport\u001b[39;00m stats\n\u001b[0;32m----> 8\u001b[0m slope, intercepy, p_value, r_value, std_err \u001b[38;5;241m=\u001b[39m \u001b[43mstats\u001b[49m\u001b[38;5;241;43m.\u001b[39;49m\u001b[43mlinregress\u001b[49m\u001b[43m(\u001b[49m\u001b[43mxdata\u001b[49m\u001b[43m,\u001b[49m\u001b[43m \u001b[49m\u001b[43mydata\u001b[49m\u001b[43m)\u001b[49m\n\u001b[1;32m     11\u001b[0m \u001b[38;5;28;01mimport\u001b[39;00m \u001b[38;5;21;01mseaborn\u001b[39;00m \u001b[38;5;28;01mas\u001b[39;00m \u001b[38;5;21;01msns\u001b[39;00m\n\u001b[1;32m     12\u001b[0m sns\u001b[38;5;241m.\u001b[39mregplot(x \u001b[38;5;241m=\u001b[39m xdata, y \u001b[38;5;241m=\u001b[39m ydata)\n",
      "File \u001b[0;32m~/anaconda3/lib/python3.9/site-packages/scipy/stats/_stats_mstats_common.py:150\u001b[0m, in \u001b[0;36mlinregress\u001b[0;34m(x, y, alternative)\u001b[0m\n\u001b[1;32m    148\u001b[0m n \u001b[38;5;241m=\u001b[39m \u001b[38;5;28mlen\u001b[39m(x)\n\u001b[1;32m    149\u001b[0m xmean \u001b[38;5;241m=\u001b[39m np\u001b[38;5;241m.\u001b[39mmean(x, \u001b[38;5;28;01mNone\u001b[39;00m)\n\u001b[0;32m--> 150\u001b[0m ymean \u001b[38;5;241m=\u001b[39m \u001b[43mnp\u001b[49m\u001b[38;5;241;43m.\u001b[39;49m\u001b[43mmean\u001b[49m\u001b[43m(\u001b[49m\u001b[43my\u001b[49m\u001b[43m,\u001b[49m\u001b[43m \u001b[49m\u001b[38;5;28;43;01mNone\u001b[39;49;00m\u001b[43m)\u001b[49m\n\u001b[1;32m    152\u001b[0m \u001b[38;5;66;03m# Average sums of square differences from the mean\u001b[39;00m\n\u001b[1;32m    153\u001b[0m \u001b[38;5;66;03m#   ssxm = mean( (x-mean(x))^2 )\u001b[39;00m\n\u001b[1;32m    154\u001b[0m \u001b[38;5;66;03m#   ssxym = mean( (x-mean(x)) * (y-mean(y)) )\u001b[39;00m\n\u001b[1;32m    155\u001b[0m ssxm, ssxym, _, ssym \u001b[38;5;241m=\u001b[39m np\u001b[38;5;241m.\u001b[39mcov(x, y, bias\u001b[38;5;241m=\u001b[39m\u001b[38;5;241m1\u001b[39m)\u001b[38;5;241m.\u001b[39mflat\n",
      "File \u001b[0;32m<__array_function__ internals>:5\u001b[0m, in \u001b[0;36mmean\u001b[0;34m(*args, **kwargs)\u001b[0m\n",
      "File \u001b[0;32m~/anaconda3/lib/python3.9/site-packages/numpy/core/fromnumeric.py:3440\u001b[0m, in \u001b[0;36mmean\u001b[0;34m(a, axis, dtype, out, keepdims, where)\u001b[0m\n\u001b[1;32m   3437\u001b[0m     \u001b[38;5;28;01melse\u001b[39;00m:\n\u001b[1;32m   3438\u001b[0m         \u001b[38;5;28;01mreturn\u001b[39;00m mean(axis\u001b[38;5;241m=\u001b[39maxis, dtype\u001b[38;5;241m=\u001b[39mdtype, out\u001b[38;5;241m=\u001b[39mout, \u001b[38;5;241m*\u001b[39m\u001b[38;5;241m*\u001b[39mkwargs)\n\u001b[0;32m-> 3440\u001b[0m \u001b[38;5;28;01mreturn\u001b[39;00m \u001b[43m_methods\u001b[49m\u001b[38;5;241;43m.\u001b[39;49m\u001b[43m_mean\u001b[49m\u001b[43m(\u001b[49m\u001b[43ma\u001b[49m\u001b[43m,\u001b[49m\u001b[43m \u001b[49m\u001b[43maxis\u001b[49m\u001b[38;5;241;43m=\u001b[39;49m\u001b[43maxis\u001b[49m\u001b[43m,\u001b[49m\u001b[43m \u001b[49m\u001b[43mdtype\u001b[49m\u001b[38;5;241;43m=\u001b[39;49m\u001b[43mdtype\u001b[49m\u001b[43m,\u001b[49m\n\u001b[1;32m   3441\u001b[0m \u001b[43m                      \u001b[49m\u001b[43mout\u001b[49m\u001b[38;5;241;43m=\u001b[39;49m\u001b[43mout\u001b[49m\u001b[43m,\u001b[49m\u001b[43m \u001b[49m\u001b[38;5;241;43m*\u001b[39;49m\u001b[38;5;241;43m*\u001b[39;49m\u001b[43mkwargs\u001b[49m\u001b[43m)\u001b[49m\n",
      "File \u001b[0;32m~/anaconda3/lib/python3.9/site-packages/numpy/core/_methods.py:179\u001b[0m, in \u001b[0;36m_mean\u001b[0;34m(a, axis, dtype, out, keepdims, where)\u001b[0m\n\u001b[1;32m    176\u001b[0m         dtype \u001b[38;5;241m=\u001b[39m mu\u001b[38;5;241m.\u001b[39mdtype(\u001b[38;5;124m'\u001b[39m\u001b[38;5;124mf4\u001b[39m\u001b[38;5;124m'\u001b[39m)\n\u001b[1;32m    177\u001b[0m         is_float16_result \u001b[38;5;241m=\u001b[39m \u001b[38;5;28;01mTrue\u001b[39;00m\n\u001b[0;32m--> 179\u001b[0m ret \u001b[38;5;241m=\u001b[39m \u001b[43mumr_sum\u001b[49m\u001b[43m(\u001b[49m\u001b[43marr\u001b[49m\u001b[43m,\u001b[49m\u001b[43m \u001b[49m\u001b[43maxis\u001b[49m\u001b[43m,\u001b[49m\u001b[43m \u001b[49m\u001b[43mdtype\u001b[49m\u001b[43m,\u001b[49m\u001b[43m \u001b[49m\u001b[43mout\u001b[49m\u001b[43m,\u001b[49m\u001b[43m \u001b[49m\u001b[43mkeepdims\u001b[49m\u001b[43m,\u001b[49m\u001b[43m \u001b[49m\u001b[43mwhere\u001b[49m\u001b[38;5;241;43m=\u001b[39;49m\u001b[43mwhere\u001b[49m\u001b[43m)\u001b[49m\n\u001b[1;32m    180\u001b[0m \u001b[38;5;28;01mif\u001b[39;00m \u001b[38;5;28misinstance\u001b[39m(ret, mu\u001b[38;5;241m.\u001b[39mndarray):\n\u001b[1;32m    181\u001b[0m     ret \u001b[38;5;241m=\u001b[39m um\u001b[38;5;241m.\u001b[39mtrue_divide(\n\u001b[1;32m    182\u001b[0m             ret, rcount, out\u001b[38;5;241m=\u001b[39mret, casting\u001b[38;5;241m=\u001b[39m\u001b[38;5;124m'\u001b[39m\u001b[38;5;124munsafe\u001b[39m\u001b[38;5;124m'\u001b[39m, subok\u001b[38;5;241m=\u001b[39m\u001b[38;5;28;01mFalse\u001b[39;00m)\n",
      "\u001b[0;31mTypeError\u001b[0m: cannot perform reduce with flexible type"
     ]
    },
    {
     "data": {
      "text/plain": [
       "<Figure size 1080x576 with 0 Axes>"
      ]
     },
     "metadata": {},
     "output_type": "display_data"
    }
   ],
   "source": [
    "protein_assay2 = os.path.join('data', 'protein_assay2.csv')\n",
    "assay_df = pd.read_csv(protein_assay2)\n",
    "xdata = assay_df['mg/mL']\n",
    "ydata = ['A595']\n",
    "plt.figure(figsize = (15,8))\n",
    "\n",
    "from scipy import stats\n",
    "slope, intercepy, p_value, r_value, std_err = stats.linregress(xdata, ydata)\n",
    "\n",
    "\n",
    "import seaborn as sns\n",
    "sns.regplot(x = xdata, y = ydata)\n",
    "plt.xlabel('Protein Concentration (mg/mL)')\n",
    "plt.ylabel('$A_{595}$')\n",
    "plt.annotate(F'y = {slope:.4f} * x + {intercept:.4f}', xy = (0.2, 0.5))\n",
    "plt.savefig('Bradford_plot2.png', dpi = 600, bbox_inches = 'tight')"
   ]
  },
  {
   "cell_type": "code",
   "execution_count": 112,
   "id": "9fde1eb1",
   "metadata": {},
   "outputs": [
    {
     "data": {
      "image/png": "[encoded data removed]",
      "text/plain": [
       "<Figure size 1080x576 with 1 Axes>"
      ]
     },
     "metadata": {
      "needs_background": "light"
     },
     "output_type": "display_data"
    }
   ],
   "source": [
    "protein_file2 = os.path.join('data', 'protein_assay2.csv')\n",
    "results_df = pd.read_csv(protein_file2)\n",
    "xdata = results_df['mg/mL']\n",
    "ydata = results_df['A595']\n",
    "plt.figure(figsize = (15, 8))\n",
    "\n",
    "from scipy import stats\n",
    "slope, intercept, r_value, p_value, std_err = stats.linregress(xdata, ydata)\n",
    "\n",
    "import seaborn as sns\n",
    "sns.regplot(x = xdata, y = ydata)\n",
    "plt.xlabel('Protein Concentration (mg/mL)')\n",
    "plt.ylabel('$A_{595}$')\n",
    "plt.annotate(F'y = {slope:.4f} * x + {intercept:.4f}', xy = (0.2, 0.5))\n",
    "plt.savefig('Bradford_plot2.png', dpi = 600, bbox_inches = 'tight')"
   ]
  },
  {
   "cell_type": "code",
   "execution_count": 114,
   "id": "0bd7bfd9",
   "metadata": {},
   "outputs": [
    {
     "data": {
      "image/png": "[encoded data removed]",
      "text/plain": [
       "<Figure size 1080x576 with 1 Axes>"
      ]
     },
     "metadata": {
      "needs_background": "light"
     },
     "output_type": "display_data"
    }
   ],
   "source": [
    "protein_file2 = os.path.join('data', 'protein_assay2.csv')\n",
    "results_df = pd.read_csv(protein_file2)\n",
    "xdata = results_df['mg/mL']\n",
    "ydata = results_df['A595']\n",
    "plt.figure(figsize = (15,8))\n",
    "\n",
    "from scipy import stats\n",
    "slope, intercept, r_value, p_value, std_err = stats.linregress(xdata, ydata)\n",
    "\n",
    "import seaborn as sns\n",
    "sns.regplot(x = xdata, y = ydata)\n",
    "plt.xlabel('Protein Concentration (mg/mL)')\n",
    "plt.ylabel('$A_{595}$')\n",
    "plt.annotate(F'y = {slope:.4f} * x + {intercept:.4f}', xy = (0.2, 0.5))\n",
    "plt.savefig('Bradford_plot2.png', dpi = 600, bbox_inches = 'tight')"
   ]
  },
  {
   "cell_type": "code",
   "execution_count": 115,
   "id": "a7dae1fd",
   "metadata": {},
   "outputs": [],
   "source": [
    "# Import needed libraries\n",
    "import os # to create filehand for csv file\n",
    "import pandas as pd # for importing the .csv file and creating a dataframe\n",
    "from scipy import stats # for performing non-linear regression"
   ]
  },
  {
   "cell_type": "code",
   "execution_count": 116,
   "id": "fb28b5f8",
   "metadata": {},
   "outputs": [
    {
     "name": "stdout",
     "output_type": "stream",
     "text": [
      "data/AP_kin.csv\n"
     ]
    }
   ],
   "source": [
    "# Create the filehandle for the csv file containing data\n",
    "datafile = os.path.join('data', 'AP_kin.csv') # filehandle created\n",
    "print(datafile) # filehandle confirmed"
   ]
  },
  {
   "cell_type": "code",
   "execution_count": 117,
   "id": "641fdd7a",
   "metadata": {},
   "outputs": [
    {
     "data": {
      "text/html": [
       "<div>\n",
       "<style scoped>\n",
       "    .dataframe tbody tr th:only-of-type {\n",
       "        vertical-align: middle;\n",
       "    }\n",
       "\n",
       "    .dataframe tbody tr th {\n",
       "        vertical-align: top;\n",
       "    }\n",
       "\n",
       "    .dataframe thead th {\n",
       "        text-align: right;\n",
       "    }\n",
       "</style>\n",
       "<table border=\"1\" class=\"dataframe\">\n",
       "  <thead>\n",
       "    <tr style=\"text-align: right;\">\n",
       "      <th></th>\n",
       "      <th>Time (min)</th>\n",
       "      <th>20.0</th>\n",
       "      <th>10.0</th>\n",
       "      <th>7.0</th>\n",
       "      <th>4.0</th>\n",
       "      <th>2.0</th>\n",
       "      <th>1.0</th>\n",
       "      <th>0.7</th>\n",
       "      <th>0.4</th>\n",
       "      <th>0.2</th>\n",
       "      <th>0.1</th>\n",
       "      <th>0.05</th>\n",
       "    </tr>\n",
       "  </thead>\n",
       "  <tbody>\n",
       "    <tr>\n",
       "      <th>0</th>\n",
       "      <td>0.25</td>\n",
       "      <td>0.127118</td>\n",
       "      <td>0.121434</td>\n",
       "      <td>0.123059</td>\n",
       "      <td>0.103351</td>\n",
       "      <td>0.088046</td>\n",
       "      <td>0.062613</td>\n",
       "      <td>0.051681</td>\n",
       "      <td>0.034661</td>\n",
       "      <td>0.019578</td>\n",
       "      <td>0.020353</td>\n",
       "      <td>0.005635</td>\n",
       "    </tr>\n",
       "    <tr>\n",
       "      <th>1</th>\n",
       "      <td>0.50</td>\n",
       "      <td>0.269802</td>\n",
       "      <td>0.257587</td>\n",
       "      <td>0.239086</td>\n",
       "      <td>0.210920</td>\n",
       "      <td>0.177801</td>\n",
       "      <td>0.122747</td>\n",
       "      <td>0.104366</td>\n",
       "      <td>0.068643</td>\n",
       "      <td>0.040318</td>\n",
       "      <td>0.040318</td>\n",
       "      <td>0.011162</td>\n",
       "    </tr>\n",
       "    <tr>\n",
       "      <th>2</th>\n",
       "      <td>0.75</td>\n",
       "      <td>0.373572</td>\n",
       "      <td>0.364301</td>\n",
       "      <td>0.369177</td>\n",
       "      <td>0.313216</td>\n",
       "      <td>0.246186</td>\n",
       "      <td>0.193419</td>\n",
       "      <td>0.147517</td>\n",
       "      <td>0.099906</td>\n",
       "      <td>0.059896</td>\n",
       "      <td>0.056988</td>\n",
       "      <td>0.016580</td>\n",
       "    </tr>\n",
       "    <tr>\n",
       "      <th>3</th>\n",
       "      <td>1.00</td>\n",
       "      <td>0.518850</td>\n",
       "      <td>0.500455</td>\n",
       "      <td>0.468796</td>\n",
       "      <td>0.400747</td>\n",
       "      <td>0.352183</td>\n",
       "      <td>0.257892</td>\n",
       "      <td>0.194682</td>\n",
       "      <td>0.134567</td>\n",
       "      <td>0.073658</td>\n",
       "      <td>0.075985</td>\n",
       "      <td>0.022757</td>\n",
       "    </tr>\n",
       "    <tr>\n",
       "      <th>4</th>\n",
       "      <td>1.25</td>\n",
       "      <td>0.616135</td>\n",
       "      <td>0.613302</td>\n",
       "      <td>0.556695</td>\n",
       "      <td>0.500934</td>\n",
       "      <td>0.444503</td>\n",
       "      <td>0.309966</td>\n",
       "      <td>0.258405</td>\n",
       "      <td>0.173306</td>\n",
       "      <td>0.099827</td>\n",
       "      <td>0.100796</td>\n",
       "      <td>0.027092</td>\n",
       "    </tr>\n",
       "  </tbody>\n",
       "</table>\n",
       "</div>"
      ],
      "text/plain": [
       "   Time (min)      20.0      10.0       7.0       4.0       2.0       1.0  \\\n",
       "0        0.25  0.127118  0.121434  0.123059  0.103351  0.088046  0.062613   \n",
       "1        0.50  0.269802  0.257587  0.239086  0.210920  0.177801  0.122747   \n",
       "2        0.75  0.373572  0.364301  0.369177  0.313216  0.246186  0.193419   \n",
       "3        1.00  0.518850  0.500455  0.468796  0.400747  0.352183  0.257892   \n",
       "4        1.25  0.616135  0.613302  0.556695  0.500934  0.444503  0.309966   \n",
       "\n",
       "        0.7       0.4       0.2       0.1      0.05  \n",
       "0  0.051681  0.034661  0.019578  0.020353  0.005635  \n",
       "1  0.104366  0.068643  0.040318  0.040318  0.011162  \n",
       "2  0.147517  0.099906  0.059896  0.056988  0.016580  \n",
       "3  0.194682  0.134567  0.073658  0.075985  0.022757  \n",
       "4  0.258405  0.173306  0.099827  0.100796  0.027092  "
      ]
     },
     "execution_count": 117,
     "metadata": {},
     "output_type": "execute_result"
    }
   ],
   "source": [
    "# creating the pandas dataframe using read_csv\n",
    "AP_kin_df = pd.read_csv(datafile)\n",
    "AP_kin_df.head()"
   ]
  },
  {
   "cell_type": "code",
   "execution_count": 120,
   "id": "b29322f5",
   "metadata": {},
   "outputs": [
    {
     "data": {
      "text/html": [
       "<div>\n",
       "<style scoped>\n",
       "    .dataframe tbody tr th:only-of-type {\n",
       "        vertical-align: middle;\n",
       "    }\n",
       "\n",
       "    .dataframe tbody tr th {\n",
       "        vertical-align: top;\n",
       "    }\n",
       "\n",
       "    .dataframe thead th {\n",
       "        text-align: right;\n",
       "    }\n",
       "</style>\n",
       "<table border=\"1\" class=\"dataframe\">\n",
       "  <thead>\n",
       "    <tr style=\"text-align: right;\">\n",
       "      <th></th>\n",
       "      <th>20.0</th>\n",
       "      <th>10.0</th>\n",
       "      <th>7.0</th>\n",
       "      <th>4.0</th>\n",
       "      <th>2.0</th>\n",
       "      <th>1.0</th>\n",
       "      <th>0.7</th>\n",
       "      <th>0.4</th>\n",
       "      <th>0.2</th>\n",
       "      <th>0.1</th>\n",
       "      <th>0.05</th>\n",
       "    </tr>\n",
       "    <tr>\n",
       "      <th>Time (min)</th>\n",
       "      <th></th>\n",
       "      <th></th>\n",
       "      <th></th>\n",
       "      <th></th>\n",
       "      <th></th>\n",
       "      <th></th>\n",
       "      <th></th>\n",
       "      <th></th>\n",
       "      <th></th>\n",
       "      <th></th>\n",
       "      <th></th>\n",
       "    </tr>\n",
       "  </thead>\n",
       "  <tbody>\n",
       "    <tr>\n",
       "      <th>0.25</th>\n",
       "      <td>0.127118</td>\n",
       "      <td>0.121434</td>\n",
       "      <td>0.123059</td>\n",
       "      <td>0.103351</td>\n",
       "      <td>0.088046</td>\n",
       "      <td>0.062613</td>\n",
       "      <td>0.051681</td>\n",
       "      <td>0.034661</td>\n",
       "      <td>0.019578</td>\n",
       "      <td>0.020353</td>\n",
       "      <td>0.005635</td>\n",
       "    </tr>\n",
       "    <tr>\n",
       "      <th>0.50</th>\n",
       "      <td>0.269802</td>\n",
       "      <td>0.257587</td>\n",
       "      <td>0.239086</td>\n",
       "      <td>0.210920</td>\n",
       "      <td>0.177801</td>\n",
       "      <td>0.122747</td>\n",
       "      <td>0.104366</td>\n",
       "      <td>0.068643</td>\n",
       "      <td>0.040318</td>\n",
       "      <td>0.040318</td>\n",
       "      <td>0.011162</td>\n",
       "    </tr>\n",
       "    <tr>\n",
       "      <th>0.75</th>\n",
       "      <td>0.373572</td>\n",
       "      <td>0.364301</td>\n",
       "      <td>0.369177</td>\n",
       "      <td>0.313216</td>\n",
       "      <td>0.246186</td>\n",
       "      <td>0.193419</td>\n",
       "      <td>0.147517</td>\n",
       "      <td>0.099906</td>\n",
       "      <td>0.059896</td>\n",
       "      <td>0.056988</td>\n",
       "      <td>0.016580</td>\n",
       "    </tr>\n",
       "    <tr>\n",
       "      <th>1.00</th>\n",
       "      <td>0.518850</td>\n",
       "      <td>0.500455</td>\n",
       "      <td>0.468796</td>\n",
       "      <td>0.400747</td>\n",
       "      <td>0.352183</td>\n",
       "      <td>0.257892</td>\n",
       "      <td>0.194682</td>\n",
       "      <td>0.134567</td>\n",
       "      <td>0.073658</td>\n",
       "      <td>0.075985</td>\n",
       "      <td>0.022757</td>\n",
       "    </tr>\n",
       "    <tr>\n",
       "      <th>1.25</th>\n",
       "      <td>0.616135</td>\n",
       "      <td>0.613302</td>\n",
       "      <td>0.556695</td>\n",
       "      <td>0.500934</td>\n",
       "      <td>0.444503</td>\n",
       "      <td>0.309966</td>\n",
       "      <td>0.258405</td>\n",
       "      <td>0.173306</td>\n",
       "      <td>0.099827</td>\n",
       "      <td>0.100796</td>\n",
       "      <td>0.027092</td>\n",
       "    </tr>\n",
       "  </tbody>\n",
       "</table>\n",
       "</div>"
      ],
      "text/plain": [
       "                20.0      10.0       7.0       4.0       2.0       1.0  \\\n",
       "Time (min)                                                               \n",
       "0.25        0.127118  0.121434  0.123059  0.103351  0.088046  0.062613   \n",
       "0.50        0.269802  0.257587  0.239086  0.210920  0.177801  0.122747   \n",
       "0.75        0.373572  0.364301  0.369177  0.313216  0.246186  0.193419   \n",
       "1.00        0.518850  0.500455  0.468796  0.400747  0.352183  0.257892   \n",
       "1.25        0.616135  0.613302  0.556695  0.500934  0.444503  0.309966   \n",
       "\n",
       "                 0.7       0.4       0.2       0.1      0.05  \n",
       "Time (min)                                                    \n",
       "0.25        0.051681  0.034661  0.019578  0.020353  0.005635  \n",
       "0.50        0.104366  0.068643  0.040318  0.040318  0.011162  \n",
       "0.75        0.147517  0.099906  0.059896  0.056988  0.016580  \n",
       "1.00        0.194682  0.134567  0.073658  0.075985  0.022757  \n",
       "1.25        0.258405  0.173306  0.099827  0.100796  0.027092  "
      ]
     },
     "execution_count": 120,
     "metadata": {},
     "output_type": "execute_result"
    }
   ],
   "source": [
    "AP_kin_df.set_index('Time (min)', inplace=True)\n",
    "AP_kin_df.head()"
   ]
  },
  {
   "cell_type": "code",
   "execution_count": 121,
   "id": "29360222",
   "metadata": {},
   "outputs": [
    {
     "data": {
      "text/plain": [
       "dtype('float64')"
      ]
     },
     "execution_count": 121,
     "metadata": {},
     "output_type": "execute_result"
    }
   ],
   "source": [
    "AP_kin_df.index.dtype"
   ]
  },
  {
   "cell_type": "code",
   "execution_count": 125,
   "id": "af8e428e",
   "metadata": {},
   "outputs": [],
   "source": [
    "import pandas as pd"
   ]
  },
  {
   "cell_type": "code",
   "execution_count": 128,
   "id": "43f8af6c",
   "metadata": {},
   "outputs": [
    {
     "ename": "NameError",
     "evalue": "name 'DataFrame' is not defined",
     "output_type": "error",
     "traceback": [
      "\u001b[0;31m---------------------------------------------------------------------------\u001b[0m",
      "\u001b[0;31mNameError\u001b[0m                                 Traceback (most recent call last)",
      "Input \u001b[0;32mIn [128]\u001b[0m, in \u001b[0;36m<cell line: 1>\u001b[0;34m()\u001b[0m\n\u001b[0;32m----> 1\u001b[0m \u001b[43mDataFrame\u001b[49m\u001b[38;5;241m.\u001b[39mplot()\n",
      "\u001b[0;31mNameError\u001b[0m: name 'DataFrame' is not defined"
     ]
    }
   ],
   "source": [
    "dataframe.plot()\n",
    "# unsure about this line, gives an error and can make the plot without it"
   ]
  },
  {
   "cell_type": "code",
   "execution_count": 127,
   "id": "215bcf0e",
   "metadata": {},
   "outputs": [
    {
     "data": {
      "text/plain": [
       "<AxesSubplot:xlabel='Time (min)'>"
      ]
     },
     "execution_count": 127,
     "metadata": {},
     "output_type": "execute_result"
    },
    {
     "data": {
      "image/png": "[encoded data removed]",
      "text/plain": [
       "<Figure size 432x288 with 1 Axes>"
      ]
     },
     "metadata": {
      "needs_background": "light"
     },
     "output_type": "display_data"
    }
   ],
   "source": [
    "# Inspect the data using the plot command that is available with the dataframe\n",
    "# We use the plot function that is built into pandas for this simple display\n",
    "AP_kin_df.plot(marker = 'o')"
   ]
  },
  {
   "cell_type": "code",
   "execution_count": 129,
   "id": "258f0cd2",
   "metadata": {},
   "outputs": [],
   "source": [
    "# Create a second dataframe with the substrate concentration as the first series\n",
    "# Note the syntax for this pandas function - the D and F are captialized.\n",
    "MM_df = pd.DataFrame()\n",
    "MM_df['pNPP (mM)'] = AP_kin_df.columns"
   ]
  },
  {
   "cell_type": "code",
   "execution_count": 130,
   "id": "a07a8dca",
   "metadata": {},
   "outputs": [],
   "source": [
    "slope, _, _, _, _ = stats.linregress(xdata, ydata)"
   ]
  },
  {
   "cell_type": "code",
   "execution_count": 132,
   "id": "aac24015",
   "metadata": {},
   "outputs": [
    {
     "data": {
      "text/plain": [
       "[0.5140907641142858,\n",
       " 0.5031401632390977,\n",
       " 0.4704346427639096,\n",
       " 0.4170212341052633,\n",
       " 0.34244478125714295,\n",
       " 0.24625953559097755,\n",
       " 0.20284295232781954,\n",
       " 0.1364430576421053,\n",
       " 0.07644213958496243,\n",
       " 0.07806979615939849,\n",
       " 0.022319351245112782]"
      ]
     },
     "execution_count": 132,
     "metadata": {},
     "output_type": "execute_result"
    }
   ],
   "source": [
    "# Create an empty list to hold all the slopes\n",
    "slopes = []\n",
    "\n",
    "# Calculate the slopes from each column in the AP_kin_df dataframe\n",
    "\n",
    "for column in AP_kin_df.columns:\n",
    "    slope, _, _, _, _ = stats.linregress(AP_kin_df.index, AP_kin_df[column])\n",
    "    slopes.append(slope)\n",
    "    \n",
    "# Did we get a list of 11 slopes for each in the series?\n",
    "slopes"
   ]
  },
  {
   "cell_type": "code",
   "execution_count": 133,
   "id": "3db3c65a",
   "metadata": {},
   "outputs": [
    {
     "data": {
      "text/html": [
       "<div>\n",
       "<style scoped>\n",
       "    .dataframe tbody tr th:only-of-type {\n",
       "        vertical-align: middle;\n",
       "    }\n",
       "\n",
       "    .dataframe tbody tr th {\n",
       "        vertical-align: top;\n",
       "    }\n",
       "\n",
       "    .dataframe thead th {\n",
       "        text-align: right;\n",
       "    }\n",
       "</style>\n",
       "<table border=\"1\" class=\"dataframe\">\n",
       "  <thead>\n",
       "    <tr style=\"text-align: right;\">\n",
       "      <th></th>\n",
       "      <th>slopes</th>\n",
       "    </tr>\n",
       "    <tr>\n",
       "      <th>pNPP (mM)</th>\n",
       "      <th></th>\n",
       "    </tr>\n",
       "  </thead>\n",
       "  <tbody>\n",
       "    <tr>\n",
       "      <th>20.0</th>\n",
       "      <td>0.514091</td>\n",
       "    </tr>\n",
       "    <tr>\n",
       "      <th>10.0</th>\n",
       "      <td>0.503140</td>\n",
       "    </tr>\n",
       "    <tr>\n",
       "      <th>7.0</th>\n",
       "      <td>0.470435</td>\n",
       "    </tr>\n",
       "    <tr>\n",
       "      <th>4.0</th>\n",
       "      <td>0.417021</td>\n",
       "    </tr>\n",
       "    <tr>\n",
       "      <th>2.0</th>\n",
       "      <td>0.342445</td>\n",
       "    </tr>\n",
       "  </tbody>\n",
       "</table>\n",
       "</div>"
      ],
      "text/plain": [
       "             slopes\n",
       "pNPP (mM)          \n",
       "20.0       0.514091\n",
       "10.0       0.503140\n",
       "7.0        0.470435\n",
       "4.0        0.417021\n",
       "2.0        0.342445"
      ]
     },
     "execution_count": 133,
     "metadata": {},
     "output_type": "execute_result"
    }
   ],
   "source": [
    "# Populate the new df with the slopes\n",
    "\n",
    "MM_df['slopes'] = slopes\n",
    "\n",
    "# Check out the df\n",
    "MM_df\n",
    "\n",
    "# Make 'pNPP (mM)' the index\n",
    "MM_df.set_index('pNPP (mM)', inplace=True)\n",
    "MM_df.head()"
   ]
  },
  {
   "cell_type": "code",
   "execution_count": 134,
   "id": "713d034d",
   "metadata": {},
   "outputs": [
    {
     "data": {
      "text/html": [
       "<div>\n",
       "<style scoped>\n",
       "    .dataframe tbody tr th:only-of-type {\n",
       "        vertical-align: middle;\n",
       "    }\n",
       "\n",
       "    .dataframe tbody tr th {\n",
       "        vertical-align: top;\n",
       "    }\n",
       "\n",
       "    .dataframe thead th {\n",
       "        text-align: right;\n",
       "    }\n",
       "</style>\n",
       "<table border=\"1\" class=\"dataframe\">\n",
       "  <thead>\n",
       "    <tr style=\"text-align: right;\">\n",
       "      <th></th>\n",
       "      <th>slopes</th>\n",
       "      <th>initial velocities</th>\n",
       "    </tr>\n",
       "    <tr>\n",
       "      <th>pNPP (mM)</th>\n",
       "      <th></th>\n",
       "      <th></th>\n",
       "    </tr>\n",
       "  </thead>\n",
       "  <tbody>\n",
       "    <tr>\n",
       "      <th>20.0</th>\n",
       "      <td>0.514091</td>\n",
       "      <td>34.272718</td>\n",
       "    </tr>\n",
       "    <tr>\n",
       "      <th>10.0</th>\n",
       "      <td>0.503140</td>\n",
       "      <td>33.542678</td>\n",
       "    </tr>\n",
       "    <tr>\n",
       "      <th>7.0</th>\n",
       "      <td>0.470435</td>\n",
       "      <td>31.362310</td>\n",
       "    </tr>\n",
       "    <tr>\n",
       "      <th>4.0</th>\n",
       "      <td>0.417021</td>\n",
       "      <td>27.801416</td>\n",
       "    </tr>\n",
       "    <tr>\n",
       "      <th>2.0</th>\n",
       "      <td>0.342445</td>\n",
       "      <td>22.829652</td>\n",
       "    </tr>\n",
       "    <tr>\n",
       "      <th>1.0</th>\n",
       "      <td>0.246260</td>\n",
       "      <td>16.417302</td>\n",
       "    </tr>\n",
       "    <tr>\n",
       "      <th>0.7</th>\n",
       "      <td>0.202843</td>\n",
       "      <td>13.522863</td>\n",
       "    </tr>\n",
       "    <tr>\n",
       "      <th>0.4</th>\n",
       "      <td>0.136443</td>\n",
       "      <td>9.096204</td>\n",
       "    </tr>\n",
       "    <tr>\n",
       "      <th>0.2</th>\n",
       "      <td>0.076442</td>\n",
       "      <td>5.096143</td>\n",
       "    </tr>\n",
       "    <tr>\n",
       "      <th>0.1</th>\n",
       "      <td>0.078070</td>\n",
       "      <td>5.204653</td>\n",
       "    </tr>\n",
       "    <tr>\n",
       "      <th>0.05</th>\n",
       "      <td>0.022319</td>\n",
       "      <td>1.487957</td>\n",
       "    </tr>\n",
       "  </tbody>\n",
       "</table>\n",
       "</div>"
      ],
      "text/plain": [
       "             slopes  initial velocities\n",
       "pNPP (mM)                              \n",
       "20.0       0.514091           34.272718\n",
       "10.0       0.503140           33.542678\n",
       "7.0        0.470435           31.362310\n",
       "4.0        0.417021           27.801416\n",
       "2.0        0.342445           22.829652\n",
       "1.0        0.246260           16.417302\n",
       "0.7        0.202843           13.522863\n",
       "0.4        0.136443            9.096204\n",
       "0.2        0.076442            5.096143\n",
       "0.1        0.078070            5.204653\n",
       "0.05       0.022319            1.487957"
      ]
     },
     "execution_count": 134,
     "metadata": {},
     "output_type": "execute_result"
    }
   ],
   "source": [
    "# Calculate the intial velocities and place those in new column of the dataframe\n",
    "MM_df['initial velocities'] = MM_df['slopes'] / 0.015\n",
    "MM_df"
   ]
  },
  {
   "cell_type": "code",
   "execution_count": 136,
   "id": "fde1e4e2",
   "metadata": {},
   "outputs": [],
   "source": [
    "outputfile = os.path.join('data', 'MM_data.csv')\n",
    "MM_df.to_csv(outputfile)"
   ]
  },
  {
   "cell_type": "code",
   "execution_count": 137,
   "id": "0797a520",
   "metadata": {},
   "outputs": [],
   "source": [
    "import os\n",
    "import pandas as pd\n",
    "from scipy import stats"
   ]
  },
  {
   "cell_type": "code",
   "execution_count": 138,
   "id": "4d8345ae",
   "metadata": {},
   "outputs": [
    {
     "name": "stdout",
     "output_type": "stream",
     "text": [
      "data/chymotrypsin_kinetics.csv\n"
     ]
    }
   ],
   "source": [
    "datafile = os.path.join('data', 'chymotrypsin_kinetics.csv')\n",
    "print(datafile)"
   ]
  },
  {
   "cell_type": "code",
   "execution_count": 140,
   "id": "5e937566",
   "metadata": {},
   "outputs": [
    {
     "data": {
      "text/html": [
       "<div>\n",
       "<style scoped>\n",
       "    .dataframe tbody tr th:only-of-type {\n",
       "        vertical-align: middle;\n",
       "    }\n",
       "\n",
       "    .dataframe tbody tr th {\n",
       "        vertical-align: top;\n",
       "    }\n",
       "\n",
       "    .dataframe thead th {\n",
       "        text-align: right;\n",
       "    }\n",
       "</style>\n",
       "<table border=\"1\" class=\"dataframe\">\n",
       "  <thead>\n",
       "    <tr style=\"text-align: right;\">\n",
       "      <th></th>\n",
       "      <th>Time (sec)</th>\n",
       "      <th>1</th>\n",
       "      <th>0.5</th>\n",
       "      <th>0.25</th>\n",
       "      <th>0.125</th>\n",
       "      <th>0.0625</th>\n",
       "      <th>0.03125</th>\n",
       "      <th>0.015625</th>\n",
       "      <th>0.0078125</th>\n",
       "      <th>0.00390625</th>\n",
       "      <th>0.00195313</th>\n",
       "    </tr>\n",
       "  </thead>\n",
       "  <tbody>\n",
       "    <tr>\n",
       "      <th>0</th>\n",
       "      <td>0</td>\n",
       "      <td>0.584</td>\n",
       "      <td>0.380</td>\n",
       "      <td>0.244</td>\n",
       "      <td>0.181</td>\n",
       "      <td>0.136</td>\n",
       "      <td>0.115</td>\n",
       "      <td>0.001</td>\n",
       "      <td>0.051</td>\n",
       "      <td>0.006</td>\n",
       "      <td>-0.029</td>\n",
       "    </tr>\n",
       "    <tr>\n",
       "      <th>1</th>\n",
       "      <td>10</td>\n",
       "      <td>0.589</td>\n",
       "      <td>0.385</td>\n",
       "      <td>0.249</td>\n",
       "      <td>0.185</td>\n",
       "      <td>0.141</td>\n",
       "      <td>0.121</td>\n",
       "      <td>0.005</td>\n",
       "      <td>0.054</td>\n",
       "      <td>0.008</td>\n",
       "      <td>-0.028</td>\n",
       "    </tr>\n",
       "    <tr>\n",
       "      <th>2</th>\n",
       "      <td>20</td>\n",
       "      <td>0.595</td>\n",
       "      <td>0.390</td>\n",
       "      <td>0.254</td>\n",
       "      <td>0.190</td>\n",
       "      <td>0.146</td>\n",
       "      <td>0.125</td>\n",
       "      <td>0.009</td>\n",
       "      <td>0.057</td>\n",
       "      <td>0.010</td>\n",
       "      <td>-0.027</td>\n",
       "    </tr>\n",
       "    <tr>\n",
       "      <th>3</th>\n",
       "      <td>30</td>\n",
       "      <td>0.600</td>\n",
       "      <td>0.400</td>\n",
       "      <td>0.259</td>\n",
       "      <td>0.194</td>\n",
       "      <td>0.151</td>\n",
       "      <td>0.130</td>\n",
       "      <td>0.013</td>\n",
       "      <td>0.059</td>\n",
       "      <td>0.011</td>\n",
       "      <td>-0.026</td>\n",
       "    </tr>\n",
       "    <tr>\n",
       "      <th>4</th>\n",
       "      <td>40</td>\n",
       "      <td>0.606</td>\n",
       "      <td>0.401</td>\n",
       "      <td>0.264</td>\n",
       "      <td>0.199</td>\n",
       "      <td>0.156</td>\n",
       "      <td>0.135</td>\n",
       "      <td>0.016</td>\n",
       "      <td>0.061</td>\n",
       "      <td>0.012</td>\n",
       "      <td>-0.025</td>\n",
       "    </tr>\n",
       "  </tbody>\n",
       "</table>\n",
       "</div>"
      ],
      "text/plain": [
       "   Time (sec)      1    0.5   0.25  0.125  0.0625  0.03125  0.015625  \\\n",
       "0           0  0.584  0.380  0.244  0.181   0.136    0.115     0.001   \n",
       "1          10  0.589  0.385  0.249  0.185   0.141    0.121     0.005   \n",
       "2          20  0.595  0.390  0.254  0.190   0.146    0.125     0.009   \n",
       "3          30  0.600  0.400  0.259  0.194   0.151    0.130     0.013   \n",
       "4          40  0.606  0.401  0.264  0.199   0.156    0.135     0.016   \n",
       "\n",
       "   0.0078125  0.00390625  0.00195313  \n",
       "0      0.051       0.006      -0.029  \n",
       "1      0.054       0.008      -0.028  \n",
       "2      0.057       0.010      -0.027  \n",
       "3      0.059       0.011      -0.026  \n",
       "4      0.061       0.012      -0.025  "
      ]
     },
     "execution_count": 140,
     "metadata": {},
     "output_type": "execute_result"
    }
   ],
   "source": [
    "chym_df = pd.read_csv(datafile)\n",
    "chym_df.head()"
   ]
  },
  {
   "cell_type": "code",
   "execution_count": 141,
   "id": "1693628e",
   "metadata": {},
   "outputs": [
    {
     "data": {
      "text/html": [
       "<div>\n",
       "<style scoped>\n",
       "    .dataframe tbody tr th:only-of-type {\n",
       "        vertical-align: middle;\n",
       "    }\n",
       "\n",
       "    .dataframe tbody tr th {\n",
       "        vertical-align: top;\n",
       "    }\n",
       "\n",
       "    .dataframe thead th {\n",
       "        text-align: right;\n",
       "    }\n",
       "</style>\n",
       "<table border=\"1\" class=\"dataframe\">\n",
       "  <thead>\n",
       "    <tr style=\"text-align: right;\">\n",
       "      <th></th>\n",
       "      <th>1</th>\n",
       "      <th>0.5</th>\n",
       "      <th>0.25</th>\n",
       "      <th>0.125</th>\n",
       "      <th>0.0625</th>\n",
       "      <th>0.03125</th>\n",
       "      <th>0.015625</th>\n",
       "      <th>0.0078125</th>\n",
       "      <th>0.00390625</th>\n",
       "      <th>0.00195313</th>\n",
       "    </tr>\n",
       "    <tr>\n",
       "      <th>Time (sec)</th>\n",
       "      <th></th>\n",
       "      <th></th>\n",
       "      <th></th>\n",
       "      <th></th>\n",
       "      <th></th>\n",
       "      <th></th>\n",
       "      <th></th>\n",
       "      <th></th>\n",
       "      <th></th>\n",
       "      <th></th>\n",
       "    </tr>\n",
       "  </thead>\n",
       "  <tbody>\n",
       "    <tr>\n",
       "      <th>0</th>\n",
       "      <td>0.584</td>\n",
       "      <td>0.380</td>\n",
       "      <td>0.244</td>\n",
       "      <td>0.181</td>\n",
       "      <td>0.136</td>\n",
       "      <td>0.115</td>\n",
       "      <td>0.001</td>\n",
       "      <td>0.051</td>\n",
       "      <td>0.006</td>\n",
       "      <td>-0.029</td>\n",
       "    </tr>\n",
       "    <tr>\n",
       "      <th>10</th>\n",
       "      <td>0.589</td>\n",
       "      <td>0.385</td>\n",
       "      <td>0.249</td>\n",
       "      <td>0.185</td>\n",
       "      <td>0.141</td>\n",
       "      <td>0.121</td>\n",
       "      <td>0.005</td>\n",
       "      <td>0.054</td>\n",
       "      <td>0.008</td>\n",
       "      <td>-0.028</td>\n",
       "    </tr>\n",
       "    <tr>\n",
       "      <th>20</th>\n",
       "      <td>0.595</td>\n",
       "      <td>0.390</td>\n",
       "      <td>0.254</td>\n",
       "      <td>0.190</td>\n",
       "      <td>0.146</td>\n",
       "      <td>0.125</td>\n",
       "      <td>0.009</td>\n",
       "      <td>0.057</td>\n",
       "      <td>0.010</td>\n",
       "      <td>-0.027</td>\n",
       "    </tr>\n",
       "    <tr>\n",
       "      <th>30</th>\n",
       "      <td>0.600</td>\n",
       "      <td>0.400</td>\n",
       "      <td>0.259</td>\n",
       "      <td>0.194</td>\n",
       "      <td>0.151</td>\n",
       "      <td>0.130</td>\n",
       "      <td>0.013</td>\n",
       "      <td>0.059</td>\n",
       "      <td>0.011</td>\n",
       "      <td>-0.026</td>\n",
       "    </tr>\n",
       "    <tr>\n",
       "      <th>40</th>\n",
       "      <td>0.606</td>\n",
       "      <td>0.401</td>\n",
       "      <td>0.264</td>\n",
       "      <td>0.199</td>\n",
       "      <td>0.156</td>\n",
       "      <td>0.135</td>\n",
       "      <td>0.016</td>\n",
       "      <td>0.061</td>\n",
       "      <td>0.012</td>\n",
       "      <td>-0.025</td>\n",
       "    </tr>\n",
       "  </tbody>\n",
       "</table>\n",
       "</div>"
      ],
      "text/plain": [
       "                1    0.5   0.25  0.125  0.0625  0.03125  0.015625  0.0078125  \\\n",
       "Time (sec)                                                                     \n",
       "0           0.584  0.380  0.244  0.181   0.136    0.115     0.001      0.051   \n",
       "10          0.589  0.385  0.249  0.185   0.141    0.121     0.005      0.054   \n",
       "20          0.595  0.390  0.254  0.190   0.146    0.125     0.009      0.057   \n",
       "30          0.600  0.400  0.259  0.194   0.151    0.130     0.013      0.059   \n",
       "40          0.606  0.401  0.264  0.199   0.156    0.135     0.016      0.061   \n",
       "\n",
       "            0.00390625  0.00195313  \n",
       "Time (sec)                          \n",
       "0                0.006      -0.029  \n",
       "10               0.008      -0.028  \n",
       "20               0.010      -0.027  \n",
       "30               0.011      -0.026  \n",
       "40               0.012      -0.025  "
      ]
     },
     "execution_count": 141,
     "metadata": {},
     "output_type": "execute_result"
    }
   ],
   "source": [
    "chym_df.set_index('Time (sec)', inplace=True)\n",
    "chym_df.head()"
   ]
  },
  {
   "cell_type": "code",
   "execution_count": 145,
   "id": "976eea71",
   "metadata": {},
   "outputs": [
    {
     "data": {
      "text/plain": [
       "dtype('int64')"
      ]
     },
     "execution_count": 145,
     "metadata": {},
     "output_type": "execute_result"
    }
   ],
   "source": [
    "chym_df.index.dtype"
   ]
  },
  {
   "cell_type": "code",
   "execution_count": 146,
   "id": "3c4c8e46",
   "metadata": {},
   "outputs": [
    {
     "data": {
      "text/plain": [
       "<AxesSubplot:xlabel='Time (sec)'>"
      ]
     },
     "execution_count": 146,
     "metadata": {},
     "output_type": "execute_result"
    },
    {
     "data": {
      "image/png": "[encoded data removed]",
      "text/plain": [
       "<Figure size 432x288 with 1 Axes>"
      ]
     },
     "metadata": {
      "needs_background": "light"
     },
     "output_type": "display_data"
    }
   ],
   "source": [
    "chym_df.plot(marker = 'o')"
   ]
  },
  {
   "cell_type": "code",
   "execution_count": 151,
   "id": "d85233cf",
   "metadata": {},
   "outputs": [
    {
     "data": {
      "text/html": [
       "<div>\n",
       "<style scoped>\n",
       "    .dataframe tbody tr th:only-of-type {\n",
       "        vertical-align: middle;\n",
       "    }\n",
       "\n",
       "    .dataframe tbody tr th {\n",
       "        vertical-align: top;\n",
       "    }\n",
       "\n",
       "    .dataframe thead th {\n",
       "        text-align: right;\n",
       "    }\n",
       "</style>\n",
       "<table border=\"1\" class=\"dataframe\">\n",
       "  <thead>\n",
       "    <tr style=\"text-align: right;\">\n",
       "      <th></th>\n",
       "      <th>pNPA (mM)</th>\n",
       "    </tr>\n",
       "  </thead>\n",
       "  <tbody>\n",
       "    <tr>\n",
       "      <th>0</th>\n",
       "      <td>1</td>\n",
       "    </tr>\n",
       "    <tr>\n",
       "      <th>1</th>\n",
       "      <td>0.5</td>\n",
       "    </tr>\n",
       "    <tr>\n",
       "      <th>2</th>\n",
       "      <td>0.25</td>\n",
       "    </tr>\n",
       "    <tr>\n",
       "      <th>3</th>\n",
       "      <td>0.125</td>\n",
       "    </tr>\n",
       "    <tr>\n",
       "      <th>4</th>\n",
       "      <td>0.0625</td>\n",
       "    </tr>\n",
       "    <tr>\n",
       "      <th>5</th>\n",
       "      <td>0.03125</td>\n",
       "    </tr>\n",
       "    <tr>\n",
       "      <th>6</th>\n",
       "      <td>0.015625</td>\n",
       "    </tr>\n",
       "    <tr>\n",
       "      <th>7</th>\n",
       "      <td>0.0078125</td>\n",
       "    </tr>\n",
       "    <tr>\n",
       "      <th>8</th>\n",
       "      <td>0.00390625</td>\n",
       "    </tr>\n",
       "    <tr>\n",
       "      <th>9</th>\n",
       "      <td>0.00195313</td>\n",
       "    </tr>\n",
       "  </tbody>\n",
       "</table>\n",
       "</div>"
      ],
      "text/plain": [
       "    pNPA (mM)\n",
       "0           1\n",
       "1         0.5\n",
       "2        0.25\n",
       "3       0.125\n",
       "4      0.0625\n",
       "5     0.03125\n",
       "6    0.015625\n",
       "7   0.0078125\n",
       "8  0.00390625\n",
       "9  0.00195313"
      ]
     },
     "execution_count": 151,
     "metadata": {},
     "output_type": "execute_result"
    }
   ],
   "source": [
    "MM_df = pd.DataFrame()\n",
    "MM_df['pNPA (mM)'] = chym_df.columns\n",
    "MM_df"
   ]
  },
  {
   "cell_type": "code",
   "execution_count": 152,
   "id": "0c382448",
   "metadata": {},
   "outputs": [],
   "source": [
    "slope, _, _, _, _ = stats.linregress(xdata, ydata)"
   ]
  },
  {
   "cell_type": "code",
   "execution_count": 153,
   "id": "17e79414",
   "metadata": {},
   "outputs": [
    {
     "data": {
      "text/plain": [
       "[0.0005571428571428576,\n",
       " 0.0005392857142857137,\n",
       " 0.0005000000000000004,\n",
       " 0.00045000000000000004,\n",
       " 0.0005107142857142859,\n",
       " 0.0004928571428571429,\n",
       " 0.00035714285714285703,\n",
       " 0.00022857142857142857,\n",
       " 0.00011071428571428571,\n",
       " 7.142857142857142e-05]"
      ]
     },
     "execution_count": 153,
     "metadata": {},
     "output_type": "execute_result"
    }
   ],
   "source": [
    "slopes = []\n",
    "for column in chym_df.columns:\n",
    "    slope, _, _, _, _ = stats.linregress(chym_df.index, chym_df[column])\n",
    "    slopes.append(slope)\n",
    "    \n",
    "slopes"
   ]
  },
  {
   "cell_type": "code",
   "execution_count": 154,
   "id": "819f96e3",
   "metadata": {},
   "outputs": [
    {
     "data": {
      "text/html": [
       "<div>\n",
       "<style scoped>\n",
       "    .dataframe tbody tr th:only-of-type {\n",
       "        vertical-align: middle;\n",
       "    }\n",
       "\n",
       "    .dataframe tbody tr th {\n",
       "        vertical-align: top;\n",
       "    }\n",
       "\n",
       "    .dataframe thead th {\n",
       "        text-align: right;\n",
       "    }\n",
       "</style>\n",
       "<table border=\"1\" class=\"dataframe\">\n",
       "  <thead>\n",
       "    <tr style=\"text-align: right;\">\n",
       "      <th></th>\n",
       "      <th>pNPA (mM)</th>\n",
       "      <th>slopes</th>\n",
       "    </tr>\n",
       "  </thead>\n",
       "  <tbody>\n",
       "    <tr>\n",
       "      <th>0</th>\n",
       "      <td>1</td>\n",
       "      <td>0.000557</td>\n",
       "    </tr>\n",
       "    <tr>\n",
       "      <th>1</th>\n",
       "      <td>0.5</td>\n",
       "      <td>0.000539</td>\n",
       "    </tr>\n",
       "    <tr>\n",
       "      <th>2</th>\n",
       "      <td>0.25</td>\n",
       "      <td>0.000500</td>\n",
       "    </tr>\n",
       "    <tr>\n",
       "      <th>3</th>\n",
       "      <td>0.125</td>\n",
       "      <td>0.000450</td>\n",
       "    </tr>\n",
       "    <tr>\n",
       "      <th>4</th>\n",
       "      <td>0.0625</td>\n",
       "      <td>0.000511</td>\n",
       "    </tr>\n",
       "    <tr>\n",
       "      <th>5</th>\n",
       "      <td>0.03125</td>\n",
       "      <td>0.000493</td>\n",
       "    </tr>\n",
       "    <tr>\n",
       "      <th>6</th>\n",
       "      <td>0.015625</td>\n",
       "      <td>0.000357</td>\n",
       "    </tr>\n",
       "    <tr>\n",
       "      <th>7</th>\n",
       "      <td>0.0078125</td>\n",
       "      <td>0.000229</td>\n",
       "    </tr>\n",
       "    <tr>\n",
       "      <th>8</th>\n",
       "      <td>0.00390625</td>\n",
       "      <td>0.000111</td>\n",
       "    </tr>\n",
       "    <tr>\n",
       "      <th>9</th>\n",
       "      <td>0.00195313</td>\n",
       "      <td>0.000071</td>\n",
       "    </tr>\n",
       "  </tbody>\n",
       "</table>\n",
       "</div>"
      ],
      "text/plain": [
       "    pNPA (mM)    slopes\n",
       "0           1  0.000557\n",
       "1         0.5  0.000539\n",
       "2        0.25  0.000500\n",
       "3       0.125  0.000450\n",
       "4      0.0625  0.000511\n",
       "5     0.03125  0.000493\n",
       "6    0.015625  0.000357\n",
       "7   0.0078125  0.000229\n",
       "8  0.00390625  0.000111\n",
       "9  0.00195313  0.000071"
      ]
     },
     "execution_count": 154,
     "metadata": {},
     "output_type": "execute_result"
    }
   ],
   "source": [
    "MM_df['slopes'] = slopes\n",
    "MM_df"
   ]
  },
  {
   "cell_type": "code",
   "execution_count": 155,
   "id": "f259a0d8",
   "metadata": {},
   "outputs": [
    {
     "data": {
      "text/html": [
       "<div>\n",
       "<style scoped>\n",
       "    .dataframe tbody tr th:only-of-type {\n",
       "        vertical-align: middle;\n",
       "    }\n",
       "\n",
       "    .dataframe tbody tr th {\n",
       "        vertical-align: top;\n",
       "    }\n",
       "\n",
       "    .dataframe thead th {\n",
       "        text-align: right;\n",
       "    }\n",
       "</style>\n",
       "<table border=\"1\" class=\"dataframe\">\n",
       "  <thead>\n",
       "    <tr style=\"text-align: right;\">\n",
       "      <th></th>\n",
       "      <th>slopes</th>\n",
       "    </tr>\n",
       "    <tr>\n",
       "      <th>pNPA (mM)</th>\n",
       "      <th></th>\n",
       "    </tr>\n",
       "  </thead>\n",
       "  <tbody>\n",
       "    <tr>\n",
       "      <th>1</th>\n",
       "      <td>0.000557</td>\n",
       "    </tr>\n",
       "    <tr>\n",
       "      <th>0.5</th>\n",
       "      <td>0.000539</td>\n",
       "    </tr>\n",
       "    <tr>\n",
       "      <th>0.25</th>\n",
       "      <td>0.000500</td>\n",
       "    </tr>\n",
       "    <tr>\n",
       "      <th>0.125</th>\n",
       "      <td>0.000450</td>\n",
       "    </tr>\n",
       "    <tr>\n",
       "      <th>0.0625</th>\n",
       "      <td>0.000511</td>\n",
       "    </tr>\n",
       "  </tbody>\n",
       "</table>\n",
       "</div>"
      ],
      "text/plain": [
       "             slopes\n",
       "pNPA (mM)          \n",
       "1          0.000557\n",
       "0.5        0.000539\n",
       "0.25       0.000500\n",
       "0.125      0.000450\n",
       "0.0625     0.000511"
      ]
     },
     "execution_count": 155,
     "metadata": {},
     "output_type": "execute_result"
    }
   ],
   "source": [
    "MM_df.set_index('pNPA (mM)', inplace=True)\n",
    "MM_df.head()"
   ]
  },
  {
   "cell_type": "code",
   "execution_count": 157,
   "id": "db23cb90",
   "metadata": {},
   "outputs": [
    {
     "data": {
      "text/html": [
       "<div>\n",
       "<style scoped>\n",
       "    .dataframe tbody tr th:only-of-type {\n",
       "        vertical-align: middle;\n",
       "    }\n",
       "\n",
       "    .dataframe tbody tr th {\n",
       "        vertical-align: top;\n",
       "    }\n",
       "\n",
       "    .dataframe thead th {\n",
       "        text-align: right;\n",
       "    }\n",
       "</style>\n",
       "<table border=\"1\" class=\"dataframe\">\n",
       "  <thead>\n",
       "    <tr style=\"text-align: right;\">\n",
       "      <th></th>\n",
       "      <th>slopes</th>\n",
       "      <th>initial velocities</th>\n",
       "    </tr>\n",
       "    <tr>\n",
       "      <th>pNPA (mM)</th>\n",
       "      <th></th>\n",
       "      <th></th>\n",
       "    </tr>\n",
       "  </thead>\n",
       "  <tbody>\n",
       "    <tr>\n",
       "      <th>1</th>\n",
       "      <td>0.000557</td>\n",
       "      <td>3.041173e-08</td>\n",
       "    </tr>\n",
       "    <tr>\n",
       "      <th>0.5</th>\n",
       "      <td>0.000539</td>\n",
       "      <td>2.943699e-08</td>\n",
       "    </tr>\n",
       "    <tr>\n",
       "      <th>0.25</th>\n",
       "      <td>0.000500</td>\n",
       "      <td>2.729258e-08</td>\n",
       "    </tr>\n",
       "    <tr>\n",
       "      <th>0.125</th>\n",
       "      <td>0.000450</td>\n",
       "      <td>2.456332e-08</td>\n",
       "    </tr>\n",
       "    <tr>\n",
       "      <th>0.0625</th>\n",
       "      <td>0.000511</td>\n",
       "      <td>2.787742e-08</td>\n",
       "    </tr>\n",
       "    <tr>\n",
       "      <th>0.03125</th>\n",
       "      <td>0.000493</td>\n",
       "      <td>2.690268e-08</td>\n",
       "    </tr>\n",
       "    <tr>\n",
       "      <th>0.015625</th>\n",
       "      <td>0.000357</td>\n",
       "      <td>1.949470e-08</td>\n",
       "    </tr>\n",
       "    <tr>\n",
       "      <th>0.0078125</th>\n",
       "      <td>0.000229</td>\n",
       "      <td>1.247661e-08</td>\n",
       "    </tr>\n",
       "    <tr>\n",
       "      <th>0.00390625</th>\n",
       "      <td>0.000111</td>\n",
       "      <td>6.043356e-09</td>\n",
       "    </tr>\n",
       "    <tr>\n",
       "      <th>0.00195313</th>\n",
       "      <td>0.000071</td>\n",
       "      <td>3.898939e-09</td>\n",
       "    </tr>\n",
       "  </tbody>\n",
       "</table>\n",
       "</div>"
      ],
      "text/plain": [
       "              slopes  initial velocities\n",
       "pNPA (mM)                               \n",
       "1           0.000557        3.041173e-08\n",
       "0.5         0.000539        2.943699e-08\n",
       "0.25        0.000500        2.729258e-08\n",
       "0.125       0.000450        2.456332e-08\n",
       "0.0625      0.000511        2.787742e-08\n",
       "0.03125     0.000493        2.690268e-08\n",
       "0.015625    0.000357        1.949470e-08\n",
       "0.0078125   0.000229        1.247661e-08\n",
       "0.00390625  0.000111        6.043356e-09\n",
       "0.00195313  0.000071        3.898939e-09"
      ]
     },
     "execution_count": 157,
     "metadata": {},
     "output_type": "execute_result"
    }
   ],
   "source": [
    "MM_df['initial velocities'] = MM_df['slopes'] / 18320\n",
    "MM_df"
   ]
  },
  {
   "cell_type": "code",
   "execution_count": 159,
   "id": "d28f1ead",
   "metadata": {},
   "outputs": [],
   "source": [
    "outputfile = os.path.join('data', 'MM_data.csv')\n",
    "MM_df.to_csv(outputfile)"
   ]
  },
  {
   "cell_type": "code",
   "execution_count": 160,
   "id": "066d3ed8",
   "metadata": {},
   "outputs": [],
   "source": [
    "# Import the libraries and functions needed including curve_fit from scipy\n",
    "import os\n",
    "import pandas as pd\n",
    "import numpy as mp\n",
    "import matplotlib.pyplot as plt\n",
    "from scipy.optimize import curve_fit"
   ]
  },
  {
   "cell_type": "code",
   "execution_count": 161,
   "id": "ccd21b67",
   "metadata": {},
   "outputs": [
    {
     "data": {
      "text/html": [
       "<div>\n",
       "<style scoped>\n",
       "    .dataframe tbody tr th:only-of-type {\n",
       "        vertical-align: middle;\n",
       "    }\n",
       "\n",
       "    .dataframe tbody tr th {\n",
       "        vertical-align: top;\n",
       "    }\n",
       "\n",
       "    .dataframe thead th {\n",
       "        text-align: right;\n",
       "    }\n",
       "</style>\n",
       "<table border=\"1\" class=\"dataframe\">\n",
       "  <thead>\n",
       "    <tr style=\"text-align: right;\">\n",
       "      <th></th>\n",
       "      <th>pNPA (mM)</th>\n",
       "      <th>slopes</th>\n",
       "      <th>initial velocities</th>\n",
       "    </tr>\n",
       "  </thead>\n",
       "  <tbody>\n",
       "    <tr>\n",
       "      <th>0</th>\n",
       "      <td>1.0000</td>\n",
       "      <td>0.000557</td>\n",
       "      <td>3.041173e-08</td>\n",
       "    </tr>\n",
       "    <tr>\n",
       "      <th>1</th>\n",
       "      <td>0.5000</td>\n",
       "      <td>0.000539</td>\n",
       "      <td>2.943699e-08</td>\n",
       "    </tr>\n",
       "    <tr>\n",
       "      <th>2</th>\n",
       "      <td>0.2500</td>\n",
       "      <td>0.000500</td>\n",
       "      <td>2.729258e-08</td>\n",
       "    </tr>\n",
       "    <tr>\n",
       "      <th>3</th>\n",
       "      <td>0.1250</td>\n",
       "      <td>0.000450</td>\n",
       "      <td>2.456332e-08</td>\n",
       "    </tr>\n",
       "    <tr>\n",
       "      <th>4</th>\n",
       "      <td>0.0625</td>\n",
       "      <td>0.000511</td>\n",
       "      <td>2.787742e-08</td>\n",
       "    </tr>\n",
       "  </tbody>\n",
       "</table>\n",
       "</div>"
      ],
      "text/plain": [
       "   pNPA (mM)    slopes  initial velocities\n",
       "0     1.0000  0.000557        3.041173e-08\n",
       "1     0.5000  0.000539        2.943699e-08\n",
       "2     0.2500  0.000500        2.729258e-08\n",
       "3     0.1250  0.000450        2.456332e-08\n",
       "4     0.0625  0.000511        2.787742e-08"
      ]
     },
     "execution_count": 161,
     "metadata": {},
     "output_type": "execute_result"
    }
   ],
   "source": [
    "# Set up a pandas df from the MM_data.csv file saved from the previous mod\n",
    "# create the filehandle\n",
    "datafile = os.path.join('data', 'MM_data.csv')\n",
    "\n",
    "#import the data\n",
    "rates_df = pd.read_csv(datafile)\n",
    "\n",
    "# inspect the data to make sure the subconc and Vi are included\n",
    "rates_df.head()"
   ]
  },
  {
   "cell_type": "code",
   "execution_count": 162,
   "id": "6ec057ff",
   "metadata": {},
   "outputs": [
    {
     "data": {
      "text/plain": [
       "[<matplotlib.lines.Line2D at 0x1379de520>]"
      ]
     },
     "execution_count": 162,
     "metadata": {},
     "output_type": "execute_result"
    },
    {
     "data": {
      "image/png": "[encoded data removed]",
      "text/plain": [
       "<Figure size 432x288 with 1 Axes>"
      ]
     },
     "metadata": {
      "needs_background": "light"
     },
     "output_type": "display_data"
    }
   ],
   "source": [
    "# Creating independent and dependent variables for curve fitting\n",
    "ydata = rates_df['initial velocities']\n",
    "xdata = rates_df['pNPA (mM)']\n",
    "\n",
    "# Inspect data to make sure it looks like Michaelis-Menten plot\n",
    "plt.plot(xdata, ydata, 'o', label='data')"
   ]
  },
  {
   "cell_type": "code",
   "execution_count": 163,
   "id": "91e50a40",
   "metadata": {},
   "outputs": [
    {
     "ename": "SyntaxError",
     "evalue": "invalid syntax (3327147189.py, line 2)",
     "output_type": "error",
     "traceback": [
      "\u001b[0;36m  Input \u001b[0;32mIn [163]\u001b[0;36m\u001b[0m\n\u001b[0;31m    ** function body code **\u001b[0m\n\u001b[0m    ^\u001b[0m\n\u001b[0;31mSyntaxError\u001b[0m\u001b[0;31m:\u001b[0m invalid syntax\n"
     ]
    }
   ],
   "source": [
    "def function_name(independent_variable, parameter1, parameter2):\n",
    "    ** function body code **\n",
    "    return value_to_return"
   ]
  },
  {
   "cell_type": "code",
   "execution_count": 164,
   "id": "d4143c17",
   "metadata": {},
   "outputs": [
    {
     "data": {
      "text/plain": [
       "0    50.000000\n",
       "1    33.333333\n",
       "2    20.000000\n",
       "3    11.111111\n",
       "4     5.882353\n",
       "5     3.030303\n",
       "6     1.538462\n",
       "7     0.775194\n",
       "8     0.389105\n",
       "9     0.194932\n",
       "Name: pNPA (mM), dtype: float64"
      ]
     },
     "execution_count": 164,
     "metadata": {},
     "output_type": "execute_result"
    }
   ],
   "source": [
    "# Create a functionfor the equation you want to fit. Function should accept as inputs the independednt variable(s)\n",
    "# and all the parameters to be fit\n",
    "\n",
    "def MM(SubConc, Vmax, Km):\n",
    "    Vi = Vmax * SubConc/(Km + SubConc)\n",
    "    return Vi\n",
    "\n",
    "# Test the function to see if it produced the expected output.\n",
    "\n",
    "MM(rates_df['pNPA (mM)'], 100, 1)"
   ]
  },
  {
   "cell_type": "code",
   "execution_count": 165,
   "id": "014f8c86",
   "metadata": {},
   "outputs": [
    {
     "ename": "TypeError",
     "evalue": "'DataFrame' object is not callable",
     "output_type": "error",
     "traceback": [
      "\u001b[0;31m---------------------------------------------------------------------------\u001b[0m",
      "\u001b[0;31mTypeError\u001b[0m                                 Traceback (most recent call last)",
      "Input \u001b[0;32mIn [165]\u001b[0m, in \u001b[0;36m<cell line: 2>\u001b[0;34m()\u001b[0m\n\u001b[1;32m      1\u001b[0m \u001b[38;5;66;03m# Common errors and how to read them:\u001b[39;00m\n\u001b[0;32m----> 2\u001b[0m ydata \u001b[38;5;241m=\u001b[39m \u001b[43mrates_df\u001b[49m\u001b[43m(\u001b[49m\u001b[38;5;124;43m'\u001b[39;49m\u001b[38;5;124;43minitial velocities \u001b[39;49m\u001b[38;5;124;43m'\u001b[39;49m\u001b[43m)\u001b[49m\n",
      "\u001b[0;31mTypeError\u001b[0m: 'DataFrame' object is not callable"
     ]
    }
   ],
   "source": [
    "# Common errors and how to read them:\n",
    "ydata = rates_df('initial velocities ')\n",
    "# the dataframe is not callable since we used parentheses \n",
    "# stack overflow and geeksforgeeks"
   ]
  },
  {
   "cell_type": "code",
   "execution_count": 166,
   "id": "2b10d954",
   "metadata": {},
   "outputs": [],
   "source": [
    "def MM(SubConc, Vmax, Km):\n",
    "    Vi = Vmax * SubConc/(Km + SubConc)\n",
    "    return Vi"
   ]
  },
  {
   "cell_type": "code",
   "execution_count": 167,
   "id": "4ea4cf4d",
   "metadata": {},
   "outputs": [],
   "source": [
    "# Use the function curve_fit to fit your data.\n",
    "popt, pcov = curve_fit(MM, xdata, ydata)"
   ]
  },
  {
   "cell_type": "code",
   "execution_count": 168,
   "id": "5168abe9",
   "metadata": {},
   "outputs": [
    {
     "name": "stdout",
     "output_type": "stream",
     "text": [
      "Vmax for this reaction: 3.002955719615572e-08 +/- 1.2204877486552083e-09\n",
      "Km for this reaction: 0.009722914551383287 +/- 0.0019727230828076358\n"
     ]
    }
   ],
   "source": [
    "# Extract the fit parameters from the output of curve_fit.\n",
    "Vmax = popt[0]\n",
    "Km = popt[1]\n",
    "\n",
    "# Extract one standard deviation for each parameter\n",
    "stdev = np.sqrt(np.diag(pcov)) # returns one standard deviation for each parameter\n",
    "print('Vmax for this reaction:', Vmax, '+/-', stdev[0])\n",
    "print(\"Km for this reaction:\", Km, '+/-', stdev[1])"
   ]
  },
  {
   "cell_type": "code",
   "execution_count": 169,
   "id": "6ff00cd5",
   "metadata": {},
   "outputs": [
    {
     "ename": "NameError",
     "evalue": "name 'VMAX' is not defined",
     "output_type": "error",
     "traceback": [
      "\u001b[0;31m---------------------------------------------------------------------------\u001b[0m",
      "\u001b[0;31mNameError\u001b[0m                                 Traceback (most recent call last)",
      "Input \u001b[0;32mIn [169]\u001b[0m, in \u001b[0;36m<cell line: 1>\u001b[0;34m()\u001b[0m\n\u001b[0;32m----> 1\u001b[0m \u001b[38;5;28mprint\u001b[39m(\u001b[38;5;124mf\u001b[39m\u001b[38;5;124m'\u001b[39m\u001b[38;5;124mVmax for this reaction: \u001b[39m\u001b[38;5;132;01m{\u001b[39;00mVMAX\u001b[38;5;132;01m:\u001b[39;00m\u001b[38;5;124m.2f\u001b[39m\u001b[38;5;132;01m}\u001b[39;00m\u001b[38;5;124m +/- \u001b[39m\u001b[38;5;132;01m{\u001b[39;00mstdev[\u001b[38;5;241m0\u001b[39m]\u001b[38;5;132;01m:\u001b[39;00m\u001b[38;5;124m.2f\u001b[39m\u001b[38;5;132;01m}\u001b[39;00m\u001b[38;5;124m'\u001b[39m)\n",
      "\u001b[0;31mNameError\u001b[0m: name 'VMAX' is not defined"
     ]
    }
   ],
   "source": [
    "print(f'Vmax for this reaction: {VMAX:.2f} +/- {stdev[0]:.2f}')\n",
    "\n",
    "# I think this error has something to do with the quotes, how do I add the end quote by only adding one, not two '' \n",
    "# that automatically generate?"
   ]
  },
  {
   "cell_type": "code",
   "execution_count": 170,
   "id": "9b57cdfb",
   "metadata": {},
   "outputs": [
    {
     "name": "stdout",
     "output_type": "stream",
     "text": [
      "Vmax for this reaction: 0.00 +/- 0.00\n"
     ]
    }
   ],
   "source": [
    "print(f'Vmax for this reaction: {Vmax:.2f} +/- {stdev[0]:.2f}')"
   ]
  },
  {
   "cell_type": "code",
   "execution_count": 171,
   "id": "0d85bb04",
   "metadata": {},
   "outputs": [
    {
     "name": "stdout",
     "output_type": "stream",
     "text": [
      "Km for this reaction: 0.000 +/- 0.002\n"
     ]
    }
   ],
   "source": [
    "print(f'Km for this reaction: {Vmax:.3f} +/- {stdev[1]:.3f}')\n",
    "# wooooooooo"
   ]
  },
  {
   "cell_type": "code",
   "execution_count": 172,
   "id": "bc6407f8",
   "metadata": {},
   "outputs": [
    {
     "data": {
      "text/plain": [
       "[<matplotlib.lines.Line2D at 0x137a6b460>]"
      ]
     },
     "execution_count": 172,
     "metadata": {},
     "output_type": "execute_result"
    },
    {
     "data": {
      "image/png": "[encoded data removed]",
      "text/plain": [
       "<Figure size 432x288 with 1 Axes>"
      ]
     },
     "metadata": {
      "needs_background": "light"
     },
     "output_type": "display_data"
    }
   ],
   "source": [
    "fit_y = MM(xdata, Vmax, Km)\n",
    "\n",
    "# Graph the original data and fit equation\n",
    "plt.plot(xdata, ydata, 'o', label='data') # experimental data\n",
    "plt.plot(xdata, fit_y, '-', label='fit') # the fit equation"
   ]
  },
  {
   "cell_type": "code",
   "execution_count": 174,
   "id": "846e39e0",
   "metadata": {},
   "outputs": [
    {
     "data": {
      "text/plain": [
       "<matplotlib.legend.Legend at 0x137a224c0>"
      ]
     },
     "execution_count": 174,
     "metadata": {},
     "output_type": "execute_result"
    },
    {
     "data": {
      "image/png": "[encoded data removed]",
      "text/plain": [
       "<Figure size 432x288 with 1 Axes>"
      ]
     },
     "metadata": {
      "needs_background": "light"
     },
     "output_type": "display_data"
    }
   ],
   "source": [
    "# to generate a smoother fitted curve\n",
    "smooth_x = np.linspace(np.min(xdata), np.max(xdata), 1000) # x value range with 1000 points\n",
    "smooth_y = MM(smooth_x, Vmax, Km) # y values for the 1000 points in smooth_x\n",
    "\n",
    "plt.plot(xdata, ydata, 'bo', label='data') # plot of experimental data\n",
    "plt.plot(smooth_x, smooth_y, 'r', label='fit') #plot of the fit data\n",
    "plt.legend()"
   ]
  },
  {
   "cell_type": "code",
   "execution_count": 176,
   "id": "2802026d",
   "metadata": {},
   "outputs": [
    {
     "data": {
      "text/plain": [
       "Text(7.5, 16, 'Km = 0.01 +/- 0.00')"
      ]
     },
     "execution_count": 176,
     "metadata": {},
     "output_type": "execute_result"
    },
    {
     "data": {
      "image/png": "[encoded data removed]",
      "text/plain": [
       "<Figure size 432x288 with 1 Axes>"
      ]
     },
     "metadata": {
      "needs_background": "light"
     },
     "output_type": "display_data"
    }
   ],
   "source": [
    "# Insert values for $V_{max}$ and $K_m$ with stdev in the white spaces. Change symbol for SubConc to red triangle:\n",
    "smooth_x = np.linspace(np.min(xdata), np.max(xdata), 1000)\n",
    "smooth_y = MM(smooth_x, Vmax, Km)\n",
    "\n",
    "plt.plot(xdata, ydata, 'bo', label='data')\n",
    "plt.plot(smooth_x, smooth_y, 'r', label='fit')\n",
    "plt.legend()\n",
    "\n",
    "plt.xlabel('[pNPA] (mM)') # x axis label\n",
    "plt.ylabel('V$_i$ ($\\mu$M/min)') #y axis label\n",
    "plt.annotate(F'Vmax = {Vmax:.2f} +/- {stdev[0]:.2f}', xy = (7.5, 20))\n",
    "plt.annotate(F'Km = {Km:.2f} +/- {stdev[1]:.2f}', xy = (7.5, 16))"
   ]
  },
  {
   "cell_type": "code",
   "execution_count": null,
   "id": "3c70c134",
   "metadata": {},
   "outputs": [],
   "source": []
  }
 ],
 "metadata": {
  "kernelspec": {
   "display_name": "Python 3 (ipykernel)",
   "language": "python",
   "name": "python3"
  },
  "language_info": {
   "codemirror_mode": {
    "name": "ipython",
    "version": 3
   },
   "file_extension": ".py",
   "mimetype": "text/x-python",
   "name": "python",
   "nbconvert_exporter": "python",
   "pygments_lexer": "ipython3",
   "version": "3.9.12"
  }
 },
 "nbformat": 4,
 "nbformat_minor": 5
}
